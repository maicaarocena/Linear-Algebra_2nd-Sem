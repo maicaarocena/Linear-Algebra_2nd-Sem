{
  "nbformat": 4,
  "nbformat_minor": 0,
  "metadata": {
    "colab": {
      "name": "Activity 1 - Python Fundamentals",
      "provenance": [],
      "collapsed_sections": [],
      "authorship_tag": "ABX9TyMBBqeulN8RYPkOOFwzC7av",
      "include_colab_link": true
    },
    "kernelspec": {
      "name": "python3",
      "display_name": "Python 3"
    },
    "language_info": {
      "name": "python"
    }
  },
  "cells": [
    {
      "cell_type": "markdown",
      "metadata": {
        "id": "view-in-github",
        "colab_type": "text"
      },
      "source": [
        "<a href=\"https://colab.research.google.com/github/maicaarocena/Linear-Algebra_2nd-Sem/blob/main/Activity_1_Python_Fundamentals.ipynb\" target=\"_parent\"><img src=\"https://colab.research.google.com/assets/colab-badge.svg\" alt=\"Open In Colab\"/></a>"
      ]
    },
    {
      "cell_type": "markdown",
      "source": [
        "# Welcome to Python Fundamentals\n",
        "In this module, we are going to establish or review our skills in Python programming. In this notebook we are going to cover:\n",
        "* Variables and Data Types \n",
        "* Operations\n",
        "* Input and Output Operations\n",
        "* Logic Control\n",
        "* Iterables\n",
        "* Functions"
      ],
      "metadata": {
        "id": "BJ7QIpdour2S"
      }
    },
    {
      "cell_type": "markdown",
      "source": [
        "## Variable and Data Types\n",
        "Variables and data types are the values that change in Python Fundamentals, as the name implies. A variable is a memory location where you store a value in a programming language, and it is created as soon as you assigned a value to it. Meanwhile, the classification or categorizing of data elements is known as data types. It denotes the kind of value that specifies which operations can be performed on a given set of data. Data types are technically classes, and variables are the objects of these classes."
      ],
      "metadata": {
        "id": "DCEEHLpLutzl"
      }
    },
    {
      "cell_type": "code",
      "source": [
        "x = 1\n",
        "a, b = 0, -1\n",
        "b"
      ],
      "metadata": {
        "colab": {
          "base_uri": "https://localhost:8080/"
        },
        "id": "G93Vnu8LvaV_",
        "outputId": "31c42657-b7f0-4b45-b1b0-f9660d8f47f0"
      },
      "execution_count": null,
      "outputs": [
        {
          "output_type": "execute_result",
          "data": {
            "text/plain": [
              "-1"
            ]
          },
          "metadata": {},
          "execution_count": 10
        }
      ]
    },
    {
      "cell_type": "code",
      "source": [
        "type(x)\n",
        "int"
      ],
      "metadata": {
        "colab": {
          "base_uri": "https://localhost:8080/"
        },
        "id": "_JtVfBtTv0R8",
        "outputId": "0349689c-cc08-4928-c2ef-7cb3c5f58fd9"
      },
      "execution_count": null,
      "outputs": [
        {
          "output_type": "execute_result",
          "data": {
            "text/plain": [
              "int"
            ]
          },
          "metadata": {},
          "execution_count": 11
        }
      ]
    },
    {
      "cell_type": "code",
      "source": [
        "y = 1.0\n",
        "type (y)"
      ],
      "metadata": {
        "colab": {
          "base_uri": "https://localhost:8080/"
        },
        "id": "cOxdh4nAv7MM",
        "outputId": "c0b11f36-1715-4657-dbca-b34ec98c3cd9"
      },
      "execution_count": null,
      "outputs": [
        {
          "output_type": "execute_result",
          "data": {
            "text/plain": [
              "float"
            ]
          },
          "metadata": {},
          "execution_count": 13
        }
      ]
    },
    {
      "cell_type": "code",
      "source": [
        "x = float(x)\n",
        "type (x)"
      ],
      "metadata": {
        "colab": {
          "base_uri": "https://localhost:8080/"
        },
        "id": "hjZzCmcdwFWQ",
        "outputId": "313a5583-8b96-40f1-bb09-531bb9c49b8e"
      },
      "execution_count": null,
      "outputs": [
        {
          "output_type": "execute_result",
          "data": {
            "text/plain": [
              "float"
            ]
          },
          "metadata": {},
          "execution_count": 14
        }
      ]
    },
    {
      "cell_type": "code",
      "source": [
        "s, t, u = \"0\", '1', 'one'\n",
        "type (u)"
      ],
      "metadata": {
        "colab": {
          "base_uri": "https://localhost:8080/"
        },
        "id": "y11AtgpMwteA",
        "outputId": "2f6e88d6-42da-4340-a877-50069f8a5f68"
      },
      "execution_count": null,
      "outputs": [
        {
          "output_type": "execute_result",
          "data": {
            "text/plain": [
              "str"
            ]
          },
          "metadata": {},
          "execution_count": 16
        }
      ]
    },
    {
      "cell_type": "code",
      "source": [
        "s_int = int(s)\n",
        "s_int"
      ],
      "metadata": {
        "colab": {
          "base_uri": "https://localhost:8080/"
        },
        "id": "3dWglgNMw-02",
        "outputId": "1f3356d1-40a4-426a-fb2e-2c0becf5c167"
      },
      "execution_count": null,
      "outputs": [
        {
          "output_type": "execute_result",
          "data": {
            "text/plain": [
              "0"
            ]
          },
          "metadata": {},
          "execution_count": 20
        }
      ]
    },
    {
      "cell_type": "markdown",
      "source": [
        "## Operations"
      ],
      "metadata": {
        "id": "LisKOsWSx9MX"
      }
    },
    {
      "cell_type": "markdown",
      "source": [
        "### Arithmetic\n",
        "Mathematical operations such as addition, subtraction, multiplication, division, floor division, exponentiation and modulo are performed using arithmetic operators."
      ],
      "metadata": {
        "id": "a91jM1PRyNab"
      }
    },
    {
      "cell_type": "code",
      "source": [
        "a, b, c, d = 2.0, -0.5, 0, -32"
      ],
      "metadata": {
        "id": "nepawzl0ySW3"
      },
      "execution_count": null,
      "outputs": []
    },
    {
      "cell_type": "markdown",
      "source": [
        "####Addition\n",
        "This operation denotes (+) which adds values on either side of the operator."
      ],
      "metadata": {
        "id": "05ldCgbbJhO3"
      }
    },
    {
      "cell_type": "code",
      "source": [
        "### Addition\n",
        "S = a+b\n",
        "S"
      ],
      "metadata": {
        "colab": {
          "base_uri": "https://localhost:8080/"
        },
        "id": "4gSsTyI8yhQo",
        "outputId": "26eafb22-333e-47f6-c0b2-03678606c660"
      },
      "execution_count": null,
      "outputs": [
        {
          "output_type": "execute_result",
          "data": {
            "text/plain": [
              "1.5"
            ]
          },
          "metadata": {},
          "execution_count": 2
        }
      ]
    },
    {
      "cell_type": "markdown",
      "source": [
        "####Subtraction\n",
        "Represented by (-), this operation subtracts right hand operand from left hand operand."
      ],
      "metadata": {
        "id": "eWmqgy0uJpQB"
      }
    },
    {
      "cell_type": "code",
      "source": [
        "### Subtraction\n",
        "D = b-d\n",
        "D"
      ],
      "metadata": {
        "colab": {
          "base_uri": "https://localhost:8080/"
        },
        "id": "VCijlEvTy21J",
        "outputId": "128d2957-76a3-4a89-8682-49da1198feb4"
      },
      "execution_count": null,
      "outputs": [
        {
          "output_type": "execute_result",
          "data": {
            "text/plain": [
              "31.5"
            ]
          },
          "metadata": {},
          "execution_count": 3
        }
      ]
    },
    {
      "cell_type": "markdown",
      "source": [
        "####Multiplication\n",
        "Using the symbol (*), this operation multiplies values on both sides of the operator."
      ],
      "metadata": {
        "id": "CHLdTD9vJyU4"
      }
    },
    {
      "cell_type": "code",
      "source": [
        "### Multiplication\n",
        "P = a*d\n",
        "P"
      ],
      "metadata": {
        "colab": {
          "base_uri": "https://localhost:8080/"
        },
        "id": "Wql1Qy9IzL4k",
        "outputId": "1a41b4c2-6444-4f3b-d980-e14cbbeec7eb"
      },
      "execution_count": null,
      "outputs": [
        {
          "output_type": "execute_result",
          "data": {
            "text/plain": [
              "-64.0"
            ]
          },
          "metadata": {},
          "execution_count": 4
        }
      ]
    },
    {
      "cell_type": "markdown",
      "source": [
        "####Division\n",
        "The division operator in Python is (/). When the first operand is divided by the second, it is utilized to find the quotient."
      ],
      "metadata": {
        "id": "a0ntOQFDJ25_"
      }
    },
    {
      "cell_type": "code",
      "source": [
        "### Division\n",
        "Q = c/a\n",
        "Q"
      ],
      "metadata": {
        "colab": {
          "base_uri": "https://localhost:8080/"
        },
        "id": "6midICytzgRU",
        "outputId": "a87af660-d341-4f0c-9133-e586921b172e"
      },
      "execution_count": null,
      "outputs": [
        {
          "output_type": "execute_result",
          "data": {
            "text/plain": [
              "0.0"
            ]
          },
          "metadata": {},
          "execution_count": 5
        }
      ]
    },
    {
      "cell_type": "markdown",
      "source": [
        "####Floor Division\n",
        "When the first operand is divided by the second, floor division is applied to calculate the floor quotient. This is denoted by the operator (//)."
      ],
      "metadata": {
        "id": "kShyJ3_tJ7VI"
      }
    },
    {
      "cell_type": "code",
      "source": [
        "### Floor Division\n",
        "E = a//b\n",
        "E"
      ],
      "metadata": {
        "colab": {
          "base_uri": "https://localhost:8080/"
        },
        "id": "jS7bw1nuz1dU",
        "outputId": "f4523e80-5423-4332-fb02-5e6b29534443"
      },
      "execution_count": null,
      "outputs": [
        {
          "output_type": "execute_result",
          "data": {
            "text/plain": [
              "-4.0"
            ]
          },
          "metadata": {},
          "execution_count": 6
        }
      ]
    },
    {
      "cell_type": "markdown",
      "source": [
        "####Exponentiation\n",
        "To raise the first operand to the second power, exponentiation is performed through the symbol (**)."
      ],
      "metadata": {
        "id": "iVwHWLvzJ-dA"
      }
    },
    {
      "cell_type": "code",
      "source": [
        "### Exponentiation\n",
        "E = a**b\n",
        "E"
      ],
      "metadata": {
        "colab": {
          "base_uri": "https://localhost:8080/"
        },
        "id": "dFr4UoDb0Lec",
        "outputId": "36ab4b7e-0b60-419b-8112-8dab02ade2cb"
      },
      "execution_count": null,
      "outputs": [
        {
          "output_type": "execute_result",
          "data": {
            "text/plain": [
              "0.7071067811865476"
            ]
          },
          "metadata": {},
          "execution_count": 7
        }
      ]
    },
    {
      "cell_type": "markdown",
      "source": [
        "####Modulo\n",
        "Modulo or Modulus uses the operator (%) that is responsible for dividing left hand operand by right hand operand and returns the remainder."
      ],
      "metadata": {
        "id": "KfZNLUlAKBUw"
      }
    },
    {
      "cell_type": "code",
      "source": [
        "### Modulo\n",
        "mod = d%a\n",
        "mod"
      ],
      "metadata": {
        "colab": {
          "base_uri": "https://localhost:8080/"
        },
        "id": "JX51dWsa05AO",
        "outputId": "9f10a800-0b00-4394-ca36-2a2107a8d49f"
      },
      "execution_count": null,
      "outputs": [
        {
          "output_type": "execute_result",
          "data": {
            "text/plain": [
              "0.0"
            ]
          },
          "metadata": {},
          "execution_count": 8
        }
      ]
    },
    {
      "cell_type": "markdown",
      "source": [
        "### Assignment Operations\n",
        "Assignment operators are used in Python programming to assign values to variables."
      ],
      "metadata": {
        "id": "MeErSxaa1hkw"
      }
    },
    {
      "cell_type": "markdown",
      "source": [
        "####= \n",
        "The equal operation's role is to \"Assign\" the value of the right side of the expression to the operand on the left side."
      ],
      "metadata": {
        "id": "pukm-w8CKg3B"
      }
    },
    {
      "cell_type": "code",
      "source": [
        "G, H, J, K = 0, 100, 2, 2"
      ],
      "metadata": {
        "id": "MsWvZ_--1nJ0"
      },
      "execution_count": null,
      "outputs": []
    },
    {
      "cell_type": "markdown",
      "source": [
        "+=\n",
        "\n",
        "\"Add and Assign\" is designed to add both sides of the operand and the sum will be placed on the left operand."
      ],
      "metadata": {
        "id": "Vl4p-AAVKlSY"
      }
    },
    {
      "cell_type": "code",
      "source": [
        "G += a\n",
        "G"
      ],
      "metadata": {
        "colab": {
          "base_uri": "https://localhost:8080/"
        },
        "id": "IB3OuFdW1w12",
        "outputId": "88079651-ee62-44fc-adbb-12c152a009b5"
      },
      "execution_count": null,
      "outputs": [
        {
          "output_type": "execute_result",
          "data": {
            "text/plain": [
              "2.0"
            ]
          },
          "metadata": {},
          "execution_count": 10
        }
      ]
    },
    {
      "cell_type": "markdown",
      "source": [
        "####-=\n",
        "\"Subtract And\" conducts subtraction to right operand from left operand. The difference would then be assigned to the left operand."
      ],
      "metadata": {
        "id": "HHXc0bMFKvW5"
      }
    },
    {
      "cell_type": "code",
      "source": [
        "H -= d\n",
        "H"
      ],
      "metadata": {
        "colab": {
          "base_uri": "https://localhost:8080/"
        },
        "id": "ohigPROD2SKB",
        "outputId": "fea5a023-562c-44c7-bc35-4e7f4105696c"
      },
      "execution_count": null,
      "outputs": [
        {
          "output_type": "execute_result",
          "data": {
            "text/plain": [
              "132"
            ]
          },
          "metadata": {},
          "execution_count": 11
        }
      ]
    },
    {
      "cell_type": "markdown",
      "source": [
        "####*=\n",
        "\"Multiply And\" operates multiplication to both operands and then the product would be assigned to the left operand."
      ],
      "metadata": {
        "id": "Y7AylGUxKzLU"
      }
    },
    {
      "cell_type": "code",
      "source": [
        "J *= 2\n",
        "J"
      ],
      "metadata": {
        "colab": {
          "base_uri": "https://localhost:8080/"
        },
        "id": "KjtgBpi325w8",
        "outputId": "ab29a932-8e07-4edb-fb7d-cfc514ce4891"
      },
      "execution_count": null,
      "outputs": [
        {
          "output_type": "execute_result",
          "data": {
            "text/plain": [
              "4"
            ]
          },
          "metadata": {},
          "execution_count": 12
        }
      ]
    },
    {
      "cell_type": "markdown",
      "source": [
        "####**=\n",
        "\"Exponent And\" calculates the exponent value of the operands which would then be assigned also to the left operand."
      ],
      "metadata": {
        "id": "_WSSTSHbK2fm"
      }
    },
    {
      "cell_type": "code",
      "source": [
        "K **= 2\n",
        "K"
      ],
      "metadata": {
        "colab": {
          "base_uri": "https://localhost:8080/"
        },
        "id": "btaBg5wC3Nnf",
        "outputId": "3434090a-d230-4c29-a8c2-185a21e7851d"
      },
      "execution_count": null,
      "outputs": [
        {
          "output_type": "execute_result",
          "data": {
            "text/plain": [
              "4"
            ]
          },
          "metadata": {},
          "execution_count": 13
        }
      ]
    },
    {
      "cell_type": "markdown",
      "source": [
        "###Comparators\n",
        "Values are compared using comparison operators. Depending on the condition, it results to either True or False."
      ],
      "metadata": {
        "id": "1jockQCp3olm"
      }
    },
    {
      "cell_type": "code",
      "source": [
        "res_1, res_2, res_3 = 1, 2.0, \"1\"\n",
        "true_val = 1.0"
      ],
      "metadata": {
        "id": "5_jnVs8R3rhb"
      },
      "execution_count": null,
      "outputs": []
    },
    {
      "cell_type": "code",
      "source": [
        "## Equality\n",
        "res_2 == true_val"
      ],
      "metadata": {
        "colab": {
          "base_uri": "https://localhost:8080/"
        },
        "id": "tRKt0cuL38bj",
        "outputId": "0120c3f1-5f79-4ac0-bc84-38d9f8ffa80f"
      },
      "execution_count": null,
      "outputs": [
        {
          "output_type": "execute_result",
          "data": {
            "text/plain": [
              "False"
            ]
          },
          "metadata": {},
          "execution_count": 15
        }
      ]
    },
    {
      "cell_type": "code",
      "source": [
        "## Non-Equality\n",
        "res_2 != true_val"
      ],
      "metadata": {
        "colab": {
          "base_uri": "https://localhost:8080/"
        },
        "id": "MQR440zE4DHE",
        "outputId": "ea3c4f74-bc61-4dbe-e4cc-20f1eb2bbb94"
      },
      "execution_count": null,
      "outputs": [
        {
          "output_type": "execute_result",
          "data": {
            "text/plain": [
              "True"
            ]
          },
          "metadata": {},
          "execution_count": 16
        }
      ]
    },
    {
      "cell_type": "code",
      "source": [
        "## Inequality\n",
        "t1 = res_1 > res_2\n",
        "t2 = res_1 < res_2/2\n",
        "t3 = res_1 >= res_2/2\n",
        "t4 = res_1 <= res_2\n",
        "t4"
      ],
      "metadata": {
        "colab": {
          "base_uri": "https://localhost:8080/"
        },
        "id": "SpDqQvp74Pmn",
        "outputId": "b3046266-74c8-4ce7-9bef-c6f2ab41dbff"
      },
      "execution_count": null,
      "outputs": [
        {
          "output_type": "execute_result",
          "data": {
            "text/plain": [
              "True"
            ]
          },
          "metadata": {},
          "execution_count": 17
        }
      ]
    },
    {
      "cell_type": "markdown",
      "source": [
        "### Logical\n",
        "Logical operators are comprised of:\n",
        "\n",
        "\"AND\" - True if both operands are true\n",
        "\n",
        "\"OR\"  - True if either of the operands is true\n",
        "\n",
        "\"NOT\" - True if the operand is false"
      ],
      "metadata": {
        "id": "NqOTQvc65br_"
      }
    },
    {
      "cell_type": "code",
      "source": [
        "res_1 == true_val"
      ],
      "metadata": {
        "colab": {
          "base_uri": "https://localhost:8080/"
        },
        "id": "0j_iXvlx5ehr",
        "outputId": "6b7cd57a-3ba9-4d85-99d9-bfa36058d125"
      },
      "execution_count": null,
      "outputs": [
        {
          "output_type": "execute_result",
          "data": {
            "text/plain": [
              "True"
            ]
          },
          "metadata": {},
          "execution_count": 18
        }
      ]
    },
    {
      "cell_type": "code",
      "source": [
        "res_1 is true_val"
      ],
      "metadata": {
        "colab": {
          "base_uri": "https://localhost:8080/"
        },
        "id": "5L0asz3J5lxo",
        "outputId": "e729639c-b3df-499f-e299-47ab4a3a5543"
      },
      "execution_count": null,
      "outputs": [
        {
          "output_type": "execute_result",
          "data": {
            "text/plain": [
              "False"
            ]
          },
          "metadata": {},
          "execution_count": 19
        }
      ]
    },
    {
      "cell_type": "code",
      "source": [
        "res_1 is not true_val"
      ],
      "metadata": {
        "colab": {
          "base_uri": "https://localhost:8080/"
        },
        "id": "qW1-ULM35qiP",
        "outputId": "70b7b708-65ed-451b-f45d-358daa49a534"
      },
      "execution_count": null,
      "outputs": [
        {
          "output_type": "execute_result",
          "data": {
            "text/plain": [
              "True"
            ]
          },
          "metadata": {},
          "execution_count": 20
        }
      ]
    },
    {
      "cell_type": "code",
      "source": [
        "p, q = True, False\n",
        "conj = p and q\n",
        "conj"
      ],
      "metadata": {
        "colab": {
          "base_uri": "https://localhost:8080/"
        },
        "id": "D4znkKDv7C9G",
        "outputId": "117543ad-00cb-4c83-9cdd-c1234cf18324"
      },
      "execution_count": null,
      "outputs": [
        {
          "output_type": "execute_result",
          "data": {
            "text/plain": [
              "False"
            ]
          },
          "metadata": {},
          "execution_count": 21
        }
      ]
    },
    {
      "cell_type": "code",
      "source": [
        "p, q = True, False\n",
        "disj = p or q\n",
        "disj\n"
      ],
      "metadata": {
        "colab": {
          "base_uri": "https://localhost:8080/"
        },
        "id": "gDubUo0p7O9P",
        "outputId": "f3a4ea9b-aa16-4a8a-ae81-417331209abf"
      },
      "execution_count": null,
      "outputs": [
        {
          "output_type": "execute_result",
          "data": {
            "text/plain": [
              "True"
            ]
          },
          "metadata": {},
          "execution_count": 22
        }
      ]
    },
    {
      "cell_type": "code",
      "source": [
        "p, q = False, False\n",
        "disj = p or q\n",
        "disj"
      ],
      "metadata": {
        "colab": {
          "base_uri": "https://localhost:8080/"
        },
        "id": "DUBH5epb7eUC",
        "outputId": "6da1a252-3aff-498b-e7a7-7339a35302d8"
      },
      "execution_count": null,
      "outputs": [
        {
          "output_type": "execute_result",
          "data": {
            "text/plain": [
              "False"
            ]
          },
          "metadata": {},
          "execution_count": 23
        }
      ]
    },
    {
      "cell_type": "code",
      "source": [
        "p, q = True, False\n",
        "e = not(q)\n",
        "e"
      ],
      "metadata": {
        "colab": {
          "base_uri": "https://localhost:8080/"
        },
        "id": "5iVC5pu57oJ-",
        "outputId": "228f82e8-1f6d-4fea-fdfa-c7563d226e4f"
      },
      "execution_count": null,
      "outputs": [
        {
          "output_type": "execute_result",
          "data": {
            "text/plain": [
              "True"
            ]
          },
          "metadata": {},
          "execution_count": 24
        }
      ]
    },
    {
      "cell_type": "code",
      "source": [
        "p, q = True, False\n",
        "xor = (not p and q) or (p and not q)\n",
        "xor"
      ],
      "metadata": {
        "colab": {
          "base_uri": "https://localhost:8080/"
        },
        "id": "q_Oww9lX7zBc",
        "outputId": "ece3fc2a-474c-46a9-c67a-3f3ef80b8025"
      },
      "execution_count": null,
      "outputs": [
        {
          "output_type": "execute_result",
          "data": {
            "text/plain": [
              "True"
            ]
          },
          "metadata": {},
          "execution_count": 25
        }
      ]
    },
    {
      "cell_type": "markdown",
      "source": [
        "###I/O\n",
        "Input and Output operators allow you to insert a value into your program that can be printed."
      ],
      "metadata": {
        "id": "LM9WGwFk8HPv"
      }
    },
    {
      "cell_type": "code",
      "source": [
        "print(\"Hello Mars\")"
      ],
      "metadata": {
        "colab": {
          "base_uri": "https://localhost:8080/"
        },
        "id": "uLvZGpXb8Lc-",
        "outputId": "89116355-fd89-4885-c23d-4143eecabff8"
      },
      "execution_count": null,
      "outputs": [
        {
          "output_type": "stream",
          "name": "stdout",
          "text": [
            "Hello Mars\n"
          ]
        }
      ]
    },
    {
      "cell_type": "code",
      "source": [
        "cnt = 1"
      ],
      "metadata": {
        "id": "xiRVWDba8WLt"
      },
      "execution_count": null,
      "outputs": []
    },
    {
      "cell_type": "code",
      "source": [
        "string = \"Hello Mars\"\n",
        "print(string, \"Current run count is:\", cnt)\n",
        "cnt += 1"
      ],
      "metadata": {
        "colab": {
          "base_uri": "https://localhost:8080/"
        },
        "id": "mnfsF-2u8h_J",
        "outputId": "341fe0a6-0b46-4e1d-b479-6264f7a32b26"
      },
      "execution_count": null,
      "outputs": [
        {
          "output_type": "stream",
          "name": "stdout",
          "text": [
            "Hello Mars Current run count is: 1\n"
          ]
        }
      ]
    },
    {
      "cell_type": "code",
      "source": [
        "print(f\"{string} Current count is: {cnt}\")"
      ],
      "metadata": {
        "colab": {
          "base_uri": "https://localhost:8080/"
        },
        "id": "HjvphUBW83l3",
        "outputId": "f2ceaa64-4fba-4775-ee06-cdbe2919e0bf"
      },
      "execution_count": null,
      "outputs": [
        {
          "output_type": "stream",
          "name": "stdout",
          "text": [
            "Hello Mars Current count is: 2\n"
          ]
        }
      ]
    },
    {
      "cell_type": "code",
      "source": [
        "sem_grade = 82\n",
        "name = \"uge\"\n",
        "print(\"Hello {}, your semestral grade is: {}\".format(name, sem_grade))"
      ],
      "metadata": {
        "id": "fN_qpOAT9fN7",
        "outputId": "152f350b-1b4e-44e3-c11d-9ad4a81c3345",
        "colab": {
          "base_uri": "https://localhost:8080/"
        }
      },
      "execution_count": null,
      "outputs": [
        {
          "output_type": "stream",
          "name": "stdout",
          "text": [
            "Hello uge, your semestral grade is: 82\n"
          ]
        }
      ]
    },
    {
      "cell_type": "code",
      "source": [
        "w_pg, w_mg, w_fg = 0.3, 0.3, 0.4\n",
        "print(\"The weights of your semestral grade are:\\\n",
        "\\n\\t{:.2%} for Prelims\\\n",
        "\\n\\t{:.2%} for Misterms, and\\\n",
        "\\n\\t{:.2%} for Finals.\".format(w_pg, w_mg, w_fg))"
      ],
      "metadata": {
        "colab": {
          "base_uri": "https://localhost:8080/"
        },
        "id": "gmJazfLctqnW",
        "outputId": "dffc45bc-8b3b-4d1b-ae2c-ca71e20da1c7"
      },
      "execution_count": null,
      "outputs": [
        {
          "output_type": "stream",
          "name": "stdout",
          "text": [
            "The weights of your semestral grade are:\n",
            "\t30.00% for Prelims\n",
            "\t30.00% for Misterms, and\n",
            "\t40.00% for Finals.\n"
          ]
        }
      ]
    },
    {
      "cell_type": "code",
      "source": [
        "x = input(\"enter a number: \")\n",
        "x"
      ],
      "metadata": {
        "colab": {
          "base_uri": "https://localhost:8080/",
          "height": 53
        },
        "id": "FwSxLax9vs0S",
        "outputId": "24dc4f37-837c-46e9-9ba0-b76773b5fa20"
      },
      "execution_count": null,
      "outputs": [
        {
          "name": "stdout",
          "output_type": "stream",
          "text": [
            "enter a number: 35\n"
          ]
        },
        {
          "output_type": "execute_result",
          "data": {
            "application/vnd.google.colaboratory.intrinsic+json": {
              "type": "string"
            },
            "text/plain": [
              "'35'"
            ]
          },
          "metadata": {},
          "execution_count": 32
        }
      ]
    },
    {
      "cell_type": "code",
      "source": [
        "name = input (\"Kimi mo nawa: \")\n",
        "pg = input (\"Enter prelim grade: \")\n",
        "mg = input (\"Enter midterm grade: \")\n",
        "fg = input (\"Enter final grade: \")\n",
        "sem_grade = None\n",
        "print (\"Hello {}, your semestral grade is: {}\".format(name, sem_grade))"
      ],
      "metadata": {
        "colab": {
          "base_uri": "https://localhost:8080/"
        },
        "id": "1bTefuZBwM2n",
        "outputId": "57c8bde6-73bd-49c6-f674-0a12a169d140"
      },
      "execution_count": null,
      "outputs": [
        {
          "output_type": "stream",
          "name": "stdout",
          "text": [
            "Kimi mo nawa: 80\n",
            "Enter prelim grade: 85\n",
            "Enter midterm grade: 90\n",
            "Enter final grade: 75\n",
            "Hello 80, your semestral grade is: None\n"
          ]
        }
      ]
    },
    {
      "cell_type": "markdown",
      "source": [
        "## Looping Statements"
      ],
      "metadata": {
        "id": "Mkr8d3I0xVot"
      }
    },
    {
      "cell_type": "markdown",
      "source": [
        "## While\n",
        "The while loop is used to repeatedly execute a set of statements until a condition is met."
      ],
      "metadata": {
        "id": "23sXZJAzx0zq"
      }
    },
    {
      "cell_type": "code",
      "source": [
        "## while loops\n",
        "i, j = 0, 10\n",
        "while(i<=j):\n",
        "    print(f\"{i}\\t|\\t{j}\")\n",
        "    i+=1"
      ],
      "metadata": {
        "colab": {
          "base_uri": "https://localhost:8080/"
        },
        "id": "VcBSWbTUx5V8",
        "outputId": "9f8b1b67-cf94-4dda-f2b3-f4d07c375e05"
      },
      "execution_count": null,
      "outputs": [
        {
          "output_type": "stream",
          "name": "stdout",
          "text": [
            "0\t|\t10\n",
            "1\t|\t10\n",
            "2\t|\t10\n",
            "3\t|\t10\n",
            "4\t|\t10\n",
            "5\t|\t10\n",
            "6\t|\t10\n",
            "7\t|\t10\n",
            "8\t|\t10\n",
            "9\t|\t10\n",
            "10\t|\t10\n"
          ]
        }
      ]
    },
    {
      "cell_type": "markdown",
      "source": [
        "##For\n",
        "For Loop is used to perform sequential traversal. It can be used to iterate throughout a set of iterators and a range of values."
      ],
      "metadata": {
        "id": "AOL1RYK5ymWG"
      }
    },
    {
      "cell_type": "code",
      "source": [
        "#for(int i=0; i<10; i++){\n",
        "#print(i)\n",
        "#}\n",
        "\n",
        "i = 0\n",
        "for i in range (10):\n",
        "      print(i)"
      ],
      "metadata": {
        "colab": {
          "base_uri": "https://localhost:8080/"
        },
        "id": "gHS1zljzyqZ0",
        "outputId": "b52d51c3-a8a4-40b6-920c-8958c3d853c1"
      },
      "execution_count": null,
      "outputs": [
        {
          "output_type": "stream",
          "name": "stdout",
          "text": [
            "0\n",
            "1\n",
            "2\n",
            "3\n",
            "4\n",
            "5\n",
            "6\n",
            "7\n",
            "8\n",
            "9\n"
          ]
        }
      ]
    },
    {
      "cell_type": "code",
      "source": [
        "playlist = [\"Crazier\",\"Happier\",\"Bahay-Kubo\"]\n",
        "print('Now PLaying:\\n')\n",
        "for song in playlist:\n",
        "      print(song)"
      ],
      "metadata": {
        "colab": {
          "base_uri": "https://localhost:8080/"
        },
        "id": "SAdh51qyzaV8",
        "outputId": "aecf6624-c08c-4f9a-8e19-193462b697d0"
      },
      "execution_count": null,
      "outputs": [
        {
          "output_type": "stream",
          "name": "stdout",
          "text": [
            "Now PLaying:\n",
            "\n",
            "Crazier\n",
            "Happier\n",
            "Bahay-Kubo\n"
          ]
        }
      ]
    },
    {
      "cell_type": "markdown",
      "source": [
        "#Flow Control\n",
        "Flow Control is a conditional statement that handles the presentation and execution of codes in a given program. This allows the software to continue running until specific conditions are met."
      ],
      "metadata": {
        "id": "75li9KRjz0JU"
      }
    },
    {
      "cell_type": "markdown",
      "source": [
        "##Condition Statements\n",
        "If and Else If statements are used in flow control to perform conditional operation."
      ],
      "metadata": {
        "id": "57DTERWB0AhB"
      }
    },
    {
      "cell_type": "code",
      "source": [
        "numeral1, numeral2 = 13, 14\n",
        "if(numeral1 == numeral2):\n",
        "      print(\"Yey\")\n",
        "elif(numeral1>numeral2):\n",
        "      print(\"Hoho\")\n",
        "else:\n",
        "      print(\"Aww\")"
      ],
      "metadata": {
        "colab": {
          "base_uri": "https://localhost:8080/"
        },
        "id": "iQsqzegR0DY4",
        "outputId": "f0dc0813-daa4-463f-a236-2756f1613c78"
      },
      "execution_count": null,
      "outputs": [
        {
          "output_type": "stream",
          "name": "stdout",
          "text": [
            "Aww\n"
          ]
        }
      ]
    },
    {
      "cell_type": "markdown",
      "source": [
        "## Functions\n",
        "Fuctions are blocks of code which only runs when it is called. In python, \"def\" is used to designate a function."
      ],
      "metadata": {
        "id": "cbsW8yGv1rFL"
      }
    },
    {
      "cell_type": "code",
      "source": [
        "# void DeleteUser(int userid){\n",
        "#     delete(userid);\n",
        "# }\n",
        "\n",
        "def delete_user (userid):\n",
        "    print(\"Successfully deleted user: {}\".format(userid))\n",
        "\n",
        "def delete_all_users ():\n",
        "    print(\"Successfully deleted all users\")"
      ],
      "metadata": {
        "id": "QMeUBEpW1viW"
      },
      "execution_count": null,
      "outputs": []
    },
    {
      "cell_type": "code",
      "source": [
        "userid = \"Maica\"\n",
        "delete_user(\"Maica\")\n",
        "delete_all_users()"
      ],
      "metadata": {
        "colab": {
          "base_uri": "https://localhost:8080/"
        },
        "id": "9nVqACQQ2w3b",
        "outputId": "a22aafe5-ac71-441c-d79c-4273855d93d1"
      },
      "execution_count": null,
      "outputs": [
        {
          "output_type": "stream",
          "name": "stdout",
          "text": [
            "Successfully deleted user: Maica\n",
            "Successfully deleted all users\n"
          ]
        }
      ]
    },
    {
      "cell_type": "code",
      "source": [
        "def add(addend1, addend2):\n",
        "    return addend1 + addend2\n",
        "\n",
        "def power_of_base2(exponent):\n",
        "    return 5**exponent"
      ],
      "metadata": {
        "id": "bTQyffyO3cT9"
      },
      "execution_count": null,
      "outputs": []
    },
    {
      "cell_type": "code",
      "source": [
        "#addend1, adddend2 = 14, 18\n",
        "#add(addend1, addend2)\n",
        "\n",
        "exponent = 4\n",
        "power_of_base2(exponent)"
      ],
      "metadata": {
        "colab": {
          "base_uri": "https://localhost:8080/"
        },
        "id": "_ipylL3k4EqW",
        "outputId": "5dcae198-906e-40a8-c832-32c97daf9fb6"
      },
      "execution_count": null,
      "outputs": [
        {
          "output_type": "execute_result",
          "data": {
            "text/plain": [
              "625"
            ]
          },
          "metadata": {},
          "execution_count": 24
        }
      ]
    },
    {
      "cell_type": "markdown",
      "source": [
        "#Grade Calculator"
      ],
      "metadata": {
        "id": "FO2vklcGLuPq"
      }
    },
    {
      "cell_type": "code",
      "source": [
        "print()\n",
        "name = input('\\tOla! What is your name? ');\n",
        "course = input('\\tWhat is your course? ');\n",
        "prelim = float(input('\\tGive Prelim Grade : '));\n",
        "midterm = float(input('\\tGive Midterm Grade : '));\n",
        "final = float(input('\\tGive Final Grade : '));\n",
        "grade= (prelim) + (midterm) + (final);\n",
        "avg= grade/3;\n",
        "\n",
        "print();\n",
        "print(\"\\t===== DISPLAYING RESULTS =====\");\n",
        "print();\n",
        "print(\"\\tHi,\", name, \"from the course\", course, \"!\");\n",
        "print();\n",
        "if avg > 70:\n",
        "    print(\"\\tYour grade is \\U0001F600\");\n",
        "elif avg == 70:\n",
        "    print(\"\\tYour grade is \\U0001F606\");\n",
        "elif avg < 70:\n",
        "      print(\"\\tYour grade is \\U0001F62D\");\n",
        "print();"
      ],
      "metadata": {
        "colab": {
          "base_uri": "https://localhost:8080/"
        },
        "id": "jE0UQKQHLxlb",
        "outputId": "f999d654-c844-44df-e9eb-ee0c14a7d818"
      },
      "execution_count": 1,
      "outputs": [
        {
          "output_type": "stream",
          "name": "stdout",
          "text": [
            "\n",
            "\tOla! What is your name? Ikay\n",
            "\tWhat is your course? BS in Chemical Engineering\n",
            "\tGive Prelim Grade : 70\n",
            "\tGive Midterm Grade : 75\n",
            "\tGive Final Grade : 65\n",
            "\n",
            "\t===== DISPLAYING RESULTS =====\n",
            "\n",
            "\tHi, Ikay from the course BS in Chemical Engineering !\n",
            "\n",
            "\tYour grade is 😆\n",
            "\n"
          ]
        }
      ]
    }
  ]
}
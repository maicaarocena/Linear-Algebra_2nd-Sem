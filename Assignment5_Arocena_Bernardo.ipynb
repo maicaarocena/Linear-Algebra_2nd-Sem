{
  "nbformat": 4,
  "nbformat_minor": 0,
  "metadata": {
    "colab": {
      "name": "Assignment5_Arocena_Bernardo.ipynb",
      "provenance": [],
      "collapsed_sections": [],
      "authorship_tag": "ABX9TyN0Occ72gOAxZOGeN887Ivc",
      "include_colab_link": true
    },
    "kernelspec": {
      "name": "python3",
      "display_name": "Python 3"
    },
    "language_info": {
      "name": "python"
    }
  },
  "cells": [
    {
      "cell_type": "markdown",
      "metadata": {
        "id": "view-in-github",
        "colab_type": "text"
      },
      "source": [
        "<a href=\"https://colab.research.google.com/github/maicaarocena/Linear-Algebra_2nd-Sem/blob/main/Assignment5_Arocena_Bernardo.ipynb\" target=\"_parent\"><img src=\"https://colab.research.google.com/assets/colab-badge.svg\" alt=\"Open In Colab\"/></a>"
      ]
    },
    {
      "cell_type": "markdown",
      "source": [
        "# Linear Algebra for ChE\n",
        "\n",
        "## Laboratory 6 : Matrix Operations"
      ],
      "metadata": {
        "id": "is2hEK9l8VXS"
      }
    },
    {
      "cell_type": "markdown",
      "source": [
        "We'll try to do the same operations with matrices and even more now that you have a basic understanding of how to describe and operate with vectors and the principles of matrices."
      ],
      "metadata": {
        "id": "XZT47s9TZMXP"
      }
    },
    {
      "cell_type": "markdown",
      "source": [
        "### Objectives\n",
        "At the end of this activity you will be able to:\n",
        "1. Be familiar with the fundamental matrix operations.\n",
        "2. Apply the operations to solve intermediate equations.\n",
        "3. Apply matrix algebra in engineering solutions."
      ],
      "metadata": {
        "id": "FK75X3m1ZPRC"
      }
    },
    {
      "cell_type": "markdown",
      "source": [
        "#Discussion"
      ],
      "metadata": {
        "id": "qlnRSxP68wki"
      }
    },
    {
      "cell_type": "code",
      "source": [
        "import numpy as np\n",
        "import matplotlib.pyplot as plt\n",
        "%matplotlib inline"
      ],
      "metadata": {
        "id": "w3MyTusm8k3H"
      },
      "execution_count": 2,
      "outputs": []
    },
    {
      "cell_type": "markdown",
      "source": [
        "##Transposition\n",
        "One of the fundamental operations in matrix algebra is Transposition. The transpose of a matrix is done by flipping the values of its elements over its diagonals. With this, the rows and columns from the original matrix will be switched. So for matrix A, its transpose is denoted as $A^T$. So for example:"
      ],
      "metadata": {
        "id": "fMhiRK3081qS"
      }
    },
    {
      "cell_type": "markdown",
      "source": [
        ":$$\n",
        "A = \\begin{bmatrix} 8 & 7 & 9 \\\\ 6 & 1 & 2 \\\\ 4 & 8 & 1 \\\\ 0 & -7 & 4\\end{bmatrix} \\\\\n",
        "$$"
      ],
      "metadata": {
        "id": "cofmtvbIBt-Y"
      }
    },
    {
      "cell_type": "markdown",
      "source": [
        ":$$ \n",
        "A^T = \\begin{bmatrix} 8 & 6 & 4 & 0 \\\\ 7 & 1 & 8 & -7 \\\\ 9 & 2 & 1 & 4\\end{bmatrix} \\\\\n",
        "$$"
      ],
      "metadata": {
        "id": "XTyg-W-gFW_W"
      }
    },
    {
      "cell_type": "code",
      "source": [
        "A = np.array([\n",
        "      [3, 4, 5],\n",
        "      [5, -1, 7],\n",
        "      [1, -7, 3],\n",
        "      [-8, 9, 6]\n",
        "])\n",
        "A "
      ],
      "metadata": {
        "colab": {
          "base_uri": "https://localhost:8080/"
        },
        "id": "-50QRxwg-Kee",
        "outputId": "e50de026-30f7-4d5c-bdee-bf70e298bbdb"
      },
      "execution_count": null,
      "outputs": [
        {
          "output_type": "execute_result",
          "data": {
            "text/plain": [
              "array([[ 3,  4,  5],\n",
              "       [ 5, -1,  7],\n",
              "       [ 1, -7,  3],\n",
              "       [-8,  9,  6]])"
            ]
          },
          "metadata": {},
          "execution_count": 11
        }
      ]
    },
    {
      "cell_type": "code",
      "source": [
        "AT1 = np.transpose(A)\n",
        "AT1"
      ],
      "metadata": {
        "colab": {
          "base_uri": "https://localhost:8080/"
        },
        "id": "K_GepCin-PHy",
        "outputId": "3af0ca56-09e9-4e29-d64c-91cdf125128d"
      },
      "execution_count": null,
      "outputs": [
        {
          "output_type": "execute_result",
          "data": {
            "text/plain": [
              "array([[ 3,  5,  1, -8],\n",
              "       [ 4, -1, -7,  9],\n",
              "       [ 5,  7,  3,  6]])"
            ]
          },
          "metadata": {},
          "execution_count": 12
        }
      ]
    },
    {
      "cell_type": "code",
      "source": [
        "AT2 = A.T\n",
        "AT2"
      ],
      "metadata": {
        "colab": {
          "base_uri": "https://localhost:8080/"
        },
        "id": "YhxlxY01-nE5",
        "outputId": "0ef5fb0e-0be2-46e8-c59c-6a958d9fd6e2"
      },
      "execution_count": null,
      "outputs": [
        {
          "output_type": "execute_result",
          "data": {
            "text/plain": [
              "array([[ 3,  5,  1, -8],\n",
              "       [ 4, -1, -7,  9],\n",
              "       [ 5,  7,  3,  6]])"
            ]
          },
          "metadata": {},
          "execution_count": 13
        }
      ]
    },
    {
      "cell_type": "code",
      "source": [
        "np.array_equiv(AT1, AT2)"
      ],
      "metadata": {
        "colab": {
          "base_uri": "https://localhost:8080/"
        },
        "id": "UUxv1rQ5-vhq",
        "outputId": "e518a105-9a22-4b67-93c8-1e87a0700dc7"
      },
      "execution_count": null,
      "outputs": [
        {
          "output_type": "execute_result",
          "data": {
            "text/plain": [
              "True"
            ]
          },
          "metadata": {},
          "execution_count": 14
        }
      ]
    },
    {
      "cell_type": "code",
      "source": [
        "B = np.array([\n",
        "    [10,22,4,5],\n",
        "    [11,10,22,51],\n",
        "    [11,10,12,11],\n",
        "])\n",
        "B.shape"
      ],
      "metadata": {
        "colab": {
          "base_uri": "https://localhost:8080/"
        },
        "id": "uNiaIe-w-2L5",
        "outputId": "597cfd9e-5775-4854-d637-098f68f46d83"
      },
      "execution_count": null,
      "outputs": [
        {
          "output_type": "execute_result",
          "data": {
            "text/plain": [
              "(3, 4)"
            ]
          },
          "metadata": {},
          "execution_count": 15
        }
      ]
    },
    {
      "cell_type": "code",
      "source": [
        "np.transpose(B).shape"
      ],
      "metadata": {
        "colab": {
          "base_uri": "https://localhost:8080/"
        },
        "id": "X99GQ5L5_VoO",
        "outputId": "b1bf830b-8de8-4a7f-db37-1dd63f93028d"
      },
      "execution_count": null,
      "outputs": [
        {
          "output_type": "execute_result",
          "data": {
            "text/plain": [
              "(4, 3)"
            ]
          },
          "metadata": {},
          "execution_count": 16
        }
      ]
    },
    {
      "cell_type": "code",
      "source": [
        "B.T.shape"
      ],
      "metadata": {
        "colab": {
          "base_uri": "https://localhost:8080/"
        },
        "id": "IID1BNaw_ivo",
        "outputId": "0ba3cd82-963f-4562-fa42-ef2deda9e65a"
      },
      "execution_count": null,
      "outputs": [
        {
          "output_type": "execute_result",
          "data": {
            "text/plain": [
              "(4, 3)"
            ]
          },
          "metadata": {},
          "execution_count": 17
        }
      ]
    },
    {
      "cell_type": "markdown",
      "source": [
        "Try to create your own matrix (you can try non-squares) to test transposition"
      ],
      "metadata": {
        "id": "GYy78MXnfg24"
      }
    },
    {
      "cell_type": "code",
      "source": [
        "xeyah = np.array ([\n",
        "                   [3, 14, 9, 5],\n",
        "                   [4, 1,-8, 19],\n",
        "                   [12, -3, 2, 1],\n",
        "                   [5, 0, -18, 4],\n",
        "                   [0, -61, 9, 7]\n",
        "])\n",
        "print('xeyah matrix: \\n',xeyah, '\\n')\n",
        "print('Shape: ',xeyah.shape)"
      ],
      "metadata": {
        "colab": {
          "base_uri": "https://localhost:8080/"
        },
        "id": "Lia3HJntfj2H",
        "outputId": "dfff2e22-749c-452b-f1f3-86ec4e71cfdc"
      },
      "execution_count": 3,
      "outputs": [
        {
          "output_type": "stream",
          "name": "stdout",
          "text": [
            "xeyah matrix: \n",
            " [[  3  14   9   5]\n",
            " [  4   1  -8  19]\n",
            " [ 12  -3   2   1]\n",
            " [  5   0 -18   4]\n",
            " [  0 -61   9   7]] \n",
            "\n",
            "Shape:  (5, 4)\n"
          ]
        }
      ]
    },
    {
      "cell_type": "code",
      "source": [
        "xeyahT2 = xeyah.T\n",
        "xeyahT2"
      ],
      "metadata": {
        "colab": {
          "base_uri": "https://localhost:8080/"
        },
        "id": "kEWhBc43fuYu",
        "outputId": "b7d311bc-3b70-46e0-fc74-bf2378374970"
      },
      "execution_count": 4,
      "outputs": [
        {
          "output_type": "execute_result",
          "data": {
            "text/plain": [
              "array([[  3,   4,  12,   5,   0],\n",
              "       [ 14,   1,  -3,   0, -61],\n",
              "       [  9,  -8,   2, -18,   9],\n",
              "       [  5,  19,   1,   4,   7]])"
            ]
          },
          "metadata": {},
          "execution_count": 4
        }
      ]
    },
    {
      "cell_type": "code",
      "source": [
        "print('Transpose Shape:',xeyah.shape)"
      ],
      "metadata": {
        "colab": {
          "base_uri": "https://localhost:8080/"
        },
        "id": "jdG2iFhzf_kA",
        "outputId": "3d046be0-4515-4a53-9b82-8e88863fc199"
      },
      "execution_count": 5,
      "outputs": [
        {
          "output_type": "stream",
          "name": "stdout",
          "text": [
            "Transpose Shape: (5, 4)\n"
          ]
        }
      ]
    },
    {
      "cell_type": "code",
      "source": [
        "print('Transpose Shape:',np.transpose(xeyah).shape)"
      ],
      "metadata": {
        "colab": {
          "base_uri": "https://localhost:8080/"
        },
        "id": "lsPnjnpLgCxG",
        "outputId": "090cd7d5-8654-41eb-c739-e6ac7b7851b3"
      },
      "execution_count": 6,
      "outputs": [
        {
          "output_type": "stream",
          "name": "stdout",
          "text": [
            "Transpose Shape: (4, 5)\n"
          ]
        }
      ]
    },
    {
      "cell_type": "markdown",
      "source": [
        "##Dot Product"
      ],
      "metadata": {
        "id": "nPAAME1CAWuc"
      }
    },
    {
      "cell_type": "markdown",
      "source": [
        "If you remember the dot product from the laboratory activity, we'll try to do the same thing with matrices. We'll obtain the sum of products of the vectors by row-column pairings in matrix dot product. So, if we have two matrices $X$ and $Y$, we can do the following:\n",
        "\n",
        "$$X = \\begin{bmatrix}x_{(0,0)}&x_{(0,1)}\\\\ x_{(1,0)}&x_{(1,1)}\\end{bmatrix}, Y = \\begin{bmatrix}y_{(0,0)}&y_{(0,1)}\\\\ y_{(1,0)}&y_{(1,1)}\\end{bmatrix}$$\n",
        "\n",
        "The dot product will then be computed as:\n",
        "$$X \\cdot Y= \\begin{bmatrix} x_{(0,0)}*y_{(0,0)} + x_{(0,1)}*y_{(1,0)} & x_{(0,0)}*y_{(0,1)} + x_{(0,1)}*y_{(1,1)} \\\\  x_{(1,0)}*y_{(0,0)} + x_{(1,1)}*y_{(1,0)} & x_{(1,0)}*y_{(0,1)} + x_{(1,1)}*y_{(1,1)}\n",
        "\\end{bmatrix}$$\n",
        "\n",
        "So if we assign values to $X$ and $Y$:\n",
        "$$X = \\begin{bmatrix}1&2\\\\ 0&1\\end{bmatrix}, Y = \\begin{bmatrix}-1&0\\\\ 2&2\\end{bmatrix}$$"
      ],
      "metadata": {
        "id": "l78zPt3UgTl5"
      }
    },
    {
      "cell_type": "markdown",
      "source": [
        "$$X \\cdot Y= \\begin{bmatrix} 1*-1 + 2*2 & 1*0 + 2*2 \\\\  0*-1 + 1*2 & 0*0 + 1*2 \\end{bmatrix} = \\begin{bmatrix} 3 & 4 \\\\2 & 2 \\end{bmatrix}$$\n",
        "\n",
        "\n",
        "This could be achieved programmatically using `np.dot()`, `np.matmul()` or the `@` operator."
      ],
      "metadata": {
        "id": "gqqPv3mpgbyA"
      }
    },
    {
      "cell_type": "code",
      "source": [
        "C = np.array([\n",
        "    [0, 2],\n",
        "    [5, 3],\n",
        "    [4, 0]\n",
        "])\n",
        "T = np.array([\n",
        "    [-2, 8, 0, 3, 9, 4, -1],\n",
        "    [0, -8, 5, 1, 1, 6, 7]\n",
        "])"
      ],
      "metadata": {
        "id": "t4mduWzrAcDs"
      },
      "execution_count": 7,
      "outputs": []
    },
    {
      "cell_type": "code",
      "source": [
        "np.array_equiv(C, T)"
      ],
      "metadata": {
        "colab": {
          "base_uri": "https://localhost:8080/"
        },
        "id": "wtabGogegqoR",
        "outputId": "57301246-117d-4971-bbb0-2469f3139350"
      },
      "execution_count": 8,
      "outputs": [
        {
          "output_type": "execute_result",
          "data": {
            "text/plain": [
              "False"
            ]
          },
          "metadata": {},
          "execution_count": 8
        }
      ]
    },
    {
      "cell_type": "code",
      "source": [
        "np.dot(C,T)"
      ],
      "metadata": {
        "colab": {
          "base_uri": "https://localhost:8080/"
        },
        "id": "lcsKbxoEgy_h",
        "outputId": "2c50b802-aa41-4965-bab2-843e4e913dff"
      },
      "execution_count": 9,
      "outputs": [
        {
          "output_type": "execute_result",
          "data": {
            "text/plain": [
              "array([[  0, -16,  10,   2,   2,  12,  14],\n",
              "       [-10,  16,  15,  18,  48,  38,  16],\n",
              "       [ -8,  32,   0,  12,  36,  16,  -4]])"
            ]
          },
          "metadata": {},
          "execution_count": 9
        }
      ]
    },
    {
      "cell_type": "code",
      "source": [
        "C.dot(T)"
      ],
      "metadata": {
        "colab": {
          "base_uri": "https://localhost:8080/"
        },
        "id": "o987POjzg18D",
        "outputId": "c3f7e198-c926-40f8-e49d-36f70f433392"
      },
      "execution_count": 10,
      "outputs": [
        {
          "output_type": "execute_result",
          "data": {
            "text/plain": [
              "array([[  0, -16,  10,   2,   2,  12,  14],\n",
              "       [-10,  16,  15,  18,  48,  38,  16],\n",
              "       [ -8,  32,   0,  12,  36,  16,  -4]])"
            ]
          },
          "metadata": {},
          "execution_count": 10
        }
      ]
    },
    {
      "cell_type": "code",
      "source": [
        "C @ T"
      ],
      "metadata": {
        "colab": {
          "base_uri": "https://localhost:8080/"
        },
        "id": "Z5hk0liKg31G",
        "outputId": "72da7bbb-fd7e-4f10-e865-57a5b204d752"
      },
      "execution_count": 11,
      "outputs": [
        {
          "output_type": "execute_result",
          "data": {
            "text/plain": [
              "array([[  0, -16,  10,   2,   2,  12,  14],\n",
              "       [-10,  16,  15,  18,  48,  38,  16],\n",
              "       [ -8,  32,   0,  12,  36,  16,  -4]])"
            ]
          },
          "metadata": {},
          "execution_count": 11
        }
      ]
    },
    {
      "cell_type": "code",
      "source": [
        "np.matmul(C,T)"
      ],
      "metadata": {
        "colab": {
          "base_uri": "https://localhost:8080/"
        },
        "id": "eW5tKVxBg7Vp",
        "outputId": "98b93d67-3df6-49c1-8daf-90a346afc16d"
      },
      "execution_count": 12,
      "outputs": [
        {
          "output_type": "execute_result",
          "data": {
            "text/plain": [
              "array([[  0, -16,  10,   2,   2,  12,  14],\n",
              "       [-10,  16,  15,  18,  48,  38,  16],\n",
              "       [ -8,  32,   0,  12,  36,  16,  -4]])"
            ]
          },
          "metadata": {},
          "execution_count": 12
        }
      ]
    },
    {
      "cell_type": "markdown",
      "source": [
        "In matrix dot products there are additional rules compared with vector dot products. Since vector dot products were just in one dimension there are less restrictions. Since now we are dealing with Rank 2 vectors we need to consider some rules:\n",
        "\n",
        "### RULE 1: The inner dimensions of the two matrices in question must be the same. \n",
        "\n",
        "So given a matrix $A$ with a shape of $(a,b)$ where $a$ and $b$ are any integers. If we want to do a dot product between $A$ and another matrix $B$, then matrix $B$ should have a shape of $(b,c)$ where $b$ and $c$ are any integers. So for given the following matrices:\n",
        "\n",
        "$$C = \\begin{bmatrix}2&44\\\\21&-20\\\\0&11\\end{bmatrix}, H = \\begin{bmatrix}14&11\\\\3&-23\\\\-11&-32\\end{bmatrix}, E = \\begin{bmatrix}9&4&-3\\\\1&0&8\\end{bmatrix}$$\n",
        "\n",
        "So in this case $C$ has a shape of $(3,2)$, $H$ has a shape of $(3,2)$ and $E$ has a shape of $(2,3)$. So the only matrix pairs that is eligible to perform dot product is matrices $C \\cdot E$, or $H \\cdot E$.  "
      ],
      "metadata": {
        "id": "TwpQ-4yMg_1Y"
      }
    },
    {
      "cell_type": "code",
      "source": [
        "C = np.array([\n",
        "    [2, 44, 1],\n",
        "    [21, -20, 9],\n",
        "    [0, 12, 11]\n",
        "])\n",
        "H = np.array([\n",
        "    [14, 0, 11],\n",
        "    [3,-23, 11],\n",
        "    [-11, 24, -3],\n",
        "    [2, 34, 6,]\n",
        "])\n",
        "E = np.array([\n",
        "    [1, 9, 4, -3],\n",
        "    [24, 1, 0, 8]\n",
        "])\n",
        "print(C.shape)\n",
        "print(H.shape)\n",
        "print(E.shape)"
      ],
      "metadata": {
        "colab": {
          "base_uri": "https://localhost:8080/"
        },
        "id": "Ykg_ukDNhFsu",
        "outputId": "ac6b974e-b222-4d91-8456-071f335c26d6"
      },
      "execution_count": 13,
      "outputs": [
        {
          "output_type": "stream",
          "name": "stdout",
          "text": [
            "(3, 3)\n",
            "(4, 3)\n",
            "(2, 4)\n"
          ]
        }
      ]
    },
    {
      "cell_type": "code",
      "source": [
        "H @ C"
      ],
      "metadata": {
        "colab": {
          "base_uri": "https://localhost:8080/"
        },
        "id": "z0CDMp9ghIj3",
        "outputId": "7cfe6d67-a9eb-4e6a-ebbc-7cda0f19e313"
      },
      "execution_count": 14,
      "outputs": [
        {
          "output_type": "execute_result",
          "data": {
            "text/plain": [
              "array([[   28,   748,   135],\n",
              "       [ -477,   724,   -83],\n",
              "       [  482, -1000,   172],\n",
              "       [  718,  -520,   374]])"
            ]
          },
          "metadata": {},
          "execution_count": 14
        }
      ]
    },
    {
      "cell_type": "code",
      "source": [
        "E @ H"
      ],
      "metadata": {
        "id": "AludgNoehLRp"
      },
      "execution_count": null,
      "outputs": []
    },
    {
      "cell_type": "code",
      "source": [
        "C @ H"
      ],
      "metadata": {
        "colab": {
          "base_uri": "https://localhost:8080/",
          "height": 172
        },
        "id": "GyihCwQrhMU6",
        "outputId": "80b9640a-b82f-4456-8de3-3130a161ce7f"
      },
      "execution_count": 15,
      "outputs": [
        {
          "output_type": "error",
          "ename": "ValueError",
          "evalue": "ignored",
          "traceback": [
            "\u001b[0;31m---------------------------------------------------------------------------\u001b[0m",
            "\u001b[0;31mValueError\u001b[0m                                Traceback (most recent call last)",
            "\u001b[0;32m<ipython-input-15-7d5cb8160755>\u001b[0m in \u001b[0;36m<module>\u001b[0;34m()\u001b[0m\n\u001b[0;32m----> 1\u001b[0;31m \u001b[0mC\u001b[0m \u001b[0;34m@\u001b[0m \u001b[0mH\u001b[0m\u001b[0;34m\u001b[0m\u001b[0;34m\u001b[0m\u001b[0m\n\u001b[0m",
            "\u001b[0;31mValueError\u001b[0m: matmul: Input operand 1 has a mismatch in its core dimension 0, with gufunc signature (n?,k),(k,m?)->(n?,m?) (size 4 is different from 3)"
          ]
        }
      ]
    },
    {
      "cell_type": "markdown",
      "source": [
        "If you would notice the shape of the dot product changed and its shape is not the same as any of the matrices we used. The shape of a dot product is actually derived from the shapes of the matrices used. So recall matrix $A$ with a shape of $(a,b)$ and matrix $B$ with a shape of $(b,c)$, $A \\cdot B$ should have a shape $(a,c)$."
      ],
      "metadata": {
        "id": "GPshTNOmhOtW"
      }
    },
    {
      "cell_type": "code",
      "source": [
        "C @ H.T"
      ],
      "metadata": {
        "colab": {
          "base_uri": "https://localhost:8080/"
        },
        "id": "mr_CrvZ8hR1G",
        "outputId": "a461256d-3166-488c-dc84-ca068480223b"
      },
      "execution_count": 16,
      "outputs": [
        {
          "output_type": "execute_result",
          "data": {
            "text/plain": [
              "array([[  39, -995, 1031, 1506],\n",
              "       [ 393,  622, -738, -584],\n",
              "       [ 121, -155,  255,  474]])"
            ]
          },
          "metadata": {},
          "execution_count": 16
        }
      ]
    },
    {
      "cell_type": "code",
      "source": [
        "X = np.array([\n",
        "    [3,-1,3,4]\n",
        "])\n",
        "Y = np.array([\n",
        "    [9,0,2,-8]\n",
        "])\n",
        "print(X.shape)\n",
        "print(Y.shape)"
      ],
      "metadata": {
        "colab": {
          "base_uri": "https://localhost:8080/"
        },
        "id": "inCCNR_HhUu1",
        "outputId": "a9fa0427-2216-43bf-ef76-2b28f6a35a88"
      },
      "execution_count": 17,
      "outputs": [
        {
          "output_type": "stream",
          "name": "stdout",
          "text": [
            "(1, 4)\n",
            "(1, 4)\n"
          ]
        }
      ]
    },
    {
      "cell_type": "code",
      "source": [
        "Y.T @ X"
      ],
      "metadata": {
        "colab": {
          "base_uri": "https://localhost:8080/"
        },
        "id": "JHhvRvbphX-f",
        "outputId": "eaca148a-7b9b-4477-fea8-35761c1649b3"
      },
      "execution_count": 18,
      "outputs": [
        {
          "output_type": "execute_result",
          "data": {
            "text/plain": [
              "array([[ 27,  -9,  27,  36],\n",
              "       [  0,   0,   0,   0],\n",
              "       [  6,  -2,   6,   8],\n",
              "       [-24,   8, -24, -32]])"
            ]
          },
          "metadata": {},
          "execution_count": 18
        }
      ]
    },
    {
      "cell_type": "code",
      "source": [
        "X @ Y.T"
      ],
      "metadata": {
        "colab": {
          "base_uri": "https://localhost:8080/"
        },
        "id": "iV7-1qeahca6",
        "outputId": "edf946bf-5367-4eb8-e4d8-91f973eeb280"
      },
      "execution_count": 19,
      "outputs": [
        {
          "output_type": "execute_result",
          "data": {
            "text/plain": [
              "array([[1]])"
            ]
          },
          "metadata": {},
          "execution_count": 19
        }
      ]
    },
    {
      "cell_type": "markdown",
      "source": [
        "And you can see that when you try to multiply A and B, it returns `ValueError` pertaining to matrix shape mismatch."
      ],
      "metadata": {
        "id": "qHOFtU03hfC1"
      }
    },
    {
      "cell_type": "markdown",
      "source": [
        "###RULE 2: Dot Product has special properties\n",
        "\n",
        "Dot products are prevalent in matrix algebra, this implies that it has several unique properties and it should be considered when formulation solutions:\n",
        " 1. $A \\cdot B \\neq B \\cdot A$\n",
        " 2. $A \\cdot (B \\cdot C) = (A \\cdot B) \\cdot C$\n",
        " 3. $A\\cdot(B+C) = A\\cdot B + A\\cdot C$\n",
        " 4. $(B+C)\\cdot A = B\\cdot A + C\\cdot A$\n",
        " 5. $A\\cdot I = A$\n",
        " 6. $A\\cdot \\emptyset = \\emptyset$ "
      ],
      "metadata": {
        "id": "k2SPWXsshho3"
      }
    },
    {
      "cell_type": "code",
      "source": [
        "A = np.array([\n",
        "    [-23,0,21],\n",
        "    [44,52,0],\n",
        "    [1,34,97]\n",
        "])\n",
        "B = np.array([\n",
        "    [-18,1,77],\n",
        "    [14,-91,9],\n",
        "    [-98,4,-18]\n",
        "])\n",
        "C = np.array([\n",
        "    [9,-7,0],\n",
        "    [10,0,1],\n",
        "    [-31,0,66]\n",
        "])"
      ],
      "metadata": {
        "id": "HHYXINcRhnLy"
      },
      "execution_count": 20,
      "outputs": []
    },
    {
      "cell_type": "code",
      "source": [
        "np.eye(3)"
      ],
      "metadata": {
        "colab": {
          "base_uri": "https://localhost:8080/"
        },
        "id": "K96HaB25hp2f",
        "outputId": "c30d332b-08b0-43cc-fee8-bdf237017045"
      },
      "execution_count": 21,
      "outputs": [
        {
          "output_type": "execute_result",
          "data": {
            "text/plain": [
              "array([[1., 0., 0.],\n",
              "       [0., 1., 0.],\n",
              "       [0., 0., 1.]])"
            ]
          },
          "metadata": {},
          "execution_count": 21
        }
      ]
    },
    {
      "cell_type": "code",
      "source": [
        "A.dot(np.eye(3))"
      ],
      "metadata": {
        "colab": {
          "base_uri": "https://localhost:8080/"
        },
        "id": "THghFZoVhr6Z",
        "outputId": "4c68f3ae-cae3-4e74-b7d0-c3943f83627c"
      },
      "execution_count": 22,
      "outputs": [
        {
          "output_type": "execute_result",
          "data": {
            "text/plain": [
              "array([[-23.,   0.,  21.],\n",
              "       [ 44.,  52.,   0.],\n",
              "       [  1.,  34.,  97.]])"
            ]
          },
          "metadata": {},
          "execution_count": 22
        }
      ]
    },
    {
      "cell_type": "code",
      "source": [
        "np.array_equal(A@B, B@A)"
      ],
      "metadata": {
        "colab": {
          "base_uri": "https://localhost:8080/"
        },
        "id": "n6LWnbt6hvt7",
        "outputId": "3fa517fb-adec-45dc-9917-371a25984245"
      },
      "execution_count": 23,
      "outputs": [
        {
          "output_type": "execute_result",
          "data": {
            "text/plain": [
              "False"
            ]
          },
          "metadata": {},
          "execution_count": 23
        }
      ]
    },
    {
      "cell_type": "code",
      "source": [
        "E = A @ (B @ C)\n",
        "E"
      ],
      "metadata": {
        "colab": {
          "base_uri": "https://localhost:8080/"
        },
        "id": "50Y1XKbXhxy-",
        "outputId": "eaa60128-3b96-4be7-f090-1357fc1084f2"
      },
      "execution_count": 24,
      "outputs": [
        {
          "output_type": "execute_result",
          "data": {
            "text/plain": [
              "array([[  52433,   11508, -141773],\n",
              "       [-166992,     448,  249808],\n",
              "       [ -66229,   63336,  -92663]])"
            ]
          },
          "metadata": {},
          "execution_count": 24
        }
      ]
    },
    {
      "cell_type": "code",
      "source": [
        "F = (A @ B) @ C\n",
        "F"
      ],
      "metadata": {
        "colab": {
          "base_uri": "https://localhost:8080/"
        },
        "id": "c0OwuyS9h0Je",
        "outputId": "6a4c64de-3376-4458-aa44-60e099196461"
      },
      "execution_count": 25,
      "outputs": [
        {
          "output_type": "execute_result",
          "data": {
            "text/plain": [
              "array([[  52433,   11508, -141773],\n",
              "       [-166992,     448,  249808],\n",
              "       [ -66229,   63336,  -92663]])"
            ]
          },
          "metadata": {},
          "execution_count": 25
        }
      ]
    },
    {
      "cell_type": "code",
      "source": [
        "np.array_equal(E, X)"
      ],
      "metadata": {
        "colab": {
          "base_uri": "https://localhost:8080/"
        },
        "id": "gKOI7g9Ch26q",
        "outputId": "07f85eed-2942-4860-9d12-7f6d78265148"
      },
      "execution_count": 26,
      "outputs": [
        {
          "output_type": "execute_result",
          "data": {
            "text/plain": [
              "False"
            ]
          },
          "metadata": {},
          "execution_count": 26
        }
      ]
    },
    {
      "cell_type": "code",
      "source": [
        "np.array_equiv(E, F)"
      ],
      "metadata": {
        "colab": {
          "base_uri": "https://localhost:8080/"
        },
        "id": "Bd47MliWh5FW",
        "outputId": "e0480ad4-9999-482c-cb48-913a9ac38b5e"
      },
      "execution_count": 27,
      "outputs": [
        {
          "output_type": "execute_result",
          "data": {
            "text/plain": [
              "True"
            ]
          },
          "metadata": {},
          "execution_count": 27
        }
      ]
    },
    {
      "cell_type": "code",
      "source": [
        "A @ E"
      ],
      "metadata": {
        "colab": {
          "base_uri": "https://localhost:8080/"
        },
        "id": "kkXkhYYyh7n2",
        "outputId": "23356efa-dbdc-4f7f-fac4-71d1c2739f95"
      },
      "execution_count": 28,
      "outputs": [
        {
          "output_type": "execute_result",
          "data": {
            "text/plain": [
              "array([[ -2596768,   1065372,   1314856],\n",
              "       [ -6376532,    529648,   6752004],\n",
              "       [-12049508,   6170332,   -636612]])"
            ]
          },
          "metadata": {},
          "execution_count": 28
        }
      ]
    },
    {
      "cell_type": "code",
      "source": [
        "z_mat = np.zeros(A.shape)\n",
        "z_mat"
      ],
      "metadata": {
        "colab": {
          "base_uri": "https://localhost:8080/"
        },
        "id": "gqxYbkbph90P",
        "outputId": "b5abfdc3-d96e-405e-86a5-e230bdfce8ec"
      },
      "execution_count": 29,
      "outputs": [
        {
          "output_type": "execute_result",
          "data": {
            "text/plain": [
              "array([[0., 0., 0.],\n",
              "       [0., 0., 0.],\n",
              "       [0., 0., 0.]])"
            ]
          },
          "metadata": {},
          "execution_count": 29
        }
      ]
    },
    {
      "cell_type": "code",
      "source": [
        "a_dot_z = A.dot(np.zeros(A.shape))\n",
        "a_dot_z"
      ],
      "metadata": {
        "colab": {
          "base_uri": "https://localhost:8080/"
        },
        "id": "T2y-0s7AiAg3",
        "outputId": "7600500a-011e-4469-830d-6cdbe0a6d97d"
      },
      "execution_count": 30,
      "outputs": [
        {
          "output_type": "execute_result",
          "data": {
            "text/plain": [
              "array([[0., 0., 0.],\n",
              "       [0., 0., 0.],\n",
              "       [0., 0., 0.]])"
            ]
          },
          "metadata": {},
          "execution_count": 30
        }
      ]
    },
    {
      "cell_type": "code",
      "source": [
        "np.array_equal(a_dot_z,z_mat)"
      ],
      "metadata": {
        "colab": {
          "base_uri": "https://localhost:8080/"
        },
        "id": "hgXhneWxiCCG",
        "outputId": "b2d678e7-f597-4d64-dc6d-29eabfe54ce0"
      },
      "execution_count": 31,
      "outputs": [
        {
          "output_type": "execute_result",
          "data": {
            "text/plain": [
              "True"
            ]
          },
          "metadata": {},
          "execution_count": 31
        }
      ]
    },
    {
      "cell_type": "code",
      "source": [
        "null_mat = np.empty(A.shape, dtype=float)\n",
        "null = np.array(null_mat,dtype=float)\n",
        "print(null)\n",
        "np.allclose(a_dot_z,null)"
      ],
      "metadata": {
        "colab": {
          "base_uri": "https://localhost:8080/"
        },
        "id": "jty0QDikiFMj",
        "outputId": "27641e08-3c40-4b27-9b81-d250648e7f14"
      },
      "execution_count": 32,
      "outputs": [
        {
          "output_type": "stream",
          "name": "stdout",
          "text": [
            "[[0. 0. 0.]\n",
            " [0. 0. 0.]\n",
            " [0. 0. 0.]]\n"
          ]
        },
        {
          "output_type": "execute_result",
          "data": {
            "text/plain": [
              "True"
            ]
          },
          "metadata": {},
          "execution_count": 32
        }
      ]
    },
    {
      "cell_type": "markdown",
      "source": [
        "###Determinants\n",
        "A determinant is a scalar value derived from a square matrix. The determinant is a fundamental and important value used in matrix algebra. Although it will not be evident in this laboratory on how it can be used practically, but it will be reatly used in future lessons.\n",
        "\n",
        "The determinant of some matrix $A$ is denoted as $det(A)$ or $|A|$. So let's say $A$ is represented as:\n",
        "\n",
        "$$A = \\begin{bmatrix}a_{(0,0)}&a_{(0,1)}\\\\a_{(1,0)}&a_{(1,1)}\\end{bmatrix}$$\n",
        "We can compute for the determinant as:\n",
        "\n",
        "$$|A| = a_{(0,0)}*a_{(1,1)} - a_{(1,0)}*a_{(0,1)}$$\n",
        "So if we have $A$ as:\n",
        "\n",
        "$$A = \\begin{bmatrix}1&8\\\\0&7\\end{bmatrix}, |A| = 7$$\n",
        "\n",
        "But you might wonder how about square matrices beyond the shape $(2,2)$? We can approach this problem by using several methods such as co-factor expansion and the minors method. This can be taught in the lecture of the laboratory but we can achieve the strenuous computation of high-dimensional matrices programmatically using Python. We can achieve this by using `np.linalg.det()`."
      ],
      "metadata": {
        "id": "5tGOvNu-iIsh"
      }
    },
    {
      "cell_type": "code",
      "source": [
        "A = np.array([\n",
        "    [1,8],\n",
        "    [0,7]\n",
        "])\n",
        "np.linalg.det(A)"
      ],
      "metadata": {
        "colab": {
          "base_uri": "https://localhost:8080/"
        },
        "id": "XQwZAa6kiLS4",
        "outputId": "62f399f3-4479-4609-9b3d-d22675c8b633"
      },
      "execution_count": 33,
      "outputs": [
        {
          "output_type": "execute_result",
          "data": {
            "text/plain": [
              "6.999999999999999"
            ]
          },
          "metadata": {},
          "execution_count": 33
        }
      ]
    },
    {
      "cell_type": "code",
      "source": [
        "B = np.array([\n",
        "              [1, 9, 3],\n",
        "              [4, -1 ,-2],\n",
        "              [0, -3, 2],\n",
        "             \n",
        "])\n",
        "np.linalg.det(B)"
      ],
      "metadata": {
        "colab": {
          "base_uri": "https://localhost:8080/"
        },
        "id": "g8PBqucViTsy",
        "outputId": "cd022096-8e1a-4666-a7c4-d21881bca464"
      },
      "execution_count": 34,
      "outputs": [
        {
          "output_type": "execute_result",
          "data": {
            "text/plain": [
              "-116.00000000000009"
            ]
          },
          "metadata": {},
          "execution_count": 34
        }
      ]
    },
    {
      "cell_type": "code",
      "source": [
        "## Now other mathematics classes would require you to solve this by hand, \n",
        "## and that is great for practicing your memorization and coordination skills \n",
        "## but in this class we aim for simplicity and speed so we'll use programming\n",
        "## but it's completely fine if you want to try to solve this one by hand.\n",
        "B = np.array([\n",
        "    [1,3,5,6],\n",
        "    [0,3,1,3],\n",
        "    [3,1,8,2],\n",
        "    [5,2,6,8]\n",
        "])\n",
        "np.linalg.det(B)"
      ],
      "metadata": {
        "colab": {
          "base_uri": "https://localhost:8080/"
        },
        "id": "8Ox64lxtiWYU",
        "outputId": "8e13fd15-5502-4df8-ea66-8fd8cc448c8d"
      },
      "execution_count": 35,
      "outputs": [
        {
          "output_type": "execute_result",
          "data": {
            "text/plain": [
              "-235.0000000000002"
            ]
          },
          "metadata": {},
          "execution_count": 35
        }
      ]
    },
    {
      "cell_type": "markdown",
      "source": [
        "###Inverse\n",
        "The inverse of a matrix is another fundamental operation in matrix algebra. Determining the inverse of a matrix let us determine if its solvability and its characteristic as a system of linear equation — we'll expand on this in the next module. Another use of the inverse matrix is solving the problem of divisibility between matrices. Although element-wise division exists but dividing the entire concept of matrices does not exists. Inverse matrices provides a related operation that could have the same concept of \"dividing\" matrices.\n",
        "\n",
        "Now to determine the inverse of a matrix we need to perform several steps. So let's say we have a matrix $M$:\n",
        "\n",
        "$$M = \\begin{bmatrix}2&4\\\\-3&9\\end{bmatrix}$$\n",
        "First, we need to get the determinant of $M$.\n",
        "$$|M| = (2)(9)-(-3)(4) = 30$$\n",
        "\n",
        "Next, we need to reform the matrix into the inverse form:\n",
        "\n",
        "$$M^{-1} = \\frac{1}{|M|} \\begin{bmatrix} m_{(1,1)} & -m_{(0,1)} \\\\ -m_{(1,0)} & m_{(0,0)}\\end{bmatrix}$$\n",
        "\n",
        "So that will be:\n",
        "\n",
        "$$M^{-1} = \\frac{1}{30} \\begin{bmatrix} 9 & -4 \\\\ 3 & 2\\end{bmatrix} = \\begin{bmatrix} \\frac{9}{30} & \\frac{-4}{30} \\\\ \\frac{3}{30} & \\frac{2}{30}\\end{bmatrix}$$\n",
        "\n",
        "For higher-dimension matrices you might need to use co-factors, minors, adjugates, and other reduction techinques. To solve this programmatially we can use `np.linalg.inv()`."
      ],
      "metadata": {
        "id": "v9QphFnFig1_"
      }
    },
    {
      "cell_type": "code",
      "source": [
        "M = np.array([\n",
        "    [2,4],\n",
        "    [-3, 9]\n",
        "])\n",
        "\n",
        "np.array(M @ np.linalg.inv(M), dtype=int)"
      ],
      "metadata": {
        "colab": {
          "base_uri": "https://localhost:8080/"
        },
        "id": "lu08v9gGiyQJ",
        "outputId": "a33bd9ab-fd3a-493b-d853-1cd29e703a44"
      },
      "execution_count": 36,
      "outputs": [
        {
          "output_type": "execute_result",
          "data": {
            "text/plain": [
              "array([[1, 0],\n",
              "       [0, 1]])"
            ]
          },
          "metadata": {},
          "execution_count": 36
        }
      ]
    },
    {
      "cell_type": "code",
      "source": [
        "P = np.array([\n",
        "              [5, 10, 0],\n",
        "              [8, 4, -2],\n",
        "              [3, 6, 9]\n",
        "])\n",
        "Q = np.linalg.inv(P)\n",
        "Q"
      ],
      "metadata": {
        "colab": {
          "base_uri": "https://localhost:8080/"
        },
        "id": "fYTQ-_ODi0sZ",
        "outputId": "ad7df90f-0b41-45cd-de90-a4761c6562aa"
      },
      "execution_count": 37,
      "outputs": [
        {
          "output_type": "execute_result",
          "data": {
            "text/plain": [
              "array([[-8.88888889e-02,  1.66666667e-01,  3.70370370e-02],\n",
              "       [ 1.44444444e-01, -8.33333333e-02, -1.85185185e-02],\n",
              "       [-6.66666667e-02, -1.54197642e-18,  1.11111111e-01]])"
            ]
          },
          "metadata": {},
          "execution_count": 37
        }
      ]
    },
    {
      "cell_type": "code",
      "source": [
        "P @ Q"
      ],
      "metadata": {
        "colab": {
          "base_uri": "https://localhost:8080/"
        },
        "id": "ICjaUl-Wi6sI",
        "outputId": "4f85ddf4-026d-4ac6-b314-6b74827b9d9d"
      },
      "execution_count": 38,
      "outputs": [
        {
          "output_type": "execute_result",
          "data": {
            "text/plain": [
              "array([[ 1.00000000e+00, -2.77555756e-17,  0.00000000e+00],\n",
              "       [ 2.77555756e-17,  1.00000000e+00,  0.00000000e+00],\n",
              "       [-1.38777878e-17,  1.38777878e-17,  1.00000000e+00]])"
            ]
          },
          "metadata": {},
          "execution_count": 38
        }
      ]
    },
    {
      "cell_type": "code",
      "source": [
        "## And now let's test your skills in solving a matrix with high dimensions:\n",
        "N = np.array([\n",
        "    [18,5,23,1,0,33,5],\n",
        "    [0,45,0,11,2,4,2],\n",
        "    [5,9,20,0,0,0,3],\n",
        "    [1,6,4,4,8,43,1],\n",
        "    [8,6,8,7,1,6,1],\n",
        "    [-5,15,2,0,0,6,-30],\n",
        "    [-2,-5,1,2,1,20,12],\n",
        "])\n",
        "N_inv = np.linalg.inv(N)\n",
        "np.array(N @ N_inv,dtype=int)"
      ],
      "metadata": {
        "colab": {
          "base_uri": "https://localhost:8080/"
        },
        "id": "vW1khmqgi9XA",
        "outputId": "23c6d41a-5751-4c23-825a-bfd8a37ef6ac"
      },
      "execution_count": 39,
      "outputs": [
        {
          "output_type": "execute_result",
          "data": {
            "text/plain": [
              "array([[0, 0, 0, 0, 0, 0, 0],\n",
              "       [0, 0, 0, 0, 0, 0, 0],\n",
              "       [0, 0, 1, 0, 0, 0, 0],\n",
              "       [0, 0, 0, 1, 0, 0, 0],\n",
              "       [0, 0, 0, 0, 0, 0, 0],\n",
              "       [0, 0, 0, 0, 0, 0, 0],\n",
              "       [0, 0, 0, 0, 0, 0, 0]])"
            ]
          },
          "metadata": {},
          "execution_count": 39
        }
      ]
    },
    {
      "cell_type": "markdown",
      "source": [
        "To validate the whether the matrices that you have solved is really the inverse, we follow this dot product property for a matrix $M$:\n",
        "\n",
        "\n",
        "$$M\\cdot M^{-1} = I$$"
      ],
      "metadata": {
        "id": "T44MKvDki-Yh"
      }
    },
    {
      "cell_type": "code",
      "source": [
        "squad = np.array([\n",
        "    [1.0, 1.0, 0.5],\n",
        "    [0.7, 0.7, 0.9],\n",
        "    [0.3, 0.3, 1.0]\n",
        "])\n",
        "weights = np.array([\n",
        "    [0.2, 0.2, 0.6]\n",
        "])\n",
        "p_grade = squad @ weights.T\n",
        "p_grade"
      ],
      "metadata": {
        "colab": {
          "base_uri": "https://localhost:8080/"
        },
        "id": "PwEkPiK_jDmC",
        "outputId": "985e7f54-569a-4d80-a8cb-d71e3d0b9713"
      },
      "execution_count": 40,
      "outputs": [
        {
          "output_type": "execute_result",
          "data": {
            "text/plain": [
              "array([[0.7 ],\n",
              "       [0.82],\n",
              "       [0.72]])"
            ]
          },
          "metadata": {},
          "execution_count": 40
        }
      ]
    },
    {
      "cell_type": "markdown",
      "source": [
        "##Activity"
      ],
      "metadata": {
        "id": "j1Z06zqPjGOO"
      }
    },
    {
      "cell_type": "markdown",
      "source": [
        "### Task 1\n",
        "Prove and implement the remaining 6 matrix multiplication properties. You may create your own matrices in which their shapes should not be lower than $(3,3)$.\n",
        "In your methodology, create individual flowcharts for each property and discuss the property you would then present your proofs or validity of your implementation in the results section by comparing your result to present functions from NumPy."
      ],
      "metadata": {
        "id": "kol5MoJ8jIlM"
      }
    },
    {
      "cell_type": "code",
      "source": [
        "I = np.array([\n",
        "    [5, 1, 44],\n",
        "    [12, 63, 0],\n",
        "    [45, 10, 1]          \n",
        "])\n",
        "\n",
        "J = np.array([\n",
        "    [3, 22, 26],\n",
        "    [2, 12, -16],\n",
        "    [97, 4, -2]          \n",
        "])\n",
        "\n",
        "K = np.array([\n",
        "    [29, -70, 4],\n",
        "    [14, -6, 9],\n",
        "    [29, 0, 37]          \n",
        "])"
      ],
      "metadata": {
        "id": "UeItcFnnjK_5"
      },
      "execution_count": 41,
      "outputs": []
    },
    {
      "cell_type": "code",
      "source": [
        "I @ J"
      ],
      "metadata": {
        "colab": {
          "base_uri": "https://localhost:8080/"
        },
        "id": "u_kSfbL2jN3o",
        "outputId": "94013de5-5157-40ce-af5d-97c000646646"
      },
      "execution_count": 42,
      "outputs": [
        {
          "output_type": "execute_result",
          "data": {
            "text/plain": [
              "array([[4285,  298,   26],\n",
              "       [ 162, 1020, -696],\n",
              "       [ 252, 1114, 1008]])"
            ]
          },
          "metadata": {},
          "execution_count": 42
        }
      ]
    },
    {
      "cell_type": "code",
      "source": [
        "J @ I"
      ],
      "metadata": {
        "colab": {
          "base_uri": "https://localhost:8080/"
        },
        "id": "5Q195GVljQKh",
        "outputId": "b77524bd-b58f-44a0-d607-7146edf915f5"
      },
      "execution_count": 43,
      "outputs": [
        {
          "output_type": "execute_result",
          "data": {
            "text/plain": [
              "array([[1449, 1649,  158],\n",
              "       [-566,  598,   72],\n",
              "       [ 443,  329, 4266]])"
            ]
          },
          "metadata": {},
          "execution_count": 43
        }
      ]
    },
    {
      "cell_type": "code",
      "source": [
        "np.array_equiv(I @ J, J @ I)"
      ],
      "metadata": {
        "colab": {
          "base_uri": "https://localhost:8080/"
        },
        "id": "onixkt_XjScQ",
        "outputId": "a33b54d0-50a6-4984-9b1a-2aeabadbe07d"
      },
      "execution_count": 44,
      "outputs": [
        {
          "output_type": "execute_result",
          "data": {
            "text/plain": [
              "False"
            ]
          },
          "metadata": {},
          "execution_count": 44
        }
      ]
    },
    {
      "cell_type": "code",
      "source": [
        "I @ (J@K)"
      ],
      "metadata": {
        "colab": {
          "base_uri": "https://localhost:8080/"
        },
        "id": "_hwTUKrUjVLg",
        "outputId": "fd7376fd-3af5-47eb-c98b-83c9323d1422"
      },
      "execution_count": 45,
      "outputs": [
        {
          "output_type": "execute_result",
          "data": {
            "text/plain": [
              "array([[ 129191, -301738,   20784],\n",
              "       [  -1206,  -17460,  -15924],\n",
              "       [  52136,  -24324,   48330]])"
            ]
          },
          "metadata": {},
          "execution_count": 45
        }
      ]
    },
    {
      "cell_type": "code",
      "source": [
        "(I@J) @ K"
      ],
      "metadata": {
        "colab": {
          "base_uri": "https://localhost:8080/"
        },
        "id": "BnLCqjKnjWVS",
        "outputId": "c3e1f7e7-db5d-4b12-ccbb-3d105a5fe749"
      },
      "execution_count": 46,
      "outputs": [
        {
          "output_type": "execute_result",
          "data": {
            "text/plain": [
              "array([[ 129191, -301738,   20784],\n",
              "       [  -1206,  -17460,  -15924],\n",
              "       [  52136,  -24324,   48330]])"
            ]
          },
          "metadata": {},
          "execution_count": 46
        }
      ]
    },
    {
      "cell_type": "code",
      "source": [
        "np.array_equiv(I@(J@K),(I@J)@K)"
      ],
      "metadata": {
        "colab": {
          "base_uri": "https://localhost:8080/"
        },
        "id": "lx3ERSHljaJJ",
        "outputId": "596b8f64-2c9c-45db-e228-81cff22bbabb"
      },
      "execution_count": 49,
      "outputs": [
        {
          "output_type": "execute_result",
          "data": {
            "text/plain": [
              "True"
            ]
          },
          "metadata": {},
          "execution_count": 49
        }
      ]
    },
    {
      "cell_type": "code",
      "source": [
        "I@(J+K)"
      ],
      "metadata": {
        "colab": {
          "base_uri": "https://localhost:8080/"
        },
        "id": "a55BfSZ6jc4i",
        "outputId": "f6c6eb02-6d3e-411f-de03-7300b42e4bba"
      },
      "execution_count": 48,
      "outputs": [
        {
          "output_type": "execute_result",
          "data": {
            "text/plain": [
              "array([[ 5720,   -58,  1683],\n",
              "       [ 1392,  -198,   -81],\n",
              "       [ 1726, -2096,  1315]])"
            ]
          },
          "metadata": {},
          "execution_count": 48
        }
      ]
    },
    {
      "cell_type": "code",
      "source": [
        "I@J + I@K"
      ],
      "metadata": {
        "colab": {
          "base_uri": "https://localhost:8080/"
        },
        "id": "eAkG8wpvjgqO",
        "outputId": "a2a62a55-d6b6-44a9-f685-05aff395fa1a"
      },
      "execution_count": 50,
      "outputs": [
        {
          "output_type": "execute_result",
          "data": {
            "text/plain": [
              "array([[ 5720,   -58,  1683],\n",
              "       [ 1392,  -198,   -81],\n",
              "       [ 1726, -2096,  1315]])"
            ]
          },
          "metadata": {},
          "execution_count": 50
        }
      ]
    },
    {
      "cell_type": "code",
      "source": [
        "np.array_equiv(I@(J+K),I@J + I@K)"
      ],
      "metadata": {
        "colab": {
          "base_uri": "https://localhost:8080/"
        },
        "id": "8Q6LCPLtjh1K",
        "outputId": "6b0f3bbc-6b81-4a84-bc0a-dad20856fe29"
      },
      "execution_count": 51,
      "outputs": [
        {
          "output_type": "execute_result",
          "data": {
            "text/plain": [
              "True"
            ]
          },
          "metadata": {},
          "execution_count": 51
        }
      ]
    },
    {
      "cell_type": "code",
      "source": [
        "(J+K)@I"
      ],
      "metadata": {
        "colab": {
          "base_uri": "https://localhost:8080/"
        },
        "id": "WF7r_pNQjmU_",
        "outputId": "e50adb62-0faf-45e3-afbf-4640bac0a298"
      },
      "execution_count": 52,
      "outputs": [
        {
          "output_type": "execute_result",
          "data": {
            "text/plain": [
              "array([[  934, -2692,  1438],\n",
              "       [ -163,   324,   697],\n",
              "       [ 2253,   728,  5579]])"
            ]
          },
          "metadata": {},
          "execution_count": 52
        }
      ]
    },
    {
      "cell_type": "code",
      "source": [
        "J@I + K@I"
      ],
      "metadata": {
        "colab": {
          "base_uri": "https://localhost:8080/"
        },
        "id": "JXOnDJNvjnme",
        "outputId": "644e628b-e086-4a97-e162-e441536ab125"
      },
      "execution_count": 53,
      "outputs": [
        {
          "output_type": "execute_result",
          "data": {
            "text/plain": [
              "array([[  934, -2692,  1438],\n",
              "       [ -163,   324,   697],\n",
              "       [ 2253,   728,  5579]])"
            ]
          },
          "metadata": {},
          "execution_count": 53
        }
      ]
    },
    {
      "cell_type": "code",
      "source": [
        "np.array_equiv((J+K)@I, J@I + K@I)"
      ],
      "metadata": {
        "colab": {
          "base_uri": "https://localhost:8080/"
        },
        "id": "Krd_ia8Ejq8Q",
        "outputId": "98d71b0b-beaa-46aa-ffb0-6bea56cf302c"
      },
      "execution_count": 54,
      "outputs": [
        {
          "output_type": "execute_result",
          "data": {
            "text/plain": [
              "True"
            ]
          },
          "metadata": {},
          "execution_count": 54
        }
      ]
    },
    {
      "cell_type": "code",
      "source": [
        "I@np.eye(3)"
      ],
      "metadata": {
        "colab": {
          "base_uri": "https://localhost:8080/"
        },
        "id": "mxCmhFtEjr4o",
        "outputId": "20b4401c-2e7f-43a8-80cc-c082ed272762"
      },
      "execution_count": 55,
      "outputs": [
        {
          "output_type": "execute_result",
          "data": {
            "text/plain": [
              "array([[ 5.,  1., 44.],\n",
              "       [12., 63.,  0.],\n",
              "       [45., 10.,  1.]])"
            ]
          },
          "metadata": {},
          "execution_count": 55
        }
      ]
    },
    {
      "cell_type": "code",
      "source": [
        "np.array_equiv(I, I@np.eye(3))"
      ],
      "metadata": {
        "colab": {
          "base_uri": "https://localhost:8080/"
        },
        "id": "n3BWEnwCjt75",
        "outputId": "4a811809-9088-431e-9a8c-11f6c7f069cb"
      },
      "execution_count": 56,
      "outputs": [
        {
          "output_type": "execute_result",
          "data": {
            "text/plain": [
              "True"
            ]
          },
          "metadata": {},
          "execution_count": 56
        }
      ]
    },
    {
      "cell_type": "code",
      "source": [
        "I@np.zeros((3,3))"
      ],
      "metadata": {
        "colab": {
          "base_uri": "https://localhost:8080/"
        },
        "id": "6OwA0ftMjyLN",
        "outputId": "b8121cd8-5adf-4614-e33f-8ed07eff2609"
      },
      "execution_count": 57,
      "outputs": [
        {
          "output_type": "execute_result",
          "data": {
            "text/plain": [
              "array([[0., 0., 0.],\n",
              "       [0., 0., 0.],\n",
              "       [0., 0., 0.]])"
            ]
          },
          "metadata": {},
          "execution_count": 57
        }
      ]
    },
    {
      "cell_type": "code",
      "source": [
        "np.array_equiv(I@np.zeros((3,3)),np.zeros((3,3)))"
      ],
      "metadata": {
        "colab": {
          "base_uri": "https://localhost:8080/"
        },
        "id": "CZcMo1t_j0k9",
        "outputId": "730922f4-da80-4558-882f-af4a11ac6477"
      },
      "execution_count": 58,
      "outputs": [
        {
          "output_type": "execute_result",
          "data": {
            "text/plain": [
              "True"
            ]
          },
          "metadata": {},
          "execution_count": 58
        }
      ]
    },
    {
      "cell_type": "code",
      "source": [
        "I.dot(np.zeros(I.shape))"
      ],
      "metadata": {
        "colab": {
          "base_uri": "https://localhost:8080/"
        },
        "id": "h07-p5CTj3LJ",
        "outputId": "bda0f2a9-633e-488b-a8cd-f34f6486a38d"
      },
      "execution_count": 59,
      "outputs": [
        {
          "output_type": "execute_result",
          "data": {
            "text/plain": [
              "array([[0., 0., 0.],\n",
              "       [0., 0., 0.],\n",
              "       [0., 0., 0.]])"
            ]
          },
          "metadata": {},
          "execution_count": 59
        }
      ]
    },
    {
      "cell_type": "code",
      "source": [
        "z_mat = np.zeros (I.shape)\n",
        "z_mat"
      ],
      "metadata": {
        "colab": {
          "base_uri": "https://localhost:8080/"
        },
        "id": "5AdNmFNNj5Ro",
        "outputId": "a457962b-2345-44d4-8fda-aa43a06dc45a"
      },
      "execution_count": 60,
      "outputs": [
        {
          "output_type": "execute_result",
          "data": {
            "text/plain": [
              "array([[0., 0., 0.],\n",
              "       [0., 0., 0.],\n",
              "       [0., 0., 0.]])"
            ]
          },
          "metadata": {},
          "execution_count": 60
        }
      ]
    },
    {
      "cell_type": "code",
      "source": [
        "i_dot_z = I.dot(np.zeros(I.shape))\n",
        "i_dot_z"
      ],
      "metadata": {
        "colab": {
          "base_uri": "https://localhost:8080/"
        },
        "id": "XDaFvv7Bj8RK",
        "outputId": "27b1ad76-141a-4784-fa41-2ce124fc63ab"
      },
      "execution_count": 61,
      "outputs": [
        {
          "output_type": "execute_result",
          "data": {
            "text/plain": [
              "array([[0., 0., 0.],\n",
              "       [0., 0., 0.],\n",
              "       [0., 0., 0.]])"
            ]
          },
          "metadata": {},
          "execution_count": 61
        }
      ]
    },
    {
      "cell_type": "code",
      "source": [
        "np.array_equal(i_dot_z,z_mat)"
      ],
      "metadata": {
        "colab": {
          "base_uri": "https://localhost:8080/"
        },
        "id": "GGfRi1nSj-Rz",
        "outputId": "977a94fc-540d-4fbb-c1d4-e09ad2b3dd65"
      },
      "execution_count": 62,
      "outputs": [
        {
          "output_type": "execute_result",
          "data": {
            "text/plain": [
              "True"
            ]
          },
          "metadata": {},
          "execution_count": 62
        }
      ]
    },
    {
      "cell_type": "code",
      "source": [
        "null_mat = np.empty(I.shape, dtype = float)\n",
        "null = np.array(null_mat,dtype = float)\n",
        "print(null)\n",
        "np.allclose(i_dot_z , null)"
      ],
      "metadata": {
        "colab": {
          "base_uri": "https://localhost:8080/"
        },
        "id": "EXAxn6lPkAjg",
        "outputId": "2adab691-e09b-439c-bbc0-1dce7979ebbb"
      },
      "execution_count": 63,
      "outputs": [
        {
          "output_type": "stream",
          "name": "stdout",
          "text": [
            "[[0. 0. 0.]\n",
            " [0. 0. 0.]\n",
            " [0. 0. 0.]]\n"
          ]
        },
        {
          "output_type": "execute_result",
          "data": {
            "text/plain": [
              "True"
            ]
          },
          "metadata": {},
          "execution_count": 63
        }
      ]
    },
    {
      "cell_type": "markdown",
      "source": [
        "##Conclusion"
      ],
      "metadata": {
        "id": "K9uLk-P2jcG1"
      }
    },
    {
      "cell_type": "markdown",
      "source": [
        "Upon doing this laboratory activity, the students became familiarized with the basic matrix operations and concepts including matrix transposition, dot product, determinant, and inverse. Furthermore, this laboratory enabled them to perform these operations in Python programming which can be applied in solving intermediate equations and engineering problems. \n",
        "\n",
        "\n",
        "Transposition is the operation in which the row and column of a matrix is being interchanged. The dot product, on the other hand, is the same as the element-wise multiplication of matrices in some cases but should obey the two rules. The first rule states that in order to get the dot product of two matrices, they must have the same inner dimensions. However, the second rule only defines the properties of the dot product. Then, the determinant of a matrix was also discussed along with its formula which can help in identifying the inverse of a matrix. Lastly, the students learned that when a given matrix is multiplied by its inverse, an identity matrix would be derived. \n",
        "\n",
        "\n",
        "This laboratory activity also enabled the students to prove the six properties of the dot product. Upon execution of the codes, the students have noticed that the properties of the dot product are similar to that of the properties of multiplication in algebra. However, they vary with their commutative property since two matrices cannot be switched unlike the numbers or variables in algebra. \n",
        "\n",
        "\n",
        "In general, matrix operations play an important role in our lives because of their uses, especially in Physics, engineering, and even in healthcare. In fact, it is being used primarily in nutrition balance to help people avoid excessive intake of something that is bad for their health. Moreover, people may easily obtain the exact amount of food to take through matrix operations."
      ],
      "metadata": {
        "id": "mVZ3FGEakEdI"
      }
    }
  ]
}
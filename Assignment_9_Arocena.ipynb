{
  "nbformat": 4,
  "nbformat_minor": 0,
  "metadata": {
    "colab": {
      "name": "Assignment 9_Arocena.ipynb",
      "provenance": [],
      "collapsed_sections": [],
      "authorship_tag": "ABX9TyNtEYMuoGA2WCTenGQguHUA",
      "include_colab_link": true
    },
    "kernelspec": {
      "name": "python3",
      "display_name": "Python 3"
    },
    "language_info": {
      "name": "python"
    }
  },
  "cells": [
    {
      "cell_type": "markdown",
      "metadata": {
        "id": "view-in-github",
        "colab_type": "text"
      },
      "source": [
        "<a href=\"https://colab.research.google.com/github/maicaarocena/Linear-Algebra_2nd-Sem/blob/main/Assignment_9_Arocena.ipynb\" target=\"_parent\"><img src=\"https://colab.research.google.com/assets/colab-badge.svg\" alt=\"Open In Colab\"/></a>"
      ]
    },
    {
      "cell_type": "markdown",
      "source": [
        "# Lab 2 - Plotting Vector using NumPy and MatPlotLib"
      ],
      "metadata": {
        "id": "PpRb1whtnDf_"
      }
    },
    {
      "cell_type": "markdown",
      "source": [
        "In this laboratory we will be discussing the basics of numerical and scientific programming by working with Vectors using NumPy and MatPlotLib."
      ],
      "metadata": {
        "id": "asxJC-n4nGrJ"
      }
    },
    {
      "cell_type": "markdown",
      "source": [
        "### Objectives\n",
        "At the end of this activity you will be able to:\n",
        "1. Be familiar with the libraries in Python for numerical and scientific programming.\n",
        "2. Visualize vectors through Python programming.\n",
        "3. Perform simple vector operations through code."
      ],
      "metadata": {
        "id": "QF0dbX0BnN40"
      }
    },
    {
      "cell_type": "markdown",
      "source": [
        "## Discussion"
      ],
      "metadata": {
        "id": "cdlSFmoanP88"
      }
    },
    {
      "cell_type": "markdown",
      "source": [
        "### NumPy"
      ],
      "metadata": {
        "id": "CCeit0wInQhs"
      }
    },
    {
      "cell_type": "markdown",
      "source": [
        "NumPy or Numerical Python, is mainly used for matrix and vector operations. It is capable of declaring computing and representing matrices. Most Python scientific programming libraries uses NumPy as the basic code."
      ],
      "metadata": {
        "id": "noQ9uTOLnTuv"
      }
    },
    {
      "cell_type": "markdown",
      "source": [
        "Scalars \\\\\n",
        "Represent magnitude or a single value\n",
        "\n",
        "Vectors \\\\\n",
        "Represent magnitude with directors"
      ],
      "metadata": {
        "id": "uHzhBJ0znVcl"
      }
    },
    {
      "cell_type": "markdown",
      "source": [
        "#### Representing Vectors"
      ],
      "metadata": {
        "id": "MBq1lq-onXi9"
      }
    },
    {
      "cell_type": "markdown",
      "source": [
        "Now that you know how to represent vectors using their component and matrix form we can now hard-code them in Python. Let's say that you have the vectors:"
      ],
      "metadata": {
        "id": "Htwb7L4NnZNN"
      }
    },
    {
      "cell_type": "markdown",
      "source": [
        "$$ L = 10\\hat{x} + 7\\hat{y} \\\\\n",
        "E = 4\\hat{x} - 92\\hat{y}\\\\\n",
        "N = 8ax + 3ay - 1az \\\\\n",
        "I = 27\\hat{i} - 14\\hat{j} + 3\\hat{k}$$"
      ],
      "metadata": {
        "id": "SjAsYacIndYV"
      }
    },
    {
      "cell_type": "markdown",
      "source": [
        "In which it's matrix equivalent is:"
      ],
      "metadata": {
        "id": "aL6BcnihnfAe"
      }
    },
    {
      "cell_type": "markdown",
      "source": [
        "$$ L = \\begin{bmatrix} 10 \\\\ 7\\end{bmatrix} , E = \\begin{bmatrix} 4 \\\\ -92\\end{bmatrix} , N = \\begin{bmatrix} 8 \\\\ 3 \\\\  -1 \\end{bmatrix},  I= \\begin{bmatrix} 27 \\\\ -14 \\\\ 3\\end{bmatrix}\n",
        "$$\n",
        "$$ L = \\begin{bmatrix} 10 & 7\\end{bmatrix} , E = \\begin{bmatrix} 4 & -92\\end{bmatrix} , N = \\begin{bmatrix} 8 & 3 & -1\\end{bmatrix} , I = \\begin{bmatrix} 27 & -14 & 3\\end{bmatrix} \n",
        "$$"
      ],
      "metadata": {
        "id": "0oa1D8WQnfls"
      }
    },
    {
      "cell_type": "markdown",
      "source": [
        "We can then start doing numpy code with this by:"
      ],
      "metadata": {
        "id": "jFpr3iTwnjLk"
      }
    },
    {
      "cell_type": "code",
      "source": [
        "## Importing necessary libraries\n",
        "import numpy as np ## 'np' here is short-hand name of the library (numpy) or a nickname."
      ],
      "metadata": {
        "id": "SSKhHnnknj9v"
      },
      "execution_count": null,
      "outputs": []
    },
    {
      "cell_type": "code",
      "source": [
        "L = np.array([10, 7])\n",
        "E = np.array([4, -92])\n",
        "N = np.array([\n",
        "              [8],\n",
        "              [3],\n",
        "              [-1]\n",
        "])\n",
        "I = np.array ([[27],\n",
        "              [-14],\n",
        "              [3]])\n",
        "print('Vector L is ', L)\n",
        "print('Vector E is ', E)\n",
        "print('Vector N is ', N)\n",
        "print('Vector I is ', I)"
      ],
      "metadata": {
        "colab": {
          "base_uri": "https://localhost:8080/"
        },
        "id": "4aT1EiTZnqn9",
        "outputId": "bf030392-f504-4245-cd1b-b4fb585670f1"
      },
      "execution_count": null,
      "outputs": [
        {
          "output_type": "stream",
          "name": "stdout",
          "text": [
            "Vector L is  [10  7]\n",
            "Vector E is  [  4 -92]\n",
            "Vector N is  [[ 8]\n",
            " [ 3]\n",
            " [-1]]\n",
            "Vector I is  [[ 27]\n",
            " [-14]\n",
            " [  3]]\n"
          ]
        }
      ]
    },
    {
      "cell_type": "markdown",
      "source": [
        "#### Describing vectors in NumPy"
      ],
      "metadata": {
        "id": "oq0FoCX1nu5u"
      }
    },
    {
      "cell_type": "markdown",
      "source": [
        "Describing vectors is very important if we want to perform basic to advanced operations with them. The fundamental ways in describing vectors are knowing their shape, size and dimensions."
      ],
      "metadata": {
        "id": "w5YCOJldnvUv"
      }
    },
    {
      "cell_type": "code",
      "source": [
        "### Checking shapes\n",
        "### Shapes tells us how many elements are there on each row and column\n",
        "\n",
        "L.shape\n",
        "K = np.array([12, 50, 2, 25, -0.7, 0, 9])\n",
        "K.shape\n",
        "N.shape"
      ],
      "metadata": {
        "colab": {
          "base_uri": "https://localhost:8080/"
        },
        "id": "ToXChYTlnxH2",
        "outputId": "fb31a813-70a1-4cd0-c501-676857447f25"
      },
      "execution_count": null,
      "outputs": [
        {
          "output_type": "execute_result",
          "data": {
            "text/plain": [
              "(3, 1)"
            ]
          },
          "metadata": {},
          "execution_count": 3
        }
      ]
    },
    {
      "cell_type": "code",
      "source": [
        "### Checking size\n",
        "### Array/Vector sizes tells us many total number of elements are there in the vector\n",
        "\n",
        "I.size"
      ],
      "metadata": {
        "colab": {
          "base_uri": "https://localhost:8080/"
        },
        "id": "nJGahiFRn0c8",
        "outputId": "e6f0c113-bc27-4cc8-d07c-7a360946fcb2"
      },
      "execution_count": null,
      "outputs": [
        {
          "output_type": "execute_result",
          "data": {
            "text/plain": [
              "3"
            ]
          },
          "metadata": {},
          "execution_count": 4
        }
      ]
    },
    {
      "cell_type": "code",
      "source": [
        "### Checking dimensions\n",
        "### The dimensions or rank of a vector tells us how many dimensions are there for the vector.\n",
        "\n",
        "I.ndim"
      ],
      "metadata": {
        "colab": {
          "base_uri": "https://localhost:8080/"
        },
        "id": "b24CnF69n2sM",
        "outputId": "99152db5-9394-4f73-bf37-b46932fbf98d"
      },
      "execution_count": null,
      "outputs": [
        {
          "output_type": "execute_result",
          "data": {
            "text/plain": [
              "2"
            ]
          },
          "metadata": {},
          "execution_count": 5
        }
      ]
    },
    {
      "cell_type": "markdown",
      "source": [
        "**Great**! Now let's try to explore in performing operations with these vectors."
      ],
      "metadata": {
        "id": "23nSW7IIn4vV"
      }
    },
    {
      "cell_type": "markdown",
      "source": [
        "#### Addition"
      ],
      "metadata": {
        "id": "aW64JilEn64V"
      }
    },
    {
      "cell_type": "markdown",
      "source": [
        "The addition rule is simple, the we just need to add the elements of the matrices according to their index. So in this case if we add vector $A$ and vector $B$ we will have a resulting vector:"
      ],
      "metadata": {
        "id": "r8SuVC8tn8Qc"
      }
    },
    {
      "cell_type": "markdown",
      "source": [
        "$$cly = -3\\hat{i} - 5\\hat{j} + 0\\hat{k}\\\\ or\\\\\n",
        "cly = \\begin{bmatrix} -3 \\\\ -5\\\\ 0\\end{bmatrix} $$"
      ],
      "metadata": {
        "id": "JH_Y1gk3n9yN"
      }
    },
    {
      "cell_type": "markdown",
      "source": [
        "So let's try to do that in NumPy in several number of ways:"
      ],
      "metadata": {
        "id": "FGNKSxPAn_7U"
      }
    },
    {
      "cell_type": "code",
      "source": [
        "cly = np.add(L, E) ## this is the functional method usisng the numpy library\n",
        "ali = np.add(N, I)"
      ],
      "metadata": {
        "id": "evM4EGyooAau"
      },
      "execution_count": null,
      "outputs": []
    },
    {
      "cell_type": "code",
      "source": [
        "ali = L + E ## this is the explicit method, since Python does a value-reference so it can \n",
        "            ## know that these variables would need to do array operations.\n",
        "print(ali, \"\\n\")\n",
        "neon = N + I \n",
        "print(neon)"
      ],
      "metadata": {
        "colab": {
          "base_uri": "https://localhost:8080/"
        },
        "id": "twiWaAKSoIfl",
        "outputId": "5cc384e4-e527-487c-b7cb-1a969e9f3a51"
      },
      "execution_count": null,
      "outputs": [
        {
          "output_type": "stream",
          "name": "stdout",
          "text": [
            "[ 14 -85] \n",
            "\n",
            "[[ 35]\n",
            " [-11]\n",
            " [  2]]\n"
          ]
        }
      ]
    },
    {
      "cell_type": "code",
      "source": [
        "from numpy.lib.index_tricks import AxisConcatenator\n",
        "viper = np.array ([5, 92, -8, 65])\n",
        "fade = np.array ([4, -12, 9, 5])\n",
        "reyna = np.array ([10, 67, 1, 0])\n",
        "raze = np.array ([-70, 9, 16, 2])\n",
        "\n",
        "#ali = viper + fade + reyna + raze\n",
        "#ali = np.multriply (reyna, raze)\n",
        "\n",
        "ali = viper/fade\n",
        "ali"
      ],
      "metadata": {
        "colab": {
          "base_uri": "https://localhost:8080/"
        },
        "id": "M2zrcazeoLiN",
        "outputId": "eb5641fc-4cc8-43f0-8e4e-d61cea73421f"
      },
      "execution_count": null,
      "outputs": [
        {
          "output_type": "execute_result",
          "data": {
            "text/plain": [
              "array([ 1.25      , -7.66666667, -0.88888889, 13.        ])"
            ]
          },
          "metadata": {},
          "execution_count": 9
        }
      ]
    },
    {
      "cell_type": "markdown",
      "source": [
        "Try for yourself!\n",
        "\n",
        "\n",
        "Try to implement subtraction, multiplication, and division with vectors $A$ and $B$!"
      ],
      "metadata": {
        "id": "9iQwWM0NoOeu"
      }
    },
    {
      "cell_type": "code",
      "source": [
        "ay = L - E\n",
        "print ('When vectors L and E are subtracted >>>', ay, \"\\n\")\n",
        "\n",
        "lab = L*E\n",
        "print ('When vectors L and E are multiplied >>>', lab, \"\\n\")\n",
        "\n",
        "yu = L/E\n",
        "print(\"When vectors L and E are dividied >>>\", yu, \"\\n\")"
      ],
      "metadata": {
        "colab": {
          "base_uri": "https://localhost:8080/"
        },
        "id": "OjhnVaJpoTZf",
        "outputId": "e9b276e3-cd30-4f04-c853-2ee39f5eaabe"
      },
      "execution_count": null,
      "outputs": [
        {
          "output_type": "stream",
          "name": "stdout",
          "text": [
            "When vectors L and E are subtracted >>> [ 6 99] \n",
            "\n",
            "When vectors L and E are multiplied >>> [  40 -644] \n",
            "\n",
            "When vectors L and E are dividied >>> [ 2.5        -0.07608696] \n",
            "\n"
          ]
        }
      ]
    },
    {
      "cell_type": "markdown",
      "source": [
        "### Scaling\n",
        "\n",
        "Scaling or scalar multiplication takes a scalar value and performs multiplication with a vector. Let's take the example below:"
      ],
      "metadata": {
        "id": "yRgbyQU-oXKU"
      }
    },
    {
      "cell_type": "markdown",
      "source": [
        ":$$valorant = 4 \\cdot E$$"
      ],
      "metadata": {
        "id": "wXouizAEocN8"
      }
    },
    {
      "cell_type": "markdown",
      "source": [
        "We can do this in numpy through:"
      ],
      "metadata": {
        "id": "O3ucwXxroeVW"
      }
    },
    {
      "cell_type": "code",
      "source": [
        "#valorant = 4 * E\n",
        "valorant = np.multiply(4,E)\n",
        "valorant"
      ],
      "metadata": {
        "colab": {
          "base_uri": "https://localhost:8080/"
        },
        "id": "rxjgTGBAogim",
        "outputId": "e020f7ab-342f-42d6-9942-82ebab81645b"
      },
      "execution_count": null,
      "outputs": [
        {
          "output_type": "execute_result",
          "data": {
            "text/plain": [
              "array([  16, -368])"
            ]
          },
          "metadata": {},
          "execution_count": 11
        }
      ]
    },
    {
      "cell_type": "markdown",
      "source": [
        "Try to implement scaling with two vectors"
      ],
      "metadata": {
        "id": "XcD_HZ7Joi7G"
      }
    },
    {
      "cell_type": "code",
      "source": [
        "xela= np.array ([[2,0,14,5,3],\n",
        "                 [5,6,7,-2,1],\n",
        "                 [0,4,4,-2,0],\n",
        "                 [12,1,1,0,3],\n",
        "                 [0,-9,9,7,1]])\n",
        "\n",
        "maica= np.array ([[8,-17,0,0,1],\n",
        "                 [42,1,-4,6,8],\n",
        "                 [6,-9,2,22,1],\n",
        "                 [7,-31,0,4,5],\n",
        "                 [78,1,0,8,31]])\n",
        "\n",
        "peter= xela * 3\n",
        "print(\"When matrix xela is scaled to 3, the answer would be represented as: \\n \\n peter= \\n\", peter)\n",
        "\n",
        "print('\\n ___________________________________________________________________________________\\n')\n",
        "\n",
        "parker= maica * 5\n",
        "print(\"When matrix maica is scaled to 5, the answer would be represented as: \\n \\n parker= \\n\", parker)"
      ],
      "metadata": {
        "colab": {
          "base_uri": "https://localhost:8080/"
        },
        "id": "mHsrqGHvol_l",
        "outputId": "6006e32b-ea2e-471f-904f-95257d804b8f"
      },
      "execution_count": null,
      "outputs": [
        {
          "output_type": "stream",
          "name": "stdout",
          "text": [
            "When matrix xela is scaled to 3, the answer would be represented as: \n",
            " \n",
            " peter= \n",
            " [[  6   0  42  15   9]\n",
            " [ 15  18  21  -6   3]\n",
            " [  0  12  12  -6   0]\n",
            " [ 36   3   3   0   9]\n",
            " [  0 -27  27  21   3]]\n",
            "\n",
            " ___________________________________________________________________________________\n",
            "\n",
            "When matrix maica is scaled to 5, the answer would be represented as: \n",
            " \n",
            " parker= \n",
            " [[  40  -85    0    0    5]\n",
            " [ 210    5  -20   30   40]\n",
            " [  30  -45   10  110    5]\n",
            " [  35 -155    0   20   25]\n",
            " [ 390    5    0   40  155]]\n"
          ]
        }
      ]
    },
    {
      "cell_type": "markdown",
      "source": [
        "### MatPlotLib"
      ],
      "metadata": {
        "id": "eSmPrTW5oo2l"
      }
    },
    {
      "cell_type": "markdown",
      "source": [
        "MatPlotLib or MATLab Plotting library is Python's take on MATLabs plotting feature. MatPlotLib can be used vastly from graping values to visualizing several dimensions of data."
      ],
      "metadata": {
        "id": "BUl90z0Noq72"
      }
    },
    {
      "cell_type": "markdown",
      "source": [
        "#### Visualizing Data"
      ],
      "metadata": {
        "id": "Z3BSltsYoszt"
      }
    },
    {
      "cell_type": "markdown",
      "source": [
        "It's not enough just solving these vectors so might need to visualize them. So we'll use MatPlotLib for that. We'll need to import it first."
      ],
      "metadata": {
        "id": "WyqvaPmjovrs"
      }
    },
    {
      "cell_type": "code",
      "source": [
        "import matplotlib.pyplot as plt\n",
        "import matplotlib\n",
        "%matplotlib inline"
      ],
      "metadata": {
        "id": "c8hqA9uyox04"
      },
      "execution_count": null,
      "outputs": []
    },
    {
      "cell_type": "code",
      "source": [
        "A = [-1, 7, 0]\n",
        "B = [3, 8, 2]\n",
        "plt.scatter(A[0], A[1], label='A', c='cyan')\n",
        "plt.scatter(B[0], B[1], label='B', c='pink')\n",
        "plt.grid()\n",
        "plt.legend()\n",
        "plt.show()"
      ],
      "metadata": {
        "colab": {
          "base_uri": "https://localhost:8080/",
          "height": 265
        },
        "id": "G8yZfmO6ozdq",
        "outputId": "a9f24b67-3ed9-4f63-8668-f4d74531db67"
      },
      "execution_count": null,
      "outputs": [
        {
          "output_type": "display_data",
          "data": {
            "text/plain": [
              "<Figure size 432x288 with 1 Axes>"
            ],
            "image/png": "[encoded data removed]"
          },
          "metadata": {
            "needs_background": "light"
          }
        }
      ]
    },
    {
      "cell_type": "code",
      "source": [
        "A = np.array([3, -4])\n",
        "B = np.array([1, 2])\n",
        "plt.xlim(-5, 10)\n",
        "plt.ylim(-8, 5)\n",
        "plt.quiver(0, 0, A[0], A[1], angles='xy', scale_units='xy', scale=1, color='cyan')\n",
        "plt.quiver(A[0], A[1], B[0], B[1], angles='xy', scale_units='xy', scale=1, color='pink')\n",
        "R = A + B\n",
        "plt.quiver(0, 0, R[0], R[1], angles='xy', scale_units='xy', scale=1, color='magenta')\n",
        "plt.grid()\n",
        "plt.show()\n",
        "print(R)\n",
        "Magnitude = np.sqrt(np.sum(R**2))\n",
        "plt.title(\"Resultant Vector\\nMagnitude:{}\" .format(Magnitude))\n",
        "print(Magnitude)\n",
        "Slope = R[1]/R[0]\n",
        "print(Slope)\n",
        "Angle = (np.arctan(Slope))*(180/np.pi)\n",
        "print(Angle)"
      ],
      "metadata": {
        "colab": {
          "base_uri": "https://localhost:8080/",
          "height": 618
        },
        "id": "rYq-iMYHo3Re",
        "outputId": "d9eb764f-db75-4af3-ce03-73eed98d4871"
      },
      "execution_count": null,
      "outputs": [
        {
          "output_type": "display_data",
          "data": {
            "text/plain": [
              "<Figure size 432x288 with 1 Axes>"
            ],
            "image/png": "[encoded data removed]"
          },
          "metadata": {
            "needs_background": "light"
          }
        },
        {
          "output_type": "stream",
          "name": "stdout",
          "text": [
            "[ 4 -2]\n",
            "4.47213595499958\n",
            "-0.5\n",
            "-26.56505117707799\n"
          ]
        },
        {
          "output_type": "display_data",
          "data": {
            "text/plain": [
              "<Figure size 432x288 with 1 Axes>"
            ],
            "image/png": "[encoded data removed]"
          },
          "metadata": {
            "needs_background": "light"
          }
        }
      ]
    },
    {
      "cell_type": "code",
      "source": [
        "n = A.shape[0]\n",
        "plt.xlim(-10, 10)\n",
        "plt.ylim(-10, 10)\n",
        "plt.quiver(0,0, A[0], A[1], angles='xy', scale_units='xy',scale=1)\n",
        "plt.quiver(A[0],A[1], B[0], B[1], angles='xy', scale_units='xy',scale=1)\n",
        "plt.quiver(0,0, R[0], R[1], angles='xy', scale_units='xy',scale=1)\n",
        "plt.show()"
      ],
      "metadata": {
        "colab": {
          "base_uri": "https://localhost:8080/",
          "height": 269
        },
        "id": "KbWowATpo7fK",
        "outputId": "33dc87e5-282a-4a5c-f842-201b7459355c"
      },
      "execution_count": null,
      "outputs": [
        {
          "output_type": "display_data",
          "data": {
            "text/plain": [
              "<Figure size 432x288 with 1 Axes>"
            ],
            "image/png": "[encoded data removed]"
          },
          "metadata": {
            "needs_background": "light"
          }
        }
      ]
    },
    {
      "cell_type": "markdown",
      "source": [
        "Try plotting Three Vectors and show the Resultant Vector as a result.\n",
        "Use Head to Tail Method."
      ],
      "metadata": {
        "id": "gA9pFoddo9zF"
      }
    },
    {
      "cell_type": "code",
      "source": [
        "A = np.array([5, -6])\n",
        "B = np.array([4, 12])\n",
        "C = np.array([2, -2])\n",
        "D = A + B\n",
        "plt.xlim(0, 14)\n",
        "plt.ylim(-10, 10)\n",
        "plt.quiver(0, 0, A[0], A[1], angles='xy', scale_units='xy', scale=1, color='pink')\n",
        "plt.quiver(A[0], A[1], B[0], B[1], angles='xy', scale_units='xy', scale=1, color='purple')\n",
        "plt.quiver(D[0], D[1], C[0], C[1], angles='xy', scale_units='xy', scale=1, color='cyan')\n",
        "R = A + B + C\n",
        "plt.quiver(0, 0, R[0], R[1], angles='xy', scale_units='xy', scale=1, color='blue')\n",
        "plt.grid()\n",
        "plt.show()\n",
        "print(R)\n",
        "Magnitude = np.sqrt(np.sum(R**2))\n",
        "plt.title(\"Resultant Vector\\nMagnitude:{}\".format(Magnitude))\n",
        "print(Magnitude)\n",
        "Slope = R[1]/R[0]\n",
        "print(Slope)\n",
        "Angle = (np.arctan(Slope))*(180/np.pi)\n",
        "print(Angle)"
      ],
      "metadata": {
        "id": "_67M7o80pAcj",
        "outputId": "6bab2909-720e-478a-bccf-94b86bdeeaff",
        "colab": {
          "base_uri": "https://localhost:8080/",
          "height": 622
        }
      },
      "execution_count": null,
      "outputs": [
        {
          "output_type": "display_data",
          "data": {
            "text/plain": [
              "<Figure size 432x288 with 1 Axes>"
            ],
            "image/png": "[encoded data removed]"
          },
          "metadata": {
            "needs_background": "light"
          }
        },
        {
          "output_type": "stream",
          "name": "stdout",
          "text": [
            "[11  4]\n",
            "11.704699910719626\n",
            "0.36363636363636365\n",
            "19.98310652189998\n"
          ]
        },
        {
          "output_type": "display_data",
          "data": {
            "text/plain": [
              "<Figure size 432x288 with 1 Axes>"
            ],
            "image/png": "[encoded data removed]"
          },
          "metadata": {
            "needs_background": "light"
          }
        }
      ]
    }
  ]
}
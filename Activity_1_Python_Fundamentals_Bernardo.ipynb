{
  "nbformat": 4,
  "nbformat_minor": 0,
  "metadata": {
    "colab": {
      "name": "Activity 1 - Python Fundamentals",
      "provenance": [],
      "include_colab_link": true
    },
    "kernelspec": {
      "name": "python3",
      "display_name": "Python 3"
    },
    "language_info": {
      "name": "python"
    }
  },
  "cells": [
    {
      "cell_type": "markdown",
      "metadata": {
        "id": "view-in-github",
        "colab_type": "text"
      },
      "source": [
        "<a href=\"https://colab.research.google.com/github/maicaarocena/Linear-Algebra_2nd-Sem/blob/main/Activity_1_Python_Fundamentals_Bernardo.ipynb\" target=\"_parent\"><img src=\"https://colab.research.google.com/assets/colab-badge.svg\" alt=\"Open In Colab\"/></a>"
      ]
    },
    {
      "cell_type": "markdown",
      "source": [
        "# Welcome to Python Fundamentals\n",
        "In this module, we are going to establish or review our skills in Python programming. In this notebook we are going to cover:\n",
        "* Variables and Data Types \n",
        "* Operations\n",
        "* Input and Output Operations\n",
        "* Logic Control\n",
        "* Iterables\n",
        "* Functions"
      ],
      "metadata": {
        "id": "zYRWxZXlswcg"
      }
    },
    {
      "cell_type": "markdown",
      "source": [
        "## Variable and Data Types\n",
        "Variables and data types are the values that change in Python Fundamentals, as the name implies. A variable is a memory location where you store a value in a programming language, and it is created as soon as you assigned a value to it. Meanwhile, the classification or categorizing of data elements is known as data types. It denotes the kind of value that specifies which operations can be performed on a given set of data. Data types are technically classes, and variables are the objects of these classes."
      ],
      "metadata": {
        "id": "wtx4jyjHtCXK"
      }
    },
    {
      "cell_type": "code",
      "source": [
        "x = 0\n",
        "e,l,a = 2,1,4\n",
        "a\n"
      ],
      "metadata": {
        "colab": {
          "base_uri": "https://localhost:8080/"
        },
        "id": "9BIMx3sstTz8",
        "outputId": "84a92d96-0642-4c14-e05d-6c372631326f"
      },
      "execution_count": null,
      "outputs": [
        {
          "output_type": "execute_result",
          "data": {
            "text/plain": [
              "4"
            ]
          },
          "metadata": {},
          "execution_count": 2
        }
      ]
    },
    {
      "cell_type": "code",
      "source": [
        "type(x)"
      ],
      "metadata": {
        "colab": {
          "base_uri": "https://localhost:8080/"
        },
        "id": "lm1UqqYYvRJJ",
        "outputId": "0f3059e2-4fbd-48cb-b7a0-8ee9e0e4307a"
      },
      "execution_count": null,
      "outputs": [
        {
          "output_type": "execute_result",
          "data": {
            "text/plain": [
              "int"
            ]
          },
          "metadata": {},
          "execution_count": 3
        }
      ]
    },
    {
      "cell_type": "code",
      "source": [
        "h = 1.0\n",
        "type(h)"
      ],
      "metadata": {
        "colab": {
          "base_uri": "https://localhost:8080/"
        },
        "id": "QZjRsfg-vZiD",
        "outputId": "629ac85c-3907-463e-f0b1-ab535f38d847"
      },
      "execution_count": null,
      "outputs": [
        {
          "output_type": "execute_result",
          "data": {
            "text/plain": [
              "float"
            ]
          },
          "metadata": {},
          "execution_count": 4
        }
      ]
    },
    {
      "cell_type": "code",
      "source": [
        "x = float(x)\n",
        "type (x)"
      ],
      "metadata": {
        "colab": {
          "base_uri": "https://localhost:8080/"
        },
        "id": "kIvZZKF6vlyi",
        "outputId": "12463529-2178-4af2-d83e-447e3d66a926"
      },
      "execution_count": null,
      "outputs": [
        {
          "output_type": "execute_result",
          "data": {
            "text/plain": [
              "float"
            ]
          },
          "metadata": {},
          "execution_count": 5
        }
      ]
    },
    {
      "cell_type": "code",
      "source": [
        "a,d,u = \"0\",'1','valorant'\n",
        "type(a)"
      ],
      "metadata": {
        "colab": {
          "base_uri": "https://localhost:8080/"
        },
        "id": "MAAEpxHSwtJt",
        "outputId": "837277ce-e98d-457d-f6db-f29732196b29"
      },
      "execution_count": null,
      "outputs": [
        {
          "output_type": "execute_result",
          "data": {
            "text/plain": [
              "str"
            ]
          },
          "metadata": {},
          "execution_count": 6
        }
      ]
    },
    {
      "cell_type": "code",
      "source": [
        "a_int = int(a)\n",
        "a_int"
      ],
      "metadata": {
        "colab": {
          "base_uri": "https://localhost:8080/"
        },
        "id": "1G5RJpdyxOqb",
        "outputId": "e0945f8b-2033-4c7b-9146-6c303fd40bd2"
      },
      "execution_count": null,
      "outputs": [
        {
          "output_type": "execute_result",
          "data": {
            "text/plain": [
              "0"
            ]
          },
          "metadata": {},
          "execution_count": 7
        }
      ]
    },
    {
      "cell_type": "markdown",
      "source": [
        "##Operations\n"
      ],
      "metadata": {
        "id": "jFEh5smQx8zx"
      }
    },
    {
      "cell_type": "markdown",
      "source": [
        "###Arithmetic\n",
        "Mathematical operations such as addition, subtraction, multiplication, division, floor division, exponentiation and modulo are performed using arithmetic operators."
      ],
      "metadata": {
        "id": "_gubSqOJyCMI"
      }
    },
    {
      "cell_type": "code",
      "source": [
        "s,k,y,e = 2.0,-0.5,0,-32"
      ],
      "metadata": {
        "id": "0t4fbfnKyQCH"
      },
      "execution_count": null,
      "outputs": []
    },
    {
      "cell_type": "markdown",
      "source": [
        "####Addition\n",
        "This operation denotes (+) which adds values on either side of the operator."
      ],
      "metadata": {
        "id": "cuDjNqHft-s5"
      }
    },
    {
      "cell_type": "code",
      "source": [
        "### Addition\n",
        "a = s+k\n",
        "a"
      ],
      "metadata": {
        "colab": {
          "base_uri": "https://localhost:8080/"
        },
        "id": "G7OMhwlSyeMg",
        "outputId": "0f07c871-62a4-499d-c59a-3db25045ce8f"
      },
      "execution_count": null,
      "outputs": [
        {
          "output_type": "execute_result",
          "data": {
            "text/plain": [
              "1.5"
            ]
          },
          "metadata": {},
          "execution_count": 46
        }
      ]
    },
    {
      "cell_type": "markdown",
      "source": [
        "####Subtraction\n",
        "Represented by (-), this operation subtracts right hand operand from left hand operand."
      ],
      "metadata": {
        "id": "q7l3pMLyuWnb"
      }
    },
    {
      "cell_type": "code",
      "source": [
        "### Subtraction\n",
        "u = k-e\n",
        "u"
      ],
      "metadata": {
        "colab": {
          "base_uri": "https://localhost:8080/"
        },
        "id": "W_Ueurf4ze33",
        "outputId": "fb940d04-a1bd-44f1-ac87-fb57f32a3d27"
      },
      "execution_count": null,
      "outputs": [
        {
          "output_type": "execute_result",
          "data": {
            "text/plain": [
              "31.5"
            ]
          },
          "metadata": {},
          "execution_count": 47
        }
      ]
    },
    {
      "cell_type": "markdown",
      "source": [
        "####Multiplication\n",
        "Using the symbol (*), this operation multiplies values on both sides of the operator."
      ],
      "metadata": {
        "id": "t7F7X1IYuwcw"
      }
    },
    {
      "cell_type": "code",
      "source": [
        "### Multiplication\n",
        "m = s*e\n",
        "m"
      ],
      "metadata": {
        "colab": {
          "base_uri": "https://localhost:8080/"
        },
        "id": "NSK_lWf-zm2h",
        "outputId": "4e4e4d04-afe3-49a8-eb58-ddda3c7e5af1"
      },
      "execution_count": null,
      "outputs": [
        {
          "output_type": "execute_result",
          "data": {
            "text/plain": [
              "-64.0"
            ]
          },
          "metadata": {},
          "execution_count": 48
        }
      ]
    },
    {
      "cell_type": "markdown",
      "source": [
        "####Division\n",
        "The division operator in Python is (/). When the first operand is divided by the second, it is utilized to find the quotient."
      ],
      "metadata": {
        "id": "9i7xX1oNvFLf"
      }
    },
    {
      "cell_type": "code",
      "source": [
        "### Divison\n",
        "d = y/s \n",
        "d"
      ],
      "metadata": {
        "colab": {
          "base_uri": "https://localhost:8080/"
        },
        "id": "2wiJo_N0z9Bs",
        "outputId": "e103acff-636a-4d3e-9e21-8cb566755399"
      },
      "execution_count": null,
      "outputs": [
        {
          "output_type": "execute_result",
          "data": {
            "text/plain": [
              "0.0"
            ]
          },
          "metadata": {},
          "execution_count": 49
        }
      ]
    },
    {
      "cell_type": "markdown",
      "source": [
        "####Floor Division\n",
        "When the first operand is divided by the second, floor division is applied to calculate the floor quotient. This is denoted by the operator (//)."
      ],
      "metadata": {
        "id": "bW01ejy046Vx"
      }
    },
    {
      "cell_type": "code",
      "source": [
        "### Floor Division\n",
        "fd = s//k\n",
        "fd"
      ],
      "metadata": {
        "colab": {
          "base_uri": "https://localhost:8080/"
        },
        "id": "cGLiYVAG0JbI",
        "outputId": "49faa76d-3be0-4983-dbc7-677289066740"
      },
      "execution_count": null,
      "outputs": [
        {
          "output_type": "execute_result",
          "data": {
            "text/plain": [
              "-4.0"
            ]
          },
          "metadata": {},
          "execution_count": 55
        }
      ]
    },
    {
      "cell_type": "markdown",
      "source": [
        "####Exponentiation\n",
        "To raise the first operand to the second power, exponentiation is performed through the symbol (**)."
      ],
      "metadata": {
        "id": "9w1w8hmb5UVg"
      }
    },
    {
      "cell_type": "code",
      "source": [
        "### Exponentiation\n",
        "ex = s**k\n",
        "ex"
      ],
      "metadata": {
        "colab": {
          "base_uri": "https://localhost:8080/"
        },
        "id": "oKBx0crs0hXa",
        "outputId": "028fad5b-570f-4f50-ce28-97b5549815a0"
      },
      "execution_count": null,
      "outputs": [
        {
          "output_type": "execute_result",
          "data": {
            "text/plain": [
              "0.7071067811865476"
            ]
          },
          "metadata": {},
          "execution_count": 56
        }
      ]
    },
    {
      "cell_type": "markdown",
      "source": [
        "####Modulo\n",
        "Modulo or Modulus uses the operator (%) that is responsible for dividing left hand operand by right hand operand and returns the remainder."
      ],
      "metadata": {
        "id": "3wvXYSR75lQI"
      }
    },
    {
      "cell_type": "code",
      "source": [
        "### Modulo\n",
        "mod = e%s \n",
        "mod"
      ],
      "metadata": {
        "colab": {
          "base_uri": "https://localhost:8080/"
        },
        "id": "96Ynk3Rl08cS",
        "outputId": "07f510dc-7c11-4e4a-e2cf-ae3ae3ccb4f4"
      },
      "execution_count": null,
      "outputs": [
        {
          "output_type": "execute_result",
          "data": {
            "text/plain": [
              "0.0"
            ]
          },
          "metadata": {},
          "execution_count": 57
        }
      ]
    },
    {
      "cell_type": "markdown",
      "source": [
        "### Assignment Operations\n",
        "Assignment operators are used in Python programming to assign values to variables."
      ],
      "metadata": {
        "id": "iJ8pd41t1iAV"
      }
    },
    {
      "cell_type": "markdown",
      "source": [
        "####= \n",
        "The equal operation's role is to \"Assign\" the value of the right side of the expression to the operand on the left side."
      ],
      "metadata": {
        "id": "R4ykHwJrIjQU"
      }
    },
    {
      "cell_type": "code",
      "source": [
        "w,x,y,z = 0,100,2,2"
      ],
      "metadata": {
        "id": "x1V0JILB1l3V"
      },
      "execution_count": null,
      "outputs": []
    },
    {
      "cell_type": "markdown",
      "source": [
        "####+= \n",
        "\"Add and Assign\" is designed to add both sides of the operand and the sum will be placed on the left operand. "
      ],
      "metadata": {
        "id": "DeMPovfAI7xR"
      }
    },
    {
      "cell_type": "code",
      "source": [
        "w += s \n",
        "w"
      ],
      "metadata": {
        "colab": {
          "base_uri": "https://localhost:8080/"
        },
        "id": "G6RBkpbv11H4",
        "outputId": "d69f0c5a-40d5-4715-f612-2677d53fc5ba"
      },
      "execution_count": null,
      "outputs": [
        {
          "output_type": "execute_result",
          "data": {
            "text/plain": [
              "2.0"
            ]
          },
          "metadata": {},
          "execution_count": 59
        }
      ]
    },
    {
      "cell_type": "markdown",
      "source": [
        "####-=\n",
        "\"Subtract And\" conducts subtraction to right operand from left operand. The difference would then be assigned to the left operand."
      ],
      "metadata": {
        "id": "s0vM8rAMJ1H4"
      }
    },
    {
      "cell_type": "code",
      "source": [
        "x -= e\n",
        "x"
      ],
      "metadata": {
        "colab": {
          "base_uri": "https://localhost:8080/"
        },
        "id": "KGeSbKU02TUO",
        "outputId": "59f1833b-0236-442c-9408-384a3f6568db"
      },
      "execution_count": null,
      "outputs": [
        {
          "output_type": "execute_result",
          "data": {
            "text/plain": [
              "164"
            ]
          },
          "metadata": {},
          "execution_count": 61
        }
      ]
    },
    {
      "cell_type": "markdown",
      "source": [
        "####*=\n",
        "\"Multiply And\" operates multiplication to both operands and then the product would be assigned to the left operand."
      ],
      "metadata": {
        "id": "RGhfZLloKqCy"
      }
    },
    {
      "cell_type": "code",
      "source": [
        "y *= 2\n",
        "y"
      ],
      "metadata": {
        "colab": {
          "base_uri": "https://localhost:8080/"
        },
        "id": "A9Sn0fmI2rga",
        "outputId": "f1e1338f-cbf0-4c8d-defd-f9cef9e1fceb"
      },
      "execution_count": null,
      "outputs": [
        {
          "output_type": "execute_result",
          "data": {
            "text/plain": [
              "4"
            ]
          },
          "metadata": {},
          "execution_count": 62
        }
      ]
    },
    {
      "cell_type": "markdown",
      "source": [
        "####**=\n",
        "\"Exponent And\" calculates the exponent value of the operands which would then be assigned also to the left operand."
      ],
      "metadata": {
        "id": "WvmGFxYBL2jM"
      }
    },
    {
      "cell_type": "code",
      "source": [
        "z **= 2\n",
        "z"
      ],
      "metadata": {
        "colab": {
          "base_uri": "https://localhost:8080/"
        },
        "id": "-1G0DyrZ3Jnt",
        "outputId": "840a62a1-bd9e-48e5-80b5-dd3875ff6cf5"
      },
      "execution_count": null,
      "outputs": [
        {
          "output_type": "execute_result",
          "data": {
            "text/plain": [
              "4"
            ]
          },
          "metadata": {},
          "execution_count": 21
        }
      ]
    },
    {
      "cell_type": "markdown",
      "source": [
        "###Comparators\n",
        "Values are compared using comparison operators. Depending on the condition, it results to either True or False."
      ],
      "metadata": {
        "id": "AJFwIlp_3aET"
      }
    },
    {
      "cell_type": "code",
      "source": [
        "trial_1, trial_2, trial_3 = 1, 2.0, \"1\"\n",
        "true_val = 1.0"
      ],
      "metadata": {
        "id": "cdsDQS2o3cbk"
      },
      "execution_count": null,
      "outputs": []
    },
    {
      "cell_type": "code",
      "source": [
        "## Equality\n",
        "trial_1 == true_val"
      ],
      "metadata": {
        "colab": {
          "base_uri": "https://localhost:8080/"
        },
        "id": "fx7J45Gt3rCp",
        "outputId": "a1a95fea-4df0-4868-854f-62622e3328d4"
      },
      "execution_count": null,
      "outputs": [
        {
          "output_type": "execute_result",
          "data": {
            "text/plain": [
              "True"
            ]
          },
          "metadata": {},
          "execution_count": 23
        }
      ]
    },
    {
      "cell_type": "code",
      "source": [
        "## Non-equality\n",
        "trial_2 != true_val"
      ],
      "metadata": {
        "colab": {
          "base_uri": "https://localhost:8080/"
        },
        "id": "pCMWGNSD3vu3",
        "outputId": "2e577216-6ae8-40a0-aeb0-01513af9a1e0"
      },
      "execution_count": null,
      "outputs": [
        {
          "output_type": "execute_result",
          "data": {
            "text/plain": [
              "True"
            ]
          },
          "metadata": {},
          "execution_count": 24
        }
      ]
    },
    {
      "cell_type": "code",
      "source": [
        "## Inequality\n",
        "t1 = trial_1 > trial_2\n",
        "t2 = trial_1 < trial_2/2\n",
        "t3 = trial_1 >= trial_1/2\n",
        "t4 = trial_1 <= trial_2\n",
        "t4\n"
      ],
      "metadata": {
        "colab": {
          "base_uri": "https://localhost:8080/"
        },
        "id": "TWUlPYCZ4U7k",
        "outputId": "6fa7293f-64cf-4317-dcb7-c97f956725c5"
      },
      "execution_count": null,
      "outputs": [
        {
          "output_type": "execute_result",
          "data": {
            "text/plain": [
              "True"
            ]
          },
          "metadata": {},
          "execution_count": 25
        }
      ]
    },
    {
      "cell_type": "markdown",
      "source": [
        "### Logical\n",
        "Logical operators are comprised of:\n",
        "\n",
        "\"AND\" - True if both operands are true\n",
        "\n",
        "\"OR\"  - True if either of the operands is true\n",
        "\n",
        "\"NOT\" - True if the operand is false"
      ],
      "metadata": {
        "id": "nTKmfUVJ5VBg"
      }
    },
    {
      "cell_type": "code",
      "source": [
        "trial_1 == true_val"
      ],
      "metadata": {
        "colab": {
          "base_uri": "https://localhost:8080/"
        },
        "id": "8T324RV96UTN",
        "outputId": "3417181d-77bb-40dc-828b-2285a41e6681"
      },
      "execution_count": null,
      "outputs": [
        {
          "output_type": "execute_result",
          "data": {
            "text/plain": [
              "True"
            ]
          },
          "metadata": {},
          "execution_count": 63
        }
      ]
    },
    {
      "cell_type": "code",
      "source": [
        "trial_1 is true_val"
      ],
      "metadata": {
        "colab": {
          "base_uri": "https://localhost:8080/"
        },
        "id": "ZUqHreSc6Y0Z",
        "outputId": "3a9311da-084c-4546-bfd3-d2c4e600e15b"
      },
      "execution_count": null,
      "outputs": [
        {
          "output_type": "execute_result",
          "data": {
            "text/plain": [
              "False"
            ]
          },
          "metadata": {},
          "execution_count": 64
        }
      ]
    },
    {
      "cell_type": "code",
      "source": [
        "trial_1 is not true_val"
      ],
      "metadata": {
        "colab": {
          "base_uri": "https://localhost:8080/"
        },
        "id": "o0ppuLul7P6U",
        "outputId": "fb263b87-6c6b-4624-f0e5-d1ae725fa4c2"
      },
      "execution_count": null,
      "outputs": [
        {
          "output_type": "execute_result",
          "data": {
            "text/plain": [
              "True"
            ]
          },
          "metadata": {},
          "execution_count": 28
        }
      ]
    },
    {
      "cell_type": "code",
      "source": [
        "p,q = True, True\n",
        "conj = p and q\n",
        "conj"
      ],
      "metadata": {
        "colab": {
          "base_uri": "https://localhost:8080/"
        },
        "id": "h0fzFRe37TJr",
        "outputId": "f4f234fd-76a5-4685-82f4-ac18021d235c"
      },
      "execution_count": null,
      "outputs": [
        {
          "output_type": "execute_result",
          "data": {
            "text/plain": [
              "True"
            ]
          },
          "metadata": {},
          "execution_count": 29
        }
      ]
    },
    {
      "cell_type": "code",
      "source": [
        "p,q = False, False\n",
        "disj = p or q\n",
        "disj"
      ],
      "metadata": {
        "colab": {
          "base_uri": "https://localhost:8080/"
        },
        "id": "rL8gvZuG7XjL",
        "outputId": "45e9e244-6525-414d-f2ed-e338d1e538e5"
      },
      "execution_count": null,
      "outputs": [
        {
          "output_type": "execute_result",
          "data": {
            "text/plain": [
              "False"
            ]
          },
          "metadata": {},
          "execution_count": 30
        }
      ]
    },
    {
      "cell_type": "code",
      "source": [
        "p,q = True, False\n",
        "e = not (p and q)\n",
        "e"
      ],
      "metadata": {
        "colab": {
          "base_uri": "https://localhost:8080/"
        },
        "id": "Fw5ukw_g7djv",
        "outputId": "5a385581-0cba-4da6-b707-92143060f1a0"
      },
      "execution_count": null,
      "outputs": [
        {
          "output_type": "execute_result",
          "data": {
            "text/plain": [
              "True"
            ]
          },
          "metadata": {},
          "execution_count": 31
        }
      ]
    },
    {
      "cell_type": "code",
      "source": [
        "p,q = True, False\n",
        "xor = (not p and q) or (p and not q)\n",
        "xor"
      ],
      "metadata": {
        "colab": {
          "base_uri": "https://localhost:8080/"
        },
        "id": "HuccD-vm7wRk",
        "outputId": "86f95b0a-8648-4bd3-a192-6174f00ff35b"
      },
      "execution_count": null,
      "outputs": [
        {
          "output_type": "execute_result",
          "data": {
            "text/plain": [
              "True"
            ]
          },
          "metadata": {},
          "execution_count": 32
        }
      ]
    },
    {
      "cell_type": "markdown",
      "source": [
        "###I/O\n",
        "Input and Output operators allow you to insert a value into your program that can be printed."
      ],
      "metadata": {
        "id": "1sRGLTB48E-V"
      }
    },
    {
      "cell_type": "code",
      "source": [
        "print(\"Welcome to my world\")"
      ],
      "metadata": {
        "colab": {
          "base_uri": "https://localhost:8080/"
        },
        "id": "p028A1Iq8G9O",
        "outputId": "14a2fa3d-5b00-4e76-b7fb-5af8cf640a2e"
      },
      "execution_count": null,
      "outputs": [
        {
          "output_type": "stream",
          "name": "stdout",
          "text": [
            "Welcome to my world\n"
          ]
        }
      ]
    },
    {
      "cell_type": "code",
      "source": [
        "cnt = 1"
      ],
      "metadata": {
        "id": "C6Om_3oK8OOh"
      },
      "execution_count": null,
      "outputs": []
    },
    {
      "cell_type": "code",
      "source": [
        "string = \"Welcome to my world\"\n",
        "print(string,\", your current run count is:\", cnt)\n",
        "cnt += 1"
      ],
      "metadata": {
        "colab": {
          "base_uri": "https://localhost:8080/"
        },
        "id": "M_gk3tWs8WW4",
        "outputId": "87bd4550-ba0c-41b1-af31-0ca342e5f350"
      },
      "execution_count": null,
      "outputs": [
        {
          "output_type": "stream",
          "name": "stdout",
          "text": [
            "Welcome to my world , your current run count is: 1\n"
          ]
        }
      ]
    },
    {
      "cell_type": "code",
      "source": [
        "print(f\"{string}, your current count is: {cnt}\")"
      ],
      "metadata": {
        "colab": {
          "base_uri": "https://localhost:8080/"
        },
        "id": "v5Uos6RQ8x8K",
        "outputId": "5da0d130-71b0-451e-a830-aaf09b1239c2"
      },
      "execution_count": null,
      "outputs": [
        {
          "output_type": "stream",
          "name": "stdout",
          "text": [
            "Welcome to my world, your current count is: 2\n"
          ]
        }
      ]
    },
    {
      "cell_type": "code",
      "source": [
        "sem_grade = 93.0124\n",
        "name = \"Viper\"\n",
        "print(\"Wazzup, {}!, your semestral grade is: {}\".format(name, sem_grade))"
      ],
      "metadata": {
        "colab": {
          "base_uri": "https://localhost:8080/"
        },
        "id": "YUHsIw-r9fTd",
        "outputId": "19457159-4b6c-4f0a-9244-eef340f86685"
      },
      "execution_count": null,
      "outputs": [
        {
          "output_type": "stream",
          "name": "stdout",
          "text": [
            "Wazzup, Viper!, your semestral grade is: 93.0124\n"
          ]
        }
      ]
    },
    {
      "cell_type": "code",
      "source": [
        "w_pg, w_mg, w_fg = 0.3, 0.3, 0.4\n",
        "print(\"Ang weight ng iyong semestral grades are: \\\n",
        "\\n\\t{:.2%} for Prelims\\\n",
        "\\n\\t{:.2%} for Midterms, and\\\n",
        "\\n\\t{:.2%} for Finals.\".format(w_pg, w_mg, w_fg))"
      ],
      "metadata": {
        "colab": {
          "base_uri": "https://localhost:8080/"
        },
        "id": "lJs2_GcatiH9",
        "outputId": "56707150-55a6-4607-8edf-56a0335b6415"
      },
      "execution_count": null,
      "outputs": [
        {
          "output_type": "stream",
          "name": "stdout",
          "text": [
            "Ang weight ng iyong semestral grades are: \n",
            "\t30.00% for Prelims\n",
            "\t30.00% for Midterms, and\n",
            "\t40.00% for Finals.\n"
          ]
        }
      ]
    },
    {
      "cell_type": "code",
      "source": [
        "x = input(\"enter a number, bhie: \")\n",
        "x"
      ],
      "metadata": {
        "colab": {
          "base_uri": "https://localhost:8080/",
          "height": 53
        },
        "id": "kYD1TffGudKr",
        "outputId": "0927d6a7-1ffd-4642-95ce-a3ff5d373d2c"
      },
      "execution_count": null,
      "outputs": [
        {
          "name": "stdout",
          "output_type": "stream",
          "text": [
            "enter a number, bhie: 14\n"
          ]
        },
        {
          "output_type": "execute_result",
          "data": {
            "application/vnd.google.colaboratory.intrinsic+json": {
              "type": "string"
            },
            "text/plain": [
              "'14'"
            ]
          },
          "metadata": {},
          "execution_count": 50
        }
      ]
    },
    {
      "cell_type": "code",
      "source": [
        "name = input(\"Hoy! Ano pangalan mo boi?: \")\n",
        "pg = input(\"Enter prelim grade: \")\n",
        "mg = input(\"Enter midterm grade: \")\n",
        "fg = input(\"Enter finals grade: \")\n",
        "sem_grade = None\n",
        "print(\"Hello {}, ang iyong semestral grade ay: {}\".format(name, sem_grade))"
      ],
      "metadata": {
        "colab": {
          "base_uri": "https://localhost:8080/"
        },
        "id": "cOBw6nrJupZR",
        "outputId": "316f0719-3f58-4887-c0f5-86f17f2e3d29"
      },
      "execution_count": null,
      "outputs": [
        {
          "output_type": "stream",
          "name": "stdout",
          "text": [
            "Hoy! Ano pangalan mo boi?: Rue\n",
            "Enter prelim grade: 90\n",
            "Enter midterm grade: 98\n",
            "Enter finals grade: 96\n",
            "Hello Rue, ang iyong semestral grade ay: None\n"
          ]
        }
      ]
    },
    {
      "cell_type": "markdown",
      "source": [
        "# Looping Statements\n"
      ],
      "metadata": {
        "id": "-t1Y5_vTv-Qo"
      }
    },
    {
      "cell_type": "markdown",
      "source": [
        "## While\n",
        "The while loop is used to repeatedly execute a set of statements until a condition is met."
      ],
      "metadata": {
        "id": "4uP1rR71wEeq"
      }
    },
    {
      "cell_type": "code",
      "source": [
        "## while loops\n",
        "i, j = 0, 14\n",
        "while(i<=j):\n",
        "  print(f\"{i}\\t|\\t{j}\")\n",
        "  i+=1"
      ],
      "metadata": {
        "colab": {
          "base_uri": "https://localhost:8080/"
        },
        "id": "Wj3FYaJ6wG51",
        "outputId": "43cb30a1-08c6-4747-dbdb-96662d89b75f"
      },
      "execution_count": null,
      "outputs": [
        {
          "output_type": "stream",
          "name": "stdout",
          "text": [
            "0\t|\t14\n",
            "1\t|\t14\n",
            "2\t|\t14\n",
            "3\t|\t14\n",
            "4\t|\t14\n",
            "5\t|\t14\n",
            "6\t|\t14\n",
            "7\t|\t14\n",
            "8\t|\t14\n",
            "9\t|\t14\n",
            "10\t|\t14\n",
            "11\t|\t14\n",
            "12\t|\t14\n",
            "13\t|\t14\n",
            "14\t|\t14\n"
          ]
        }
      ]
    },
    {
      "cell_type": "markdown",
      "source": [
        "##For\n",
        "For Loop is used to perform sequential traversal. It can be used to iterate throughout a set of iterators and a range of values."
      ],
      "metadata": {
        "id": "9X0e6lWTwlJ1"
      }
    },
    {
      "cell_type": "code",
      "source": [
        "# for(int i=0; i<10; i++){\n",
        "# printf(i)\n",
        "# }\n",
        "\n",
        "i=0\n",
        "for i in range(15):\n",
        "    print(i)"
      ],
      "metadata": {
        "colab": {
          "base_uri": "https://localhost:8080/"
        },
        "id": "FV8vTVGsxZwo",
        "outputId": "b09bc43c-69c5-40b9-bca9-d4c6a9b931aa"
      },
      "execution_count": null,
      "outputs": [
        {
          "output_type": "stream",
          "name": "stdout",
          "text": [
            "0\n",
            "1\n",
            "2\n",
            "3\n",
            "4\n",
            "5\n",
            "6\n",
            "7\n",
            "8\n",
            "9\n",
            "10\n",
            "11\n",
            "12\n",
            "13\n",
            "14\n"
          ]
        }
      ]
    },
    {
      "cell_type": "code",
      "source": [
        "playlist = [\"Lagi\", \"Tenerife Sea\", \"Is There Someone Else\"]\n",
        "print(\"Favorite Songs:\\n\")\n",
        "for song in playlist:\n",
        "  print(song)"
      ],
      "metadata": {
        "colab": {
          "base_uri": "https://localhost:8080/"
        },
        "id": "C84mpAIoyICM",
        "outputId": "f9134c54-3ee7-46f8-a8d8-7bd92b7a0d7c"
      },
      "execution_count": null,
      "outputs": [
        {
          "output_type": "stream",
          "name": "stdout",
          "text": [
            "Favorite Songs:\n",
            "\n",
            "Lagi\n",
            "Tenerife Sea\n",
            "Is There Someone Else\n"
          ]
        }
      ]
    },
    {
      "cell_type": "markdown",
      "source": [
        "#Flow Control\n",
        "Flow Control is a conditional statement that handles the presentation and execution of codes in a given program. This allows the software to continue running until specific conditions are met."
      ],
      "metadata": {
        "id": "CAh-Qc9kymWt"
      }
    },
    {
      "cell_type": "markdown",
      "source": [
        "##Condition Statements\n",
        "If and Else If statements are used in flow control to perform conditional operation."
      ],
      "metadata": {
        "id": "CfLjGcxFyykX"
      }
    },
    {
      "cell_type": "code",
      "source": [
        "numeral1, numeral2 = 14, 12\n",
        "if(numeral1 == numeral2):\n",
        "  print(\"Yie\")\n",
        "elif(numeral1>numeral2):\n",
        "  print(\"Uwu\")\n",
        "else:\n",
        "  print(\"Whoa\")\n",
        "# print(\"Hep hep\")"
      ],
      "metadata": {
        "colab": {
          "base_uri": "https://localhost:8080/"
        },
        "id": "ALFc8Egfy0XA",
        "outputId": "e2e5cc2c-1f51-4974-b643-c488fa810725"
      },
      "execution_count": null,
      "outputs": [
        {
          "output_type": "stream",
          "name": "stdout",
          "text": [
            "Uwu\n"
          ]
        }
      ]
    },
    {
      "cell_type": "markdown",
      "source": [
        "#Functions\n",
        "Fuctions are blocks of code which only runs when it is called. In python, \"def\" is used to designate a function."
      ],
      "metadata": {
        "id": "k838q9yO1lWb"
      }
    },
    {
      "cell_type": "code",
      "source": [
        "# void DeleteUser(int userid){\n",
        "# delete(userid);\n",
        "# }\n",
        "def delete_user (userid):\n",
        "    print(\"Successfully deleted user: {}\".format(userid))\n",
        "\n",
        "def delete_all_users ():\n",
        "    print(\"Valorant Pro-Player\")\n",
        "   "
      ],
      "metadata": {
        "id": "JpA8HDQb1mhW"
      },
      "execution_count": null,
      "outputs": []
    },
    {
      "cell_type": "code",
      "source": [
        "userid = \"Xeyah\"\n",
        "delete_user(\"Xeyah\")\n",
        "delete_all_users()"
      ],
      "metadata": {
        "colab": {
          "base_uri": "https://localhost:8080/"
        },
        "id": "FddVLW912Dyd",
        "outputId": "de8038c6-9d92-4b88-cd26-848057dced25"
      },
      "execution_count": null,
      "outputs": [
        {
          "output_type": "stream",
          "name": "stdout",
          "text": [
            "Successfully deleted user: Xeyah\n",
            "Valorant Pro-Player\n"
          ]
        }
      ]
    },
    {
      "cell_type": "code",
      "source": [
        "def add(addend1, addend2):\n",
        "  return addend1 + addend2\n",
        "\n",
        "def power_of_base2(exponent):\n",
        "  return 2**exponent"
      ],
      "metadata": {
        "id": "EVnNfunA3haR"
      },
      "execution_count": null,
      "outputs": []
    },
    {
      "cell_type": "code",
      "source": [
        "addend1, addend2 = 36, 22\n",
        "add(addend1, addend2)\n",
        "\n",
        "exponent = 4\n",
        "power_of_base2(exponent)"
      ],
      "metadata": {
        "colab": {
          "base_uri": "https://localhost:8080/"
        },
        "id": "odb8qbrL3tel",
        "outputId": "3ec9854d-8118-412e-aa0e-20b8741e727a"
      },
      "execution_count": null,
      "outputs": [
        {
          "output_type": "execute_result",
          "data": {
            "text/plain": [
              "16"
            ]
          },
          "metadata": {},
          "execution_count": 72
        }
      ]
    },
    {
      "cell_type": "markdown",
      "source": [
        "#Grade Calculator"
      ],
      "metadata": {
        "id": "qg0DHO7m9kYm"
      }
    },
    {
      "cell_type": "code",
      "source": [
        "print()\n",
        "name = input('\\tOla! What is your name? ');\n",
        "course = input('\\tWhat is your course? ');\n",
        "prelim = float(input('\\tGive Prelim Grade : '));\n",
        "midterm = float(input('\\tGive Midterm Grade : '));\n",
        "final = float(input('\\tGive Final Grade : '));\n",
        "grade= (prelim) + (midterm) + (final);\n",
        "avg= grade/3;\n",
        "\n",
        "print();\n",
        "print(\"\\t===== DISPLAYING RESULTS =====\");\n",
        "print();\n",
        "print(\"\\tHi,\", name, \"from the course\", course, \"!\");\n",
        "print();\n",
        "if avg > 70:\n",
        "    print(\"\\tYour grade is \\U0001F600\");\n",
        "elif avg == 70:\n",
        "    print(\"\\tYour grade is \\U0001F606\");\n",
        "elif avg < 70:\n",
        "      print(\"\\tYour grade is \\U0001F62D\");\n",
        "print();"
      ],
      "metadata": {
        "colab": {
          "base_uri": "https://localhost:8080/"
        },
        "id": "auIht-FdnFVX",
        "outputId": "4da7bc0b-0b81-498b-c13e-b5558e683c55"
      },
      "execution_count": null,
      "outputs": [
        {
          "output_type": "stream",
          "name": "stdout",
          "text": [
            "\n",
            "\tOla! What is your name? Astra\n",
            "\tWhat is your course? Bachelor of Science in Chemical Engineering\n",
            "\tGive Prelim Grade : 96\n",
            "\tGive Midterm Grade : 90\n",
            "\tGive Final Grade : 94\n",
            "\n",
            "\t===== DISPLAYING RESULTS =====\n",
            "\n",
            "\tHi, Astra from the course Bachelor of Science in Chemical Engineering !\n",
            "\n",
            "\tYour grade is 😀\n",
            "\n"
          ]
        }
      ]
    }
  ]
}
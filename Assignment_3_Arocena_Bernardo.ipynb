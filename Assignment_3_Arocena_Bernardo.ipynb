{
  "nbformat": 4,
  "nbformat_minor": 0,
  "metadata": {
    "colab": {
      "name": "Assignment 3_Arocena_Bernardo.ipynb",
      "provenance": [],
      "authorship_tag": "ABX9TyNjbUGydktCfmWyamA1Uwgl",
      "include_colab_link": true
    },
    "kernelspec": {
      "name": "python3",
      "display_name": "Python 3"
    },
    "language_info": {
      "name": "python"
    }
  },
  "cells": [
    {
      "cell_type": "markdown",
      "metadata": {
        "id": "view-in-github",
        "colab_type": "text"
      },
      "source": [
        "<a href=\"https://colab.research.google.com/github/maicaarocena/Linear-Algebra_2nd-Sem/blob/main/Assignment_3_Arocena_Bernardo.ipynb\" target=\"_parent\"><img src=\"https://colab.research.google.com/assets/colab-badge.svg\" alt=\"Open In Colab\"/></a>"
      ]
    },
    {
      "cell_type": "markdown",
      "source": [
        "#Linear Algebra for ChE\n",
        "## Laboratory 2 : Matrices\n",
        "\n",
        "Now that you have a fundamental knowledge about Python, we'll try to look into greater dimensions."
      ],
      "metadata": {
        "id": "3hd8HpMvhki_"
      }
    },
    {
      "cell_type": "markdown",
      "source": [
        "#Objectives\n",
        "At the end of this activity, you will be able to:\n",
        "1. Be familiar with matrices and their relation to linear equations.\n",
        "2. Perform basic matric operations\n",
        "3. Program and transate matrix equations and operations using Python."
      ],
      "metadata": {
        "id": "TqYg36Zwhluf"
      }
    },
    {
      "cell_type": "markdown",
      "source": [
        "#Discussion"
      ],
      "metadata": {
        "id": "QmewOt1RhqZe"
      }
    },
    {
      "cell_type": "code",
      "source": [
        "import numpy as np\n",
        "import matplotlib.pyplot as plt\n",
        "import scipy.linalg as la\n",
        "%matplotlib inline"
      ],
      "metadata": {
        "id": "oKEdfPnYhs8v"
      },
      "execution_count": 13,
      "outputs": []
    },
    {
      "cell_type": "markdown",
      "source": [
        "##Matrices\n",
        "The notation and use of matrices is probably one of the fundamentals of modern computing. Matrices are also handy representations of complex equations or multiple inter-related equations from 2-dimensional equations to even hundreds and thousands of them.\n",
        "\n",
        "Let's say for example you have A and B as system of equation."
      ],
      "metadata": {
        "id": "C5vx_ZtWh0q_"
      }
    },
    {
      "cell_type": "markdown",
      "source": [
        "$$\n",
        "A = \\left\\{\n",
        "    \\begin{array}\\\n",
        "        x + y \\\\ \n",
        "        4x - 10y\n",
        "    \\end{array}\n",
        "\\right. \\\\\n",
        "B = \\left\\{\n",
        "    \\begin{array}\\\n",
        "        x+y+z \\\\ \n",
        "        3x -2y -z \\\\\n",
        "        -x + 4y +2z\n",
        "    \\end{array}\n",
        "\\right. \\\\\n",
        "C = \\left\\{\n",
        "    \\begin{array}\\\n",
        "        w-2x+3y-4z \\\\ \n",
        "        3w-x -2y +z \\\\\n",
        "        2w-x + 3y -2z\n",
        "    \\end{array}\n",
        "\\right. $$"
      ],
      "metadata": {
        "id": "YSCozIwBh4t4"
      }
    },
    {
      "cell_type": "markdown",
      "source": [
        "We could see that A is a system of 2 equations with 2 parameters. While B is a system of 3 equations with 3 parameters. We can represent them as matrices as:"
      ],
      "metadata": {
        "id": "33EGYFVriAF4"
      }
    },
    {
      "cell_type": "markdown",
      "source": [
        "$$\n",
        "B = \\left\\{\n",
        "    \\begin{array}\\\n",
        "        x+y+z \\\\ \n",
        "        3x -2y -z \\\\\n",
        "        -x + 4y +2z\n",
        "    \\end{array}\n",
        "\\right. \\\\\n",
        "$$"
      ],
      "metadata": {
        "id": "Gf8XpqyyiAxA"
      }
    },
    {
      "cell_type": "markdown",
      "source": [
        "Just like our previous laboratory activity, we'll represent system of linear equations as a matrix. The entities or numbers in matrices are called the elements of a matrix. These elements are arranged and ordered in rows and columns which form the list/array-like structures of matrices. And just like arrays, these elements are indezed according their position with respect to their rows and columns. This can be represented just like the equation below. Whereas A is a matrix consisting of elements denoted by aij. Denoted by i is the number of rows in the matrix while j stands for the numner of columns.\n",
        "Do note that the size of a matrix is i x j."
      ],
      "metadata": {
        "id": "rtxAD-MJiD1J"
      }
    },
    {
      "cell_type": "markdown",
      "source": [
        "$$A=\\begin{bmatrix}\n",
        "a_{(0,0)}&a_{(0,1)}&\\dots&a_{(0,j-1)}\\\\\n",
        "a_{(1,0)}&a_{(1,1)}&\\dots&a_{(1,j-1)}\\\\\n",
        "\\vdots&\\vdots&\\ddots&\\vdots&\\\\\n",
        "a_{(i-1,0)}&a_{(i-1,1)}&\\dots&a_{(i-1,j-1)}\n",
        "\\end{bmatrix}\n",
        "$$\n"
      ],
      "metadata": {
        "id": "48TPDPYEiKVi"
      }
    },
    {
      "cell_type": "markdown",
      "source": [
        "We already gone over some of the types of matrices as vectors byt we'll further discuss them in this laboratory activity."
      ],
      "metadata": {
        "id": "IJkGBpEsiOSb"
      }
    },
    {
      "cell_type": "code",
      "source": [
        "##Since we'll keep on describing matrices, Let's make a function. \n",
        "def describe_mat(matrix):\n",
        "  print (f'Matrix:\\n{matrix}\\n\\nShape:\\t{matrix.shape}\\nRank:\\t{matrix.ndim}\\n')"
      ],
      "metadata": {
        "id": "sa8tq7UNiR5x"
      },
      "execution_count": null,
      "outputs": []
    },
    {
      "cell_type": "code",
      "source": [
        "##Declaring a 2 x 2 matrix\n",
        "A = np.array([\n",
        "    [1, 2],\n",
        "    [3, 1]\n",
        "])\n",
        "describe_mat(A)"
      ],
      "metadata": {
        "colab": {
          "base_uri": "https://localhost:8080/"
        },
        "id": "26n4dN6KiTDs",
        "outputId": "b54f6cb4-7aa7-40af-e9d4-42f1676a33cb"
      },
      "execution_count": null,
      "outputs": [
        {
          "output_type": "stream",
          "name": "stdout",
          "text": [
            "Matrix:\n",
            "[[1 2]\n",
            " [3 1]]\n",
            "\n",
            "Shape:\t(2, 2)\n",
            "Rank:\t2\n",
            "\n"
          ]
        }
      ]
    },
    {
      "cell_type": "code",
      "source": [
        "##Declaring a 3 x 2 matrix\n",
        "B = np.array([\n",
        "    [8,2],\n",
        "    [5,4],\n",
        "    [1,1]\n",
        "])\n",
        "describe_mat(B)"
      ],
      "metadata": {
        "colab": {
          "base_uri": "https://localhost:8080/"
        },
        "id": "2cV83Wl5iZSn",
        "outputId": "866f15e5-5fe0-4dbf-aaad-924e2da8799b"
      },
      "execution_count": null,
      "outputs": [
        {
          "output_type": "stream",
          "name": "stdout",
          "text": [
            "Matrix:\n",
            "[[8 2]\n",
            " [5 4]\n",
            " [1 1]]\n",
            "\n",
            "Shape:\t(3, 2)\n",
            "Rank:\t2\n",
            "\n"
          ]
        }
      ]
    },
    {
      "cell_type": "markdown",
      "source": [
        "#Categorizing Matrices\n",
        "Matrices come in a variety of shapes and elemental values due to the diverse arrangements of values inside its elements and dimensions. With this, they can be divided into the following categories:"
      ],
      "metadata": {
        "id": "D2W6TtwyidaF"
      }
    },
    {
      "cell_type": "code",
      "source": [
        "## Declaring a Row Matrix\n",
        "\n",
        "row_mat_1D = np.array([\n",
        "    1, 3, 2\n",
        "]) ## this is a 1-D Matrix with a shape of (3,), it's not really ocnsidered as a row matrix.\n",
        "row_mat_2D = np.array([\n",
        "    [1,2,3, -4]\n",
        "]) ## this is a 2-D Matrix with a shape of (1,3)\n",
        "describe_mat(row_mat_1D)\n",
        "describe_mat(row_mat_2D)"
      ],
      "metadata": {
        "colab": {
          "base_uri": "https://localhost:8080/"
        },
        "id": "-bbtaopWigKG",
        "outputId": "7765389a-11ef-4376-8372-a65cac387d15"
      },
      "execution_count": null,
      "outputs": [
        {
          "output_type": "stream",
          "name": "stdout",
          "text": [
            "Matrix:\n",
            "[1 3 2]\n",
            "\n",
            "Shape:\t(3,)\n",
            "Rank:\t1\n",
            "\n",
            "Matrix:\n",
            "[[ 1  2  3 -4]]\n",
            "\n",
            "Shape:\t(1, 4)\n",
            "Rank:\t2\n",
            "\n"
          ]
        }
      ]
    },
    {
      "cell_type": "code",
      "source": [
        "## Declaring a Column Matrix\n",
        "\n",
        "col_mat = np.array([\n",
        "    [14],\n",
        "    [12],\n",
        "    [25]\n",
        "]) ##this is a 2-D Matrix with a shape of (3,1)\n",
        "describe_mat(col_mat)"
      ],
      "metadata": {
        "colab": {
          "base_uri": "https://localhost:8080/"
        },
        "id": "NQxfPHIMijVz",
        "outputId": "bc682783-3464-494d-a436-a9a080e9261a"
      },
      "execution_count": null,
      "outputs": [
        {
          "output_type": "stream",
          "name": "stdout",
          "text": [
            "Matrix:\n",
            "[[14]\n",
            " [12]\n",
            " [25]]\n",
            "\n",
            "Shape:\t(3, 1)\n",
            "Rank:\t2\n",
            "\n"
          ]
        }
      ]
    },
    {
      "cell_type": "markdown",
      "source": [
        "###Square Matrices\n",
        "Square matrices are defined with the same number of rows and columns. If i = j, we can say that a matrix is square. To find square matrices, we can modify our matrix descriptor function."
      ],
      "metadata": {
        "id": "erG5EAIRimi7"
      }
    },
    {
      "cell_type": "code",
      "source": [
        "def describe_mat(matrix):\n",
        "  is_square = True if matrix.shape[0] == matrix.shape[1] else False\n",
        "  print(f'Matrix:\\n{matrix}\\n\\nShape:\\t{matrix.shape}\\nRank:\\t{matrix.ndim}\\nIs Square: {is_square}\\n')"
      ],
      "metadata": {
        "id": "Vh9jwPq1iqQr"
      },
      "execution_count": 12,
      "outputs": []
    },
    {
      "cell_type": "code",
      "source": [
        "square_mat = np.array([\n",
        "  [12,24,15],\n",
        "  [33,17,84],\n",
        "  [60,14,21]\n",
        "])\n",
        "non_square_mat = np.array([\n",
        "  [12,24,15],\n",
        "  [33,17,84]\n",
        "])\n",
        "describe_mat(square_mat)\n",
        "describe_mat(non_square_mat)"
      ],
      "metadata": {
        "colab": {
          "base_uri": "https://localhost:8080/"
        },
        "id": "37h71Vq1iuB7",
        "outputId": "143544bf-91cb-4856-f5ce-4ede0aa50c00"
      },
      "execution_count": null,
      "outputs": [
        {
          "output_type": "stream",
          "name": "stdout",
          "text": [
            "Matrix:\n",
            "[[12 24 15]\n",
            " [33 17 84]\n",
            " [60 14 21]]\n",
            "\n",
            "Shape:\t(3, 3)\n",
            "Rank:\t2\n",
            "Is Square: True\n",
            "\n",
            "Matrix:\n",
            "[[12 24 15]\n",
            " [33 17 84]]\n",
            "\n",
            "Shape:\t(2, 3)\n",
            "Rank:\t2\n",
            "Is Square: False\n",
            "\n"
          ]
        }
      ]
    },
    {
      "cell_type": "markdown",
      "source": [
        "###Null Matrix\n",
        "A Null Matrix is a matrix that has no elements. Its always a subspace of any vector or matrix"
      ],
      "metadata": {
        "id": "XvtJALjXi3KW"
      }
    },
    {
      "cell_type": "code",
      "source": [
        "def describe_mat(matrix):\n",
        "  if matrix.size > 0:\n",
        "    is_square = True if matrix.shape[0] == matrix.shape[1] else False\n",
        "    print(f'Matrix:\\n{matrix}\\n\\nShape:\\t{matrix.shape}\\nRank:\\t{matrix.ndim}\\nIs Square: {is_square}\\n')\n",
        "  else:\n",
        "    print('Matrix is Null')"
      ],
      "metadata": {
        "id": "5bg_jM4bi45u"
      },
      "execution_count": null,
      "outputs": []
    },
    {
      "cell_type": "code",
      "source": [
        "null_mat = np.array([])\n",
        "describe_mat(null_mat)"
      ],
      "metadata": {
        "colab": {
          "base_uri": "https://localhost:8080/"
        },
        "id": "uwwXQ4Wxi_w_",
        "outputId": "0ffb2e9b-d868-46bc-b315-fccf2c7e8c47"
      },
      "execution_count": null,
      "outputs": [
        {
          "output_type": "stream",
          "name": "stdout",
          "text": [
            "Matrix is Null\n"
          ]
        }
      ]
    },
    {
      "cell_type": "markdown",
      "source": [
        "###Zero Matrix\n",
        "In mathematics, particularly linear algebra and so as in Python programming, a zero matrix is a matrix all of whose entries are valued zero. "
      ],
      "metadata": {
        "id": "8UZg702OjDZm"
      }
    },
    {
      "cell_type": "code",
      "source": [
        "zero_mat_row = np.zeros((1,2))\n",
        "zero_mat_sqr = np.zeros((2,2))\n",
        "zero_mat_rct = np.zeros((3,2))\n",
        "\n",
        "print(f'Zero Row Matrix: \\n{zero_mat_row}')\n",
        "print(f'Zero Square Matrix: \\n{zero_mat_sqr}')\n",
        "print(f'Zero Rectangular Matrix: \\n{zero_mat_rct}')"
      ],
      "metadata": {
        "colab": {
          "base_uri": "https://localhost:8080/"
        },
        "id": "G969WvVbjGE-",
        "outputId": "5b081f0c-c5da-4f22-a8d4-7f9969ade7b5"
      },
      "execution_count": null,
      "outputs": [
        {
          "output_type": "stream",
          "name": "stdout",
          "text": [
            "Zero Row Matrix: \n",
            "[[0. 0.]]\n",
            "Zero Square Matrix: \n",
            "[[0. 0.]\n",
            " [0. 0.]]\n",
            "Zero Rectangular Matrix: \n",
            "[[0. 0.]\n",
            " [0. 0.]\n",
            " [0. 0.]]\n"
          ]
        }
      ]
    },
    {
      "cell_type": "markdown",
      "source": [
        "###Ones Matrix\n",
        "A matrix of ones or all-ones matrix is a matrix where every element is equal to one. Similarly to zero matrix; however, the element values would always be ones. "
      ],
      "metadata": {
        "id": "EcOpWyn0jItv"
      }
    },
    {
      "cell_type": "code",
      "source": [
        "ones_mat_row = np.ones((1,2))\n",
        "ones_mat_sqr = np.ones((2,2))\n",
        "ones_mat_rct = np.ones((3,2))\n",
        "\n",
        "print(f'Ones Row Matrix: \\n{ones_mat_row}')\n",
        "print(f'Ones Square Matrix: \\n{ones_mat_sqr}')\n",
        "print(f'Ones Rectangular Matrix: \\n{ones_mat_rct}')"
      ],
      "metadata": {
        "colab": {
          "base_uri": "https://localhost:8080/"
        },
        "id": "RkczsiBijK4e",
        "outputId": "d57f0d9d-0341-40eb-b271-e283391042bc"
      },
      "execution_count": null,
      "outputs": [
        {
          "output_type": "stream",
          "name": "stdout",
          "text": [
            "Ones Row Matrix: \n",
            "[[1. 1.]]\n",
            "Ones Square Matrix: \n",
            "[[1. 1.]\n",
            " [1. 1.]]\n",
            "Ones Rectangular Matrix: \n",
            "[[1. 1.]\n",
            " [1. 1.]\n",
            " [1. 1.]]\n"
          ]
        }
      ]
    },
    {
      "cell_type": "markdown",
      "source": [
        "###Diagonal Matrix\n",
        "A diagonal matrix is a square matrix that has values only at the diagonal of the matrix."
      ],
      "metadata": {
        "id": "m-93LFbQjTg_"
      }
    },
    {
      "cell_type": "code",
      "source": [
        "np.array([\n",
        "          [14,0,0],\n",
        "          [0,30,0],\n",
        "          [0,0,25]     \n",
        "])\n",
        "# a[1,1], a[2,2], a[3,3], ... a[n-1,n-1]"
      ],
      "metadata": {
        "colab": {
          "base_uri": "https://localhost:8080/"
        },
        "id": "GuBdVhjljWFA",
        "outputId": "9bd03faa-47c7-445d-eaef-ab1eac55fa03"
      },
      "execution_count": null,
      "outputs": [
        {
          "output_type": "execute_result",
          "data": {
            "text/plain": [
              "array([[14,  0,  0],\n",
              "       [ 0, 30,  0],\n",
              "       [ 0,  0, 25]])"
            ]
          },
          "metadata": {},
          "execution_count": 13
        }
      ]
    },
    {
      "cell_type": "markdown",
      "source": [
        "---shorcut below---"
      ],
      "metadata": {
        "id": "66dThc5-jYz3"
      }
    },
    {
      "cell_type": "code",
      "source": [
        "d = np.diag([14,30,25,17])\n",
        "d.shape[0] == d.shape[1]\n",
        "d"
      ],
      "metadata": {
        "colab": {
          "base_uri": "https://localhost:8080/"
        },
        "id": "NAKi2SWWjbY_",
        "outputId": "ef1c1162-2b0a-4a2e-ce53-751b7fe1fe53"
      },
      "execution_count": null,
      "outputs": [
        {
          "output_type": "execute_result",
          "data": {
            "text/plain": [
              "array([[14,  0,  0,  0],\n",
              "       [ 0, 30,  0,  0],\n",
              "       [ 0,  0, 25,  0],\n",
              "       [ 0,  0,  0, 17]])"
            ]
          },
          "metadata": {},
          "execution_count": 14
        }
      ]
    },
    {
      "cell_type": "markdown",
      "source": [
        "###Identity Matrix\n",
        "An identity matrix is a special diagonal matrix in which the values at the diagonal are ones."
      ],
      "metadata": {
        "id": "Vx5hoh0Ejfwu"
      }
    },
    {
      "cell_type": "code",
      "source": [
        "np.eye(10)"
      ],
      "metadata": {
        "colab": {
          "base_uri": "https://localhost:8080/"
        },
        "id": "3OnffHoYjiU-",
        "outputId": "21640cce-01e1-49b7-e7f5-886e8ec62e0b"
      },
      "execution_count": null,
      "outputs": [
        {
          "output_type": "execute_result",
          "data": {
            "text/plain": [
              "array([[1., 0., 0., 0., 0., 0., 0., 0., 0., 0.],\n",
              "       [0., 1., 0., 0., 0., 0., 0., 0., 0., 0.],\n",
              "       [0., 0., 1., 0., 0., 0., 0., 0., 0., 0.],\n",
              "       [0., 0., 0., 1., 0., 0., 0., 0., 0., 0.],\n",
              "       [0., 0., 0., 0., 1., 0., 0., 0., 0., 0.],\n",
              "       [0., 0., 0., 0., 0., 1., 0., 0., 0., 0.],\n",
              "       [0., 0., 0., 0., 0., 0., 1., 0., 0., 0.],\n",
              "       [0., 0., 0., 0., 0., 0., 0., 1., 0., 0.],\n",
              "       [0., 0., 0., 0., 0., 0., 0., 0., 1., 0.],\n",
              "       [0., 0., 0., 0., 0., 0., 0., 0., 0., 1.]])"
            ]
          },
          "metadata": {},
          "execution_count": 17
        }
      ]
    },
    {
      "cell_type": "code",
      "source": [
        "np.identity(6)"
      ],
      "metadata": {
        "colab": {
          "base_uri": "https://localhost:8080/"
        },
        "id": "_pbMtifqD5tZ",
        "outputId": "5f08449c-1cc2-4380-9a15-630da463fcd4"
      },
      "execution_count": 15,
      "outputs": [
        {
          "output_type": "execute_result",
          "data": {
            "text/plain": [
              "array([[1., 0., 0., 0., 0., 0.],\n",
              "       [0., 1., 0., 0., 0., 0.],\n",
              "       [0., 0., 1., 0., 0., 0.],\n",
              "       [0., 0., 0., 1., 0., 0.],\n",
              "       [0., 0., 0., 0., 1., 0.],\n",
              "       [0., 0., 0., 0., 0., 1.]])"
            ]
          },
          "metadata": {},
          "execution_count": 15
        }
      ]
    },
    {
      "cell_type": "markdown",
      "source": [
        "##Upper Triangular Matrix\n",
        "An upper triangular matrix is a matrix that has no values below the diagonal."
      ],
      "metadata": {
        "id": "7BMkhOPZjl4N"
      }
    },
    {
      "cell_type": "code",
      "source": [
        "np.array([\n",
        "    [1,2,3,4],\n",
        "    [0,3,1,-1],\n",
        "    [0,0,5,2],\n",
        "    [0,0,0,2]\n",
        "])"
      ],
      "metadata": {
        "colab": {
          "base_uri": "https://localhost:8080/"
        },
        "id": "9Q08iRkrjotW",
        "outputId": "559ffab9-3488-4bf8-90ca-f56737e29a85"
      },
      "execution_count": null,
      "outputs": [
        {
          "output_type": "execute_result",
          "data": {
            "text/plain": [
              "array([[ 1,  2,  3,  4],\n",
              "       [ 0,  3,  1, -1],\n",
              "       [ 0,  0,  5,  2],\n",
              "       [ 0,  0,  0,  2]])"
            ]
          },
          "metadata": {},
          "execution_count": 19
        }
      ]
    },
    {
      "cell_type": "markdown",
      "source": [
        "##Lower Triangular Matrix\n",
        "This is the opposite of upper triangular where there is no values above the diagonal."
      ],
      "metadata": {
        "id": "dghkK1kYjwjn"
      }
    },
    {
      "cell_type": "code",
      "source": [
        "np.array([\n",
        "    [2,0,0,0],\n",
        "    [1,3,0,0],\n",
        "    [7,6,5,0]\n",
        "])"
      ],
      "metadata": {
        "colab": {
          "base_uri": "https://localhost:8080/"
        },
        "id": "6J9wl10svyIL",
        "outputId": "adceb611-b39e-4294-dbbe-55c5370f7f55"
      },
      "execution_count": null,
      "outputs": [
        {
          "output_type": "execute_result",
          "data": {
            "text/plain": [
              "array([[2, 0, 0, 0],\n",
              "       [1, 3, 0, 0],\n",
              "       [7, 6, 5, 0]])"
            ]
          },
          "metadata": {},
          "execution_count": 20
        }
      ]
    },
    {
      "cell_type": "markdown",
      "source": [
        "#Practice"
      ],
      "metadata": {
        "id": "8hlOM1idDUxv"
      }
    },
    {
      "cell_type": "markdown",
      "source": [
        "1. Given the linear combination below, try to create a corresponding matrix representing it."
      ],
      "metadata": {
        "id": "JJtsgcsFDY8v"
      }
    },
    {
      "cell_type": "markdown",
      "source": [
        ":$$\\theta = 5x + 3y - z$$"
      ],
      "metadata": {
        "id": "ADh3qPAYDbDu"
      }
    },
    {
      "cell_type": "markdown",
      "source": [
        "**Answer**"
      ],
      "metadata": {
        "id": "1J37Ly8UDdi4"
      }
    },
    {
      "cell_type": "code",
      "source": [
        "num_1 = np.array([\n",
        "    [5, 3, -1]\n",
        "])\n",
        "print (num_1)"
      ],
      "metadata": {
        "colab": {
          "base_uri": "https://localhost:8080/"
        },
        "id": "A7maiOBjDfHR",
        "outputId": "c28df1b7-b1b7-471e-ef55-afd80d6da2f4"
      },
      "execution_count": 14,
      "outputs": [
        {
          "output_type": "stream",
          "name": "stdout",
          "text": [
            "[[ 5  3 -1]]\n"
          ]
        }
      ]
    },
    {
      "cell_type": "markdown",
      "source": [
        "2. Given the system of linear combinations below, try to encode it as a matrix. Also describe the matrix."
      ],
      "metadata": {
        "id": "ZPXytBVBEAeB"
      }
    },
    {
      "cell_type": "markdown",
      "source": [
        "$$\n",
        "A = \\left\\{\\begin{array}\n",
        "5x_1 + 2x_2 +x_3\\\\\n",
        "4x_2 - x_3\\\\\n",
        "10x_3\n",
        "\\end{array}\\right.\n",
        "$$\n"
      ],
      "metadata": {
        "id": "fZknSrdPEDPK"
      }
    },
    {
      "cell_type": "markdown",
      "source": [
        "**Answer**"
      ],
      "metadata": {
        "id": "5hLjqEQqEFT6"
      }
    },
    {
      "cell_type": "code",
      "source": [
        "num_2 = np.array([\n",
        "    [1, 2, 1],\n",
        "    [0, 4, -1],\n",
        "    [0, 0, 10]  \n",
        "])\n",
        "describe_mat(num_2)"
      ],
      "metadata": {
        "colab": {
          "base_uri": "https://localhost:8080/"
        },
        "id": "JTA4nvobEHp7",
        "outputId": "78e72dc2-3bf9-423a-ca36-ade6cc40367f"
      },
      "execution_count": 16,
      "outputs": [
        {
          "output_type": "stream",
          "name": "stdout",
          "text": [
            "Matrix:\n",
            "[[ 1  2  1]\n",
            " [ 0  4 -1]\n",
            " [ 0  0 10]]\n",
            "\n",
            "Shape:\t(3, 3)\n",
            "Rank:\t2\n",
            "Is Square: True\n",
            "\n"
          ]
        }
      ]
    },
    {
      "cell_type": "markdown",
      "source": [
        "3. Given the matrix below, express it as a linear combination in a markdown and a LaTeX markdown.\n"
      ],
      "metadata": {
        "id": "yU4Ib-V3EKOI"
      }
    },
    {
      "cell_type": "code",
      "source": [
        "G = np.array([\n",
        "    [1, 7, 8],\n",
        "    [2, 2, 2],\n",
        "    [4, 6, 7]\n",
        "])"
      ],
      "metadata": {
        "id": "R9IyNrmxEMLn"
      },
      "execution_count": 17,
      "outputs": []
    },
    {
      "cell_type": "markdown",
      "source": [
        "**Answer**"
      ],
      "metadata": {
        "id": "869Qi9v1EPzH"
      }
    },
    {
      "cell_type": "markdown",
      "source": [
        "Linear Combination:\n",
        "$$\n",
        "G = \\left\\{\n",
        "    \\begin{array}\\\n",
        "        x_1+7x_2+8x_3 \\\\ \n",
        "        2x_1+2x_2+2x_3 \\\\\n",
        "        4x_1+6x_2+7x_3\n",
        "    \\end{array}\n",
        "\\right. $$"
      ],
      "metadata": {
        "id": "5IXvrKp_ESFP"
      }
    },
    {
      "cell_type": "markdown",
      "source": [
        "LaTeX:\n",
        "$$\n",
        "G=\\begin{bmatrix} 1 & 7 & 8 \\\\ 2 & 2 & 2 \\\\ 4 & 6 & 7\\end{bmatrix}\n",
        "$$"
      ],
      "metadata": {
        "id": "VlKnp7g-EVsI"
      }
    },
    {
      "cell_type": "markdown",
      "source": [
        "4. Given the matrix below, display the output as a LaTeX markdown also express it as a system of linear combinations."
      ],
      "metadata": {
        "id": "oELOEWFTEZXv"
      }
    },
    {
      "cell_type": "code",
      "source": [
        "H = np.tril(G)\n",
        "H"
      ],
      "metadata": {
        "colab": {
          "base_uri": "https://localhost:8080/"
        },
        "id": "uHsueyQ5EbMo",
        "outputId": "585f1040-a5b7-4382-9727-c2a4d6adfe17"
      },
      "execution_count": 18,
      "outputs": [
        {
          "output_type": "execute_result",
          "data": {
            "text/plain": [
              "array([[1, 0, 0],\n",
              "       [2, 2, 0],\n",
              "       [4, 6, 7]])"
            ]
          },
          "metadata": {},
          "execution_count": 18
        }
      ]
    },
    {
      "cell_type": "markdown",
      "source": [
        "**Answer**"
      ],
      "metadata": {
        "id": "MsK0r_crEd3v"
      }
    },
    {
      "cell_type": "markdown",
      "source": [
        "Linear Combination:\n",
        "$$\n",
        "H = \\left\\{\n",
        "    \\begin{array}\\\n",
        "        x_1 \\\\ \n",
        "        2x_1+2x_2\\\\\n",
        "        4x_1+6x_2+7x_3\n",
        "    \\end{array}\n",
        "\\right. $$"
      ],
      "metadata": {
        "id": "5D-GKr3vEg7x"
      }
    },
    {
      "cell_type": "markdown",
      "source": [
        "LaTeX:\n",
        "$$\n",
        "H=\\begin{bmatrix} 1 & 0 & 0 \\\\ 2 & 2 & 0 \\\\ 4 & 6 & 7\\end{bmatrix}\n",
        "$$"
      ],
      "metadata": {
        "id": "xL6exvjSEjE3"
      }
    },
    {
      "cell_type": "markdown",
      "source": [
        "#Matrix Algebra"
      ],
      "metadata": {
        "id": "fnpEzEAnEmcf"
      }
    },
    {
      "cell_type": "markdown",
      "source": [
        "###Addition"
      ],
      "metadata": {
        "id": "jp4NY5bjEpaI"
      }
    },
    {
      "cell_type": "code",
      "source": [
        "A = np.array([\n",
        "    [4,6],\n",
        "    [9,2],\n",
        "    [9,3]\n",
        "])\n",
        "B = np.array([\n",
        "    [7,8],\n",
        "    [1,5],\n",
        "    [2,6]\n",
        "])\n",
        "A+B"
      ],
      "metadata": {
        "colab": {
          "base_uri": "https://localhost:8080/"
        },
        "id": "YH4FXJrTEs9w",
        "outputId": "f7689b57-c228-40fa-8e17-71c19b47fb57"
      },
      "execution_count": 19,
      "outputs": [
        {
          "output_type": "execute_result",
          "data": {
            "text/plain": [
              "array([[11, 14],\n",
              "       [10,  7],\n",
              "       [11,  9]])"
            ]
          },
          "metadata": {},
          "execution_count": 19
        }
      ]
    },
    {
      "cell_type": "code",
      "source": [
        "2+A ##Broadcasting\n",
        "# 2*np.ones(A.shape)+A"
      ],
      "metadata": {
        "colab": {
          "base_uri": "https://localhost:8080/"
        },
        "id": "AgmcRuieEwip",
        "outputId": "f56f6895-b088-4ea3-9b0b-744ae210b175"
      },
      "execution_count": 20,
      "outputs": [
        {
          "output_type": "execute_result",
          "data": {
            "text/plain": [
              "array([[ 6,  8],\n",
              "       [11,  4],\n",
              "       [11,  5]])"
            ]
          },
          "metadata": {},
          "execution_count": 20
        }
      ]
    },
    {
      "cell_type": "markdown",
      "source": [
        "###Subtraction"
      ],
      "metadata": {
        "id": "KsC864JRE0gn"
      }
    },
    {
      "cell_type": "code",
      "source": [
        "A-B"
      ],
      "metadata": {
        "colab": {
          "base_uri": "https://localhost:8080/"
        },
        "id": "hjmHBGJuE4m3",
        "outputId": "c01644de-2cee-4bef-9c99-981399ae6e93"
      },
      "execution_count": 21,
      "outputs": [
        {
          "output_type": "execute_result",
          "data": {
            "text/plain": [
              "array([[-3, -2],\n",
              "       [ 8, -3],\n",
              "       [ 7, -3]])"
            ]
          },
          "metadata": {},
          "execution_count": 21
        }
      ]
    },
    {
      "cell_type": "code",
      "source": [
        "3-B == 3*np.ones(B.shape)-B"
      ],
      "metadata": {
        "colab": {
          "base_uri": "https://localhost:8080/"
        },
        "id": "mBvRPYvDE7w7",
        "outputId": "820cbe78-566e-4358-b752-5309c9612d8d"
      },
      "execution_count": 22,
      "outputs": [
        {
          "output_type": "execute_result",
          "data": {
            "text/plain": [
              "array([[ True,  True],\n",
              "       [ True,  True],\n",
              "       [ True,  True]])"
            ]
          },
          "metadata": {},
          "execution_count": 22
        }
      ]
    },
    {
      "cell_type": "markdown",
      "source": [
        "###Element-Wise Multiplication"
      ],
      "metadata": {
        "id": "mGsoMkYvE-So"
      }
    },
    {
      "cell_type": "code",
      "source": [
        "A*B\n",
        "np.multiply(A,B)"
      ],
      "metadata": {
        "colab": {
          "base_uri": "https://localhost:8080/"
        },
        "id": "ojkfP3_BFAKw",
        "outputId": "1b85d642-54c1-403c-e4f7-4a38ddcb4173"
      },
      "execution_count": 23,
      "outputs": [
        {
          "output_type": "execute_result",
          "data": {
            "text/plain": [
              "array([[28, 48],\n",
              "       [ 9, 10],\n",
              "       [18, 18]])"
            ]
          },
          "metadata": {},
          "execution_count": 23
        }
      ]
    },
    {
      "cell_type": "code",
      "source": [
        "2*A"
      ],
      "metadata": {
        "colab": {
          "base_uri": "https://localhost:8080/"
        },
        "id": "QXGIQ_rBFCPP",
        "outputId": "0cb1146f-c527-4083-b91c-41109102f527"
      },
      "execution_count": 24,
      "outputs": [
        {
          "output_type": "execute_result",
          "data": {
            "text/plain": [
              "array([[ 8, 12],\n",
              "       [18,  4],\n",
              "       [18,  6]])"
            ]
          },
          "metadata": {},
          "execution_count": 24
        }
      ]
    },
    {
      "cell_type": "markdown",
      "source": [
        "#Activity"
      ],
      "metadata": {
        "id": "v4MsbK1JFYAS"
      }
    },
    {
      "cell_type": "markdown",
      "source": [
        "##Task 1\n",
        "Create a function named mat_desc() that througouhly describes a matrix, it should:\n",
        "\n",
        "  1. Displays the shape, size, and rank of the matrix.\n",
        "  2. Displays whether the matrix is square or non-square.\n",
        "  3. Displays whether the matrix is an empty matrix.\n",
        "  4. Displays if the matrix is an identity, ones, or zeros matrix\n",
        "\n",
        "Use 5 sample matrices in which their shapes are not lower than (3,3). Create a flowchart discuss the functions and methods you have done. \n",
        "Present your results in the results section showing the description of each matrix you have declared."
      ],
      "metadata": {
        "id": "vkwmx-87FaA4"
      }
    },
    {
      "cell_type": "code",
      "source": [
        "#functions\n",
        "import numpy as np"
      ],
      "metadata": {
        "id": "Xs1aiW63Fbeo"
      },
      "execution_count": 25,
      "outputs": []
    },
    {
      "cell_type": "code",
      "source": [
        "# mat_desc functions and descriptions\n",
        "\n",
        "def mat_desc(mat):\n",
        "  sq = False\n",
        "  mat = np.array(mat)\n",
        "  print(mat)\n",
        "  print('Shape', mat.shape)\n",
        "  print('Size', mat.size)\n",
        "  print('Rank', np.linalg.matrix_rank(mat))\n",
        "  if(mat.shape[0] == mat.shape[1]):\n",
        "    sq = True\n",
        "    print('Square Matrix')\n",
        "  else: \n",
        "    print('Non-Square Matrix')\n",
        "  if(mat.shape[0] == 0 and mat.shape[1] == 0):\n",
        "    print('Empty Matrix')\n",
        "  else:\n",
        "    print('Matrix is not empty')\n",
        "  iden = np.identity(mat.shape[0])\n",
        "  if(sq and (iden == mat).all()):\n",
        "    print('Identity Matrix')\n",
        "  else:\n",
        "    print('Not an Identity Matrix')\n",
        "  one = np.ones((mat.shape[0], mat.shape[1]))\n",
        "  if(one == mat).all ():\n",
        "    print('Ones Matrix')\n",
        "  else:\n",
        "    print('Not a Ones Matrix')\n",
        "  zero = np.zeros((mat.shape[0], mat.shape[1]))\n",
        "  if((zero == mat).all()):\n",
        "    print('Zero Matrix')\n",
        "  else:\n",
        "    print('Non-Zero Matrix')"
      ],
      "metadata": {
        "id": "e7zQuvDpFi1h"
      },
      "execution_count": 26,
      "outputs": []
    },
    {
      "cell_type": "code",
      "source": [
        "print('Matrix A:')\n",
        "mat_desc([\n",
        "    [2, 14, 7],\n",
        "    [1, 3, 8],\n",
        "    [95, 32, 6],\n",
        "    [19, 5, 17]\n",
        "])"
      ],
      "metadata": {
        "colab": {
          "base_uri": "https://localhost:8080/"
        },
        "id": "HGqRjKohFlWy",
        "outputId": "9fc42f8b-ce68-4cb2-9e34-f7e0a504544b"
      },
      "execution_count": 27,
      "outputs": [
        {
          "output_type": "stream",
          "name": "stdout",
          "text": [
            "Matrix A:\n",
            "[[ 2 14  7]\n",
            " [ 1  3  8]\n",
            " [95 32  6]\n",
            " [19  5 17]]\n",
            "Shape (4, 3)\n",
            "Size 12\n",
            "Rank 3\n",
            "Non-Square Matrix\n",
            "Matrix is not empty\n",
            "Not an Identity Matrix\n",
            "Not a Ones Matrix\n",
            "Non-Zero Matrix\n"
          ]
        }
      ]
    },
    {
      "cell_type": "code",
      "source": [
        "print('Matrix B:')\n",
        "mat_desc([\n",
        "    [0, 0, 0, 0],\n",
        "    [0, 0, 0, 0],\n",
        "    [0, 0, 0, 0],\n",
        "    [0, 0, 0, 0],\n",
        "    [0, 0, 0, 0]\n",
        "])"
      ],
      "metadata": {
        "colab": {
          "base_uri": "https://localhost:8080/"
        },
        "id": "BQT3uYfEFoT4",
        "outputId": "4d55d599-e9ee-420c-bbf1-181e25f73503"
      },
      "execution_count": 28,
      "outputs": [
        {
          "output_type": "stream",
          "name": "stdout",
          "text": [
            "Matrix B:\n",
            "[[0 0 0 0]\n",
            " [0 0 0 0]\n",
            " [0 0 0 0]\n",
            " [0 0 0 0]\n",
            " [0 0 0 0]]\n",
            "Shape (5, 4)\n",
            "Size 20\n",
            "Rank 0\n",
            "Non-Square Matrix\n",
            "Matrix is not empty\n",
            "Not an Identity Matrix\n",
            "Not a Ones Matrix\n",
            "Zero Matrix\n"
          ]
        }
      ]
    },
    {
      "cell_type": "code",
      "source": [
        "print('Matrix C:')\n",
        "mat_desc([\n",
        "    [1,1,1,1,1],\n",
        "    [1,1,1,1,1],\n",
        "    [1,1,1,1,1],\n",
        "    [1,1,1,1,1],\n",
        "    [1,1,1,1,1]\n",
        "])"
      ],
      "metadata": {
        "colab": {
          "base_uri": "https://localhost:8080/"
        },
        "id": "kYk_w6xiFrYw",
        "outputId": "eaac1e0e-8ee1-4219-d452-571f3f77e7f0"
      },
      "execution_count": 29,
      "outputs": [
        {
          "output_type": "stream",
          "name": "stdout",
          "text": [
            "Matrix C:\n",
            "[[1 1 1 1 1]\n",
            " [1 1 1 1 1]\n",
            " [1 1 1 1 1]\n",
            " [1 1 1 1 1]\n",
            " [1 1 1 1 1]]\n",
            "Shape (5, 5)\n",
            "Size 25\n",
            "Rank 1\n",
            "Square Matrix\n",
            "Matrix is not empty\n",
            "Not an Identity Matrix\n",
            "Ones Matrix\n",
            "Non-Zero Matrix\n"
          ]
        }
      ]
    },
    {
      "cell_type": "code",
      "source": [
        "print('Matrix D:')\n",
        "mat_desc([\n",
        "    [40, 32, 24, 3, 4, 0],\n",
        "    [11, 8, 52, 25, 89, -2],\n",
        "    [95, 16, 59, 4, 45, 9],\n",
        "    [22, 46, 91, 1, -34, 77],\n",
        "    [31, 36, 2, 96, 51, 95]\n",
        "])"
      ],
      "metadata": {
        "colab": {
          "base_uri": "https://localhost:8080/"
        },
        "id": "a-FPQusaFuSR",
        "outputId": "ab65aab2-6ef7-4dc1-ce4e-f65df92b5b37"
      },
      "execution_count": 30,
      "outputs": [
        {
          "output_type": "stream",
          "name": "stdout",
          "text": [
            "Matrix D:\n",
            "[[ 40  32  24   3   4   0]\n",
            " [ 11   8  52  25  89  -2]\n",
            " [ 95  16  59   4  45   9]\n",
            " [ 22  46  91   1 -34  77]\n",
            " [ 31  36   2  96  51  95]]\n",
            "Shape (5, 6)\n",
            "Size 30\n",
            "Rank 5\n",
            "Non-Square Matrix\n",
            "Matrix is not empty\n",
            "Not an Identity Matrix\n",
            "Not a Ones Matrix\n",
            "Non-Zero Matrix\n"
          ]
        }
      ]
    },
    {
      "cell_type": "code",
      "source": [
        "print('Matrix E:')\n",
        "mat_desc([\n",
        "    [0,1,1,1,1],\n",
        "    [1,1,0,1,1],\n",
        "    [1,1,1,0,1],\n",
        "    [1,1,1,1,0],\n",
        "    [1,1,1,0,1],\n",
        "    [1,1,1,1,1]\n",
        "])"
      ],
      "metadata": {
        "colab": {
          "base_uri": "https://localhost:8080/"
        },
        "id": "Au2iXQ0TFy9Y",
        "outputId": "1fa817fd-1f26-42ac-85b0-b3a64aef4de3"
      },
      "execution_count": 31,
      "outputs": [
        {
          "output_type": "stream",
          "name": "stdout",
          "text": [
            "Matrix E:\n",
            "[[0 1 1 1 1]\n",
            " [1 1 0 1 1]\n",
            " [1 1 1 0 1]\n",
            " [1 1 1 1 0]\n",
            " [1 1 1 0 1]\n",
            " [1 1 1 1 1]]\n",
            "Shape (6, 5)\n",
            "Size 30\n",
            "Rank 5\n",
            "Non-Square Matrix\n",
            "Matrix is not empty\n",
            "Not an Identity Matrix\n",
            "Not a Ones Matrix\n",
            "Non-Zero Matrix\n"
          ]
        }
      ]
    },
    {
      "cell_type": "markdown",
      "source": [
        "##Task 2\n",
        "Create a function named mat_operations() that takes in two matrices a input parameters it should:\n",
        "\n",
        "Determines if the matrices are viable for operation and returns your own error message if they are not viable.\n",
        "Returns the sum of the matrices.\n",
        "Returns the difference of the matrices.\n",
        "Returns the element-wise multiplication of the matrices.\n",
        "Returns the element-wise division of the matrices.\n",
        "Use 3 sample matrices in which their shapes are not lower than (3, 3). In your methodology, create a flowchart discuss the functions and methods you have done. Present your results in the results section showing the description of each matrix you have declared."
      ],
      "metadata": {
        "id": "S7-Ec3VgF2YX"
      }
    },
    {
      "cell_type": "code",
      "source": [
        "import numpy as np\n",
        "import matplotlib.pyplot as plt\n",
        "import scipy.linalg as la\n",
        "%matplotlib inline"
      ],
      "metadata": {
        "id": "phlgThRgF4qQ"
      },
      "execution_count": 32,
      "outputs": []
    },
    {
      "cell_type": "code",
      "source": [
        "# mat_operations function\n",
        "\n",
        "def mat_operations(matrix):\n",
        "  print(f'{matrix}')"
      ],
      "metadata": {
        "id": "_2yIDHLwF7z_"
      },
      "execution_count": 33,
      "outputs": []
    },
    {
      "cell_type": "code",
      "source": [
        "##Creating Matrices\n",
        "RF = int(input('Enter your desired number of rows:'))\n",
        "CF = int(input('Enter your desired number of columns:'))\n",
        "print('\\nEnter',RF*CF, 'values for Matrix F\\n\\t(NOTE: Use space for separating the values entered)\\n\\t(NOTE: Your first ',CF,' number/s will be designated as the first row):')\n",
        "mF = list(map(int, input().split()))\n",
        "mat_F = np.array(mF).reshape(RF, CF)\n",
        "print('\\nMatrix F is:')\n",
        "mat_operations(mat_F)\n",
        "\n",
        "print ('------------------------------------------')\n",
        "\n",
        "RG = int(input('Enter your desired number of rows:'))\n",
        "CG = int(input('Enter your desired number of columns:'))\n",
        "print('\\nEnter',RG*CG, 'values for Matrix G\\n\\t(NOTE: Use space for separating the values entered)\\n\\t(NOTE: Your first ',CG,' number/s will be designated as the first row):')\n",
        "mG = list(map(int, input().split()))\n",
        "mat_G = np.array(mG).reshape(RG, CG)\n",
        "print('\\nMatrix G is:')\n",
        "mat_operations(mat_G)\n",
        "\n",
        "print ('------------------------------------------')\n",
        "\n",
        "RH = int(input('Enter your desired number of rows:'))\n",
        "CH = int(input('Enter your desired number of columns:'))\n",
        "print('\\nEnter',RH*CH, 'values for Matrix H\\n\\t(NOTE: Use space for separating the values entered)\\n\\t(NOTE: Your first ',CH,' number/s will be designated as the first row):')\n",
        "mH = list(map(int, input().split()))\n",
        "mat_H = np.array(mH).reshape(RH, CH)\n",
        "print('\\nMatrix H is:')\n",
        "mat_operations(mat_H)\n",
        "\n",
        "print ('------------------------------------------')\n",
        "\n",
        "RI = int(input('Enter your desired number of rows:'))\n",
        "CI = int(input('Enter your desired number of columns:'))\n",
        "print('\\nEnter',RI*CI, 'values for Matrix I\\n\\t(NOTE: Use space for separating the values entered)\\n\\t(NOTE: Your first ',CI,' number/s will be designated as the first row):')\n",
        "mI = list(map(int, input().split()))\n",
        "mat_I = np.array(mI).reshape(RI, CI)\n",
        "print('\\nMatrix I is:')\n",
        "mat_operations(mat_I)"
      ],
      "metadata": {
        "colab": {
          "base_uri": "https://localhost:8080/"
        },
        "id": "4Iusm2PJGAjJ",
        "outputId": "343b6f1f-53fb-49ee-cf53-b434dfdd09f4"
      },
      "execution_count": 35,
      "outputs": [
        {
          "output_type": "stream",
          "name": "stdout",
          "text": [
            "Enter your desired number of rows:3\n",
            "Enter your desired number of columns:3\n",
            "\n",
            "Enter 9 values for Matrix F\n",
            "\t(NOTE: Use space for separating the values entered)\n",
            "\t(NOTE: Your first  3  number/s will be designated as the first row):\n",
            "1 -22 3 4 52 6 0 8 -19\n",
            "\n",
            "Matrix F is:\n",
            "[[  1 -22   3]\n",
            " [  4  52   6]\n",
            " [  0   8 -19]]\n",
            "------------------------------------------\n",
            "Enter your desired number of rows:4\n",
            "Enter your desired number of columns:4\n",
            "\n",
            "Enter 16 values for Matrix G\n",
            "\t(NOTE: Use space for separating the values entered)\n",
            "\t(NOTE: Your first  4  number/s will be designated as the first row):\n",
            "12 -3 44 76 -9 -8 -4 2 -13 7 -16 21 -5 18 34 51\n",
            "\n",
            "Matrix G is:\n",
            "[[ 12  -3  44  76]\n",
            " [ -9  -8  -4   2]\n",
            " [-13   7 -16  21]\n",
            " [ -5  18  34  51]]\n",
            "------------------------------------------\n",
            "Enter your desired number of rows:5\n",
            "Enter your desired number of columns:4\n",
            "\n",
            "Enter 20 values for Matrix H\n",
            "\t(NOTE: Use space for separating the values entered)\n",
            "\t(NOTE: Your first  4  number/s will be designated as the first row):\n",
            "29 21 23 3 4 6 10 87 -9 34 65 -1 23 0 19 -6 13 22 96 -21\n",
            "\n",
            "Matrix H is:\n",
            "[[ 29  21  23   3]\n",
            " [  4   6  10  87]\n",
            " [ -9  34  65  -1]\n",
            " [ 23   0  19  -6]\n",
            " [ 13  22  96 -21]]\n",
            "------------------------------------------\n",
            "Enter your desired number of rows:4\n",
            "Enter your desired number of columns:4\n",
            "\n",
            "Enter 16 values for Matrix I\n",
            "\t(NOTE: Use space for separating the values entered)\n",
            "\t(NOTE: Your first  4  number/s will be designated as the first row):\n",
            "10 87 -9 34 65 -1 22 3 4 13 22 96 -21 0 12 -2\n",
            "\n",
            "Matrix I is:\n",
            "[[ 10  87  -9  34]\n",
            " [ 65  -1  22   3]\n",
            " [  4  13  22  96]\n",
            " [-21   0  12  -2]]\n"
          ]
        }
      ]
    },
    {
      "cell_type": "code",
      "source": [
        "##Determination of the viability in operation of matrices\n",
        "print('Matrix F:')\n",
        "mat_operations(mat_F)\n",
        "print('Matrix G:')\n",
        "mat_operations(mat_G)\n",
        "result1 = (mat_F.shape == mat_G.shape)\n",
        "if result1:\n",
        "  print('\\nMatrix F and Matrix G are VIABLE for operation')\n",
        "else:\n",
        "  print('\\nMatrix F and Matrix G are NOT VIABLE for operation')\n",
        "\n",
        "print ('------------------------------------------')\n",
        "\n",
        "print('Matrix G:')\n",
        "mat_operations(mat_G)\n",
        "print('Matrix H:')\n",
        "mat_operations(mat_H)\n",
        "result2 = (mat_G.shape == mat_H.shape)\n",
        "if result2:\n",
        "  print('\\nMatrix G and Matrix H are VIABLE for operation')\n",
        "else:\n",
        "  print('\\nMatrix G and Matrix H are NOT VIABLE for operation')\n",
        "\n",
        "print ('------------------------------------------')\n",
        "\n",
        "print('Matrix F:')\n",
        "mat_operations(mat_F)\n",
        "print('Matrix H:')\n",
        "mat_operations(mat_H)\n",
        "result3 = (mat_F.shape == mat_H.shape)\n",
        "if result3:\n",
        "  print('\\nMatrix F and Matrix H are VIABLE for operation')\n",
        "else:\n",
        "  print('\\nMatrix F and Matrix H are NOT VIABLE for operation')\n",
        "\n",
        "print ('------------------------------------------')\n",
        "\n",
        "print('Matrix G:')\n",
        "mat_operations(mat_G)\n",
        "print('Matrix I:')\n",
        "mat_operations(mat_I)\n",
        "result4 = (mat_G.shape == mat_I.shape)\n",
        "if result4:\n",
        "  print('\\nMatrix G and Matrix I are VIABLE for operation')\n",
        "else:\n",
        "  print('\\nMatrix G and Matrix I are NOT VIABLE for operation')"
      ],
      "metadata": {
        "colab": {
          "base_uri": "https://localhost:8080/"
        },
        "id": "x7Qj95y_GjqR",
        "outputId": "a9386e7f-f308-4445-b30c-38c5faca4984"
      },
      "execution_count": 36,
      "outputs": [
        {
          "output_type": "stream",
          "name": "stdout",
          "text": [
            "Matrix F:\n",
            "[[  1 -22   3]\n",
            " [  4  52   6]\n",
            " [  0   8 -19]]\n",
            "Matrix G:\n",
            "[[ 12  -3  44  76]\n",
            " [ -9  -8  -4   2]\n",
            " [-13   7 -16  21]\n",
            " [ -5  18  34  51]]\n",
            "\n",
            "Matrix F and Matrix G are NOT VIABLE for operation\n",
            "------------------------------------------\n",
            "Matrix G:\n",
            "[[ 12  -3  44  76]\n",
            " [ -9  -8  -4   2]\n",
            " [-13   7 -16  21]\n",
            " [ -5  18  34  51]]\n",
            "Matrix H:\n",
            "[[ 29  21  23   3]\n",
            " [  4   6  10  87]\n",
            " [ -9  34  65  -1]\n",
            " [ 23   0  19  -6]\n",
            " [ 13  22  96 -21]]\n",
            "\n",
            "Matrix G and Matrix H are NOT VIABLE for operation\n",
            "------------------------------------------\n",
            "Matrix F:\n",
            "[[  1 -22   3]\n",
            " [  4  52   6]\n",
            " [  0   8 -19]]\n",
            "Matrix H:\n",
            "[[ 29  21  23   3]\n",
            " [  4   6  10  87]\n",
            " [ -9  34  65  -1]\n",
            " [ 23   0  19  -6]\n",
            " [ 13  22  96 -21]]\n",
            "\n",
            "Matrix F and Matrix H are NOT VIABLE for operation\n",
            "------------------------------------------\n",
            "Matrix G:\n",
            "[[ 12  -3  44  76]\n",
            " [ -9  -8  -4   2]\n",
            " [-13   7 -16  21]\n",
            " [ -5  18  34  51]]\n",
            "Matrix I:\n",
            "[[ 10  87  -9  34]\n",
            " [ 65  -1  22   3]\n",
            " [  4  13  22  96]\n",
            " [-21   0  12  -2]]\n",
            "\n",
            "Matrix G and Matrix I are VIABLE for operation\n"
          ]
        }
      ]
    },
    {
      "cell_type": "code",
      "source": [
        "##Sum of the Matrices\n",
        "\n",
        "if result4:\n",
        "  sum_1 = mat_G + mat_I\n",
        "  print('Sum result 1:\\n',sum_1)\n",
        "else:\n",
        "  print(\"Matrix G and Matrix I are not viable for sum operation\")\n",
        "\n",
        "print ('------------------------------------------')\n",
        "if result1:\n",
        "  sum_3 = mat_F + mat_G\n",
        "  print('\\n\\nSum result 2:\\n',sum_3)\n",
        "else:\n",
        "  print(\"Sum result 2: Matrix F and Matrix G are not viable for sum operation\")\n",
        "\n",
        "print ('------------------------------------------')\n",
        "\n",
        "if result3:\n",
        "  sum_2 = mat_F + mat_H\n",
        "  print('\\n\\nSum result 2:\\n',sum_2)\n",
        "else:\n",
        "  print(\"Sum result 3: Matrix F and Matrix H are not viable for sum operation\")\n",
        "\n",
        "print ('------------------------------------------')"
      ],
      "metadata": {
        "colab": {
          "base_uri": "https://localhost:8080/"
        },
        "id": "M16sxhl7GqBo",
        "outputId": "34253d23-697f-40bb-b90e-b4e8d410f45c"
      },
      "execution_count": 37,
      "outputs": [
        {
          "output_type": "stream",
          "name": "stdout",
          "text": [
            "Sum result 1:\n",
            " [[ 22  84  35 110]\n",
            " [ 56  -9  18   5]\n",
            " [ -9  20   6 117]\n",
            " [-26  18  46  49]]\n",
            "------------------------------------------\n",
            "Sum result 2: Matrix F and Matrix G are not viable for sum operation\n",
            "------------------------------------------\n",
            "Sum result 3: Matrix F and Matrix H are not viable for sum operation\n",
            "------------------------------------------\n"
          ]
        }
      ]
    },
    {
      "cell_type": "code",
      "source": [
        "##Difference of the Matrices\n",
        "if result4:\n",
        "  d_1 = mat_G - mat_I\n",
        "  print('Difference result 1:\\n',d_1)\n",
        "else:\n",
        "  print(\"Difference result 1: Matrix G and Matrix I are not viable for differece operation\")\n",
        "\n",
        "print ('------------------------------------------')\n",
        "if result2:\n",
        "  d_2 = mat_G - mat_H\n",
        "  print('Difference result 2:\\n',d_2)\n",
        "else:\n",
        "  print(\"Difference result 2: Matrix G and Matrix H are not viable for difference operation\")\n",
        "\n",
        "print ('------------------------------------------')\n",
        "\n",
        "if result3:\n",
        "  d_3 = mat_F - mat_H\n",
        "  print('\\Difference result 3:\\n',d_2)\n",
        "else:\n",
        "  print(\"Difference result 3: Matrix F and Matrix H are not viable for difference operation\")\n",
        "\n",
        "print ('------------------------------------------')"
      ],
      "metadata": {
        "colab": {
          "base_uri": "https://localhost:8080/"
        },
        "id": "i8J7RRrBGtyF",
        "outputId": "299cbb74-ba1f-4979-c377-9c1d8add3ed9"
      },
      "execution_count": 38,
      "outputs": [
        {
          "output_type": "stream",
          "name": "stdout",
          "text": [
            "Difference result 1:\n",
            " [[  2 -90  53  42]\n",
            " [-74  -7 -26  -1]\n",
            " [-17  -6 -38 -75]\n",
            " [ 16  18  22  53]]\n",
            "------------------------------------------\n",
            "Difference result 2: Matrix G and Matrix H are not viable for difference operation\n",
            "------------------------------------------\n",
            "Difference result 3: Matrix F and Matrix H are not viable for difference operation\n",
            "------------------------------------------\n"
          ]
        }
      ]
    },
    {
      "cell_type": "code",
      "source": [
        "##Element-Wise Multiplication of the Matrices\n",
        "if result2:\n",
        "  m_1 = mat_G * mat_H\n",
        "  print('Multiplication result 1:\\n',m_1)\n",
        "else:\n",
        "  print(\"Multiplication result 1: Matrix G and Matrix H are not viable for element-wise multiplication operation\")\n",
        "\n",
        "print ('------------------------------------------')\n",
        "\n",
        "if result3:\n",
        "  m_2 = mat_F * mat_H\n",
        "  print('Multiplication result 2:\\n',m_2)\n",
        "else:\n",
        "  print(\"Multiplication result 2: Matrix F and Matrix H are not viable for element-wise multiplication operation\")\n",
        "\n",
        "print ('------------------------------------------')\n",
        "\n",
        "if result4:\n",
        "  m_3 = mat_G * mat_I\n",
        "  print('Multiplication result 3:\\n',m_3)\n",
        "else:\n",
        "  print(\"Multiplication result 3: Matrix G and Matrix I are not viable for element-wise multiplication operation\")"
      ],
      "metadata": {
        "colab": {
          "base_uri": "https://localhost:8080/"
        },
        "id": "0DoZazFBG0BB",
        "outputId": "171f90f0-3ef8-4002-deb5-32036e6e7f9e"
      },
      "execution_count": 39,
      "outputs": [
        {
          "output_type": "stream",
          "name": "stdout",
          "text": [
            "Multiplication result 1: Matrix G and Matrix H are not viable for element-wise multiplication operation\n",
            "------------------------------------------\n",
            "Multiplication result 2: Matrix F and Matrix H are not viable for element-wise multiplication operation\n",
            "------------------------------------------\n",
            "Multiplication result 3:\n",
            " [[ 120 -261 -396 2584]\n",
            " [-585    8  -88    6]\n",
            " [ -52   91 -352 2016]\n",
            " [ 105    0  408 -102]]\n"
          ]
        }
      ]
    },
    {
      "cell_type": "code",
      "source": [
        "##Element-Wise Division of the Matrices\n",
        "if result1:\n",
        "  dv_1 = mat_F * mat_G\n",
        "  print('Division result 1:\\n',dv_1)\n",
        "else:\n",
        "  print(\"Division result 1: Matrix F and Matrix G are not viable for element-wise division operation\")\n",
        "\n",
        "print ('------------------------------------------')\n",
        "\n",
        "if result2:\n",
        "  dv_2 = mat_G * mat_H\n",
        "  print('Division result 2:\\n',dv_2)\n",
        "else:\n",
        "  print(\"Division result 2: Matrix G and Matrix H are not viable for element-wise division operation\")\n",
        "\n",
        "print ('------------------------------------------')\n",
        "\n",
        "if result3:\n",
        "  dv_3 = mat_F * mat_H\n",
        "  print('Division result 3:\\n',dv_3)\n",
        "else:\n",
        "  print(\"Division result 3: Matrix F and Matrix H are not viable for element-wise division operation\")\n"
      ],
      "metadata": {
        "colab": {
          "base_uri": "https://localhost:8080/"
        },
        "id": "V-SSdef7G3wh",
        "outputId": "da7f690f-4b16-408c-d567-7db23c54d0a1"
      },
      "execution_count": 40,
      "outputs": [
        {
          "output_type": "stream",
          "name": "stdout",
          "text": [
            "Division result 1: Matrix F and Matrix G are not viable for element-wise division operation\n",
            "------------------------------------------\n",
            "Division result 2: Matrix G and Matrix H are not viable for element-wise division operation\n",
            "------------------------------------------\n",
            "Division result 3: Matrix F and Matrix H are not viable for element-wise division operation\n"
          ]
        }
      ]
    }
  ]
}
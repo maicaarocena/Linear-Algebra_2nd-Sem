{
  "nbformat": 4,
  "nbformat_minor": 0,
  "metadata": {
    "colab": {
      "name": "Assignment 10_Arocena.ipynb",
      "provenance": [],
      "authorship_tag": "ABX9TyMQNCtll4lQbKgmoCqVSiS9",
      "include_colab_link": true
    },
    "kernelspec": {
      "name": "python3",
      "display_name": "Python 3"
    },
    "language_info": {
      "name": "python"
    }
  },
  "cells": [
    {
      "cell_type": "markdown",
      "metadata": {
        "id": "view-in-github",
        "colab_type": "text"
      },
      "source": [
        "<a href=\"https://colab.research.google.com/github/maicaarocena/Linear-Algebra_2nd-Sem/blob/main/Assignment_10_Arocena.ipynb\" target=\"_parent\"><img src=\"https://colab.research.google.com/assets/colab-badge.svg\" alt=\"Open In Colab\"/></a>"
      ]
    },
    {
      "cell_type": "markdown",
      "source": [
        "# Linear Algebra for ChE\n",
        "\n",
        "## Laboratory 10 : Linear Combination and Vector Spaces"
      ],
      "metadata": {
        "id": "ckEHb6DlNlCA"
      }
    },
    {
      "cell_type": "markdown",
      "source": [
        "Now that you have a fundamental knowledge about linear combination, we'll try to visualize it using scientific programming."
      ],
      "metadata": {
        "id": "24NOXunRN0SX"
      }
    },
    {
      "cell_type": "markdown",
      "source": [
        "### Objectives\n",
        "At the end of this activity you will be able to:\n",
        "1. Be familiar with representing linear combinations in the 2-dimensional plane.\n",
        "2. Visualize spans using vector fields in Python.\n",
        "3. Perform vector fields operations using scientific programming."
      ],
      "metadata": {
        "id": "bVZy2AHTN44u"
      }
    },
    {
      "cell_type": "markdown",
      "source": [
        "#Discussion"
      ],
      "metadata": {
        "id": "TLmRd-MaOEHG"
      }
    },
    {
      "cell_type": "code",
      "execution_count": null,
      "metadata": {
        "id": "XuaqniReNf6N"
      },
      "outputs": [],
      "source": [
        "import numpy as np\n",
        "import matplotlib.pyplot as plt\n",
        "%matplotlib inline"
      ]
    },
    {
      "cell_type": "markdown",
      "source": [
        "#Linear Combination\n",
        "It is said that a linear combination is the combination of linear scaling and addition of a vector its bases/components\n",
        "\n",
        "We will try to visualize the vectors and their linear combinations by plotting a sample of real number values for the scalars for the vectors. Let's first try the vectors below:\n",
        "\n",
        "$$A = \\begin{bmatrix}6\\\\ 1\\end{bmatrix}, B = \\begin{bmatrix}9\\\\ 3\\end{bmatrix}$$"
      ],
      "metadata": {
        "id": "NB0e4M80OXyR"
      }
    },
    {
      "cell_type": "code",
      "source": [
        "vectA =  np.array([6,1])\n",
        "vectB =  np.array([9,3])\n",
        "vectB"
      ],
      "metadata": {
        "colab": {
          "base_uri": "https://localhost:8080/"
        },
        "id": "qI71mGh9PZMH",
        "outputId": "72e58367-bb9d-4c78-8c6b-18ed69d512f3"
      },
      "execution_count": null,
      "outputs": [
        {
          "output_type": "execute_result",
          "data": {
            "text/plain": [
              "array([9, 3])"
            ]
          },
          "metadata": {},
          "execution_count": 16
        }
      ]
    },
    {
      "cell_type": "markdown",
      "source": [
        "###Span of single vectors\n",
        "As discussed in the lecture, the span of individual vectors can be represented by a line span. Let's take vector  as an example.\n"
      ],
      "metadata": {
        "id": "WvNIemSoP2-G"
      }
    },
    {
      "cell_type": "markdown",
      "source": [
        "$$A = c\\cdot \\begin{bmatrix} 6\\\\1 \\\\\\end{bmatrix} $$"
      ],
      "metadata": {
        "id": "6qSnR44hX-Kr"
      }
    },
    {
      "cell_type": "code",
      "source": [
        "c = np.arange(-15,15,0.25)\n",
        "\n",
        "plt.scatter(c*vectA[0],c*vectA[1])\n",
        "\n",
        "plt.xlim(-15,15)\n",
        "plt.ylim(-15,15)\n",
        "plt.axhline(y=0, color='k')\n",
        "plt.axvline(x=0, color='k')\n",
        "plt.grid()\n",
        "plt.show()"
      ],
      "metadata": {
        "colab": {
          "base_uri": "https://localhost:8080/",
          "height": 269
        },
        "id": "a_VwqitcQMYN",
        "outputId": "1e946be2-5ed9-423c-8a28-277025467082"
      },
      "execution_count": null,
      "outputs": [
        {
          "output_type": "display_data",
          "data": {
            "text/plain": [
              "<Figure size 432x288 with 1 Axes>"
            ],
            "image/png": "[encoded data removed]"
          },
          "metadata": {
            "needs_background": "light"
          }
        }
      ]
    },
    {
      "cell_type": "code",
      "source": [
        "A = np.array([6, 1])\n",
        "c = np.arange(-15,15,0.25)\n",
        "\n",
        "plt.scatter(A[0],A[1])\n",
        "\n",
        "plt.xlim(-15,15)\n",
        "plt.ylim(-15,15)\n",
        "plt.axhline(y=0, color='k')\n",
        "plt.axvline(x=0, color='k')\n",
        "plt.grid()\n",
        "plt.show()"
      ],
      "metadata": {
        "colab": {
          "base_uri": "https://localhost:8080/",
          "height": 269
        },
        "id": "jtP_FiyoKY_v",
        "outputId": "8dce0754-7eed-4cc5-bfc6-1208d038fabd"
      },
      "execution_count": null,
      "outputs": [
        {
          "output_type": "display_data",
          "data": {
            "text/plain": [
              "<Figure size 432x288 with 1 Axes>"
            ],
            "image/png": "[encoded data removed]"
          },
          "metadata": {
            "needs_background": "light"
          }
        }
      ]
    },
    {
      "cell_type": "markdown",
      "source": [
        "$$B = c\\cdot \\begin{bmatrix} 9\\\\3 \\\\\\end{bmatrix} $$"
      ],
      "metadata": {
        "id": "til6IQ3QX_QZ"
      }
    },
    {
      "cell_type": "code",
      "source": [
        "c = np.arange(-20,20,0.25)\n",
        "\n",
        "plt.scatter(c*vectB[0],c*vectB[1])\n",
        "\n",
        "plt.xlim(-20,20)\n",
        "plt.ylim(-20,20)\n",
        "plt.axhline(y=0, color='k')\n",
        "plt.axvline(x=0, color='k')\n",
        "plt.grid()\n",
        "plt.show()"
      ],
      "metadata": {
        "colab": {
          "base_uri": "https://localhost:8080/",
          "height": 269
        },
        "id": "Z5GG2NwFYEOA",
        "outputId": "c7f0e29b-d637-4331-bf88-cc41a21dcf20"
      },
      "execution_count": null,
      "outputs": [
        {
          "output_type": "display_data",
          "data": {
            "text/plain": [
              "<Figure size 432x288 with 1 Axes>"
            ],
            "image/png": "[encoded data removed]"
          },
          "metadata": {
            "needs_background": "light"
          }
        }
      ]
    },
    {
      "cell_type": "markdown",
      "source": [
        "###Span of a linear combination of vectors\n",
        "So what if we are to plot the span of a linear combination of vectors? We can visualize as a plane on the 2-dimensional coordinate system. Let's take the span of the linear combination below:"
      ],
      "metadata": {
        "id": "jcwVlMS_aHZC"
      }
    },
    {
      "cell_type": "markdown",
      "source": [
        "$$Z = \\begin{Bmatrix} c_1 \\cdot\\begin{bmatrix} 3\\\\0 \\\\\\end{bmatrix}, \n",
        "c_2 \\cdot \\begin{bmatrix} 1\\\\-3 \\\\\\end{bmatrix}\\end{Bmatrix} $$"
      ],
      "metadata": {
        "id": "6gXsU6qPpchc"
      }
    },
    {
      "cell_type": "code",
      "source": [
        "vectA = np.array([3,0])\n",
        "vectB = np.array([1,-3])\n",
        "\n",
        "R = np.arange(-15,15,1.5)\n",
        "\n",
        "c1, c2 = np.meshgrid(R,R)\n",
        "\n",
        "vectR = vectA + vectB\n",
        "spanRx = c1*vectA[0] + c2*vectB[0]\n",
        "spanRy = c1*vectA[1] + c2*vectB[1]\n",
        "##plt.scatter(R*vectA[0],R*vectA[1])\n",
        "##plt.scatter(R*vectB[0],R*vectB[1])\n",
        "plt.scatter(spanRx,spanRy, s=5, alpha=0.75)\n",
        "\n",
        "plt.axhline(y=0, color='k')\n",
        "plt.axvline(x=0, color='k')\n",
        "plt.grid()\n",
        "plt.show()"
      ],
      "metadata": {
        "colab": {
          "base_uri": "https://localhost:8080/",
          "height": 265
        },
        "id": "BMrELnCso2Vs",
        "outputId": "8b1c92ee-00a2-4564-8d39-ab6e28f9f539"
      },
      "execution_count": null,
      "outputs": [
        {
          "output_type": "display_data",
          "data": {
            "text/plain": [
              "<Figure size 432x288 with 1 Axes>"
            ],
            "image/png": "[encoded data removed]"
          },
          "metadata": {
            "needs_background": "light"
          }
        }
      ]
    },
    {
      "cell_type": "code",
      "source": [
        "vectA = np.array([3,0])\n",
        "vectB = np.array([1,-3])\n",
        "\n",
        "R = np.arange(-15,15,1.5)\n",
        "\n",
        "c1, c2 = np.meshgrid(R,R)\n",
        "\n",
        "print(np.meshgrid(R,R))\n",
        "\n",
        "##vectR = vectA + vectB\n",
        "##spanRx = c1*vectA[0] + c2*vectB[0]\n",
        "##spanRy = c1*vectA[1] + c2*vectB[1]\n",
        "##plt.scatter(R*vectA[0],R*vectA[1])\n",
        "##plt.scatter(spanRx,spanRy, s=5, alpha=0.75)\n",
        "\n",
        "##plt.axhline(y=0, color='k')\n",
        "##plt.axvline(x=0, color='k')\n",
        "##plt.grid()\n",
        "##plt.show()"
      ],
      "metadata": {
        "colab": {
          "base_uri": "https://localhost:8080/"
        },
        "id": "wbBCF12tzHKK",
        "outputId": "3afb2b9d-9ca9-4989-9f99-c1d2895059b3"
      },
      "execution_count": null,
      "outputs": [
        {
          "output_type": "stream",
          "name": "stdout",
          "text": [
            "[array([[-15. , -13.5, -12. , -10.5,  -9. ,  -7.5,  -6. ,  -4.5,  -3. ,\n",
            "         -1.5,   0. ,   1.5,   3. ,   4.5,   6. ,   7.5,   9. ,  10.5,\n",
            "         12. ,  13.5],\n",
            "       [-15. , -13.5, -12. , -10.5,  -9. ,  -7.5,  -6. ,  -4.5,  -3. ,\n",
            "         -1.5,   0. ,   1.5,   3. ,   4.5,   6. ,   7.5,   9. ,  10.5,\n",
            "         12. ,  13.5],\n",
            "       [-15. , -13.5, -12. , -10.5,  -9. ,  -7.5,  -6. ,  -4.5,  -3. ,\n",
            "         -1.5,   0. ,   1.5,   3. ,   4.5,   6. ,   7.5,   9. ,  10.5,\n",
            "         12. ,  13.5],\n",
            "       [-15. , -13.5, -12. , -10.5,  -9. ,  -7.5,  -6. ,  -4.5,  -3. ,\n",
            "         -1.5,   0. ,   1.5,   3. ,   4.5,   6. ,   7.5,   9. ,  10.5,\n",
            "         12. ,  13.5],\n",
            "       [-15. , -13.5, -12. , -10.5,  -9. ,  -7.5,  -6. ,  -4.5,  -3. ,\n",
            "         -1.5,   0. ,   1.5,   3. ,   4.5,   6. ,   7.5,   9. ,  10.5,\n",
            "         12. ,  13.5],\n",
            "       [-15. , -13.5, -12. , -10.5,  -9. ,  -7.5,  -6. ,  -4.5,  -3. ,\n",
            "         -1.5,   0. ,   1.5,   3. ,   4.5,   6. ,   7.5,   9. ,  10.5,\n",
            "         12. ,  13.5],\n",
            "       [-15. , -13.5, -12. , -10.5,  -9. ,  -7.5,  -6. ,  -4.5,  -3. ,\n",
            "         -1.5,   0. ,   1.5,   3. ,   4.5,   6. ,   7.5,   9. ,  10.5,\n",
            "         12. ,  13.5],\n",
            "       [-15. , -13.5, -12. , -10.5,  -9. ,  -7.5,  -6. ,  -4.5,  -3. ,\n",
            "         -1.5,   0. ,   1.5,   3. ,   4.5,   6. ,   7.5,   9. ,  10.5,\n",
            "         12. ,  13.5],\n",
            "       [-15. , -13.5, -12. , -10.5,  -9. ,  -7.5,  -6. ,  -4.5,  -3. ,\n",
            "         -1.5,   0. ,   1.5,   3. ,   4.5,   6. ,   7.5,   9. ,  10.5,\n",
            "         12. ,  13.5],\n",
            "       [-15. , -13.5, -12. , -10.5,  -9. ,  -7.5,  -6. ,  -4.5,  -3. ,\n",
            "         -1.5,   0. ,   1.5,   3. ,   4.5,   6. ,   7.5,   9. ,  10.5,\n",
            "         12. ,  13.5],\n",
            "       [-15. , -13.5, -12. , -10.5,  -9. ,  -7.5,  -6. ,  -4.5,  -3. ,\n",
            "         -1.5,   0. ,   1.5,   3. ,   4.5,   6. ,   7.5,   9. ,  10.5,\n",
            "         12. ,  13.5],\n",
            "       [-15. , -13.5, -12. , -10.5,  -9. ,  -7.5,  -6. ,  -4.5,  -3. ,\n",
            "         -1.5,   0. ,   1.5,   3. ,   4.5,   6. ,   7.5,   9. ,  10.5,\n",
            "         12. ,  13.5],\n",
            "       [-15. , -13.5, -12. , -10.5,  -9. ,  -7.5,  -6. ,  -4.5,  -3. ,\n",
            "         -1.5,   0. ,   1.5,   3. ,   4.5,   6. ,   7.5,   9. ,  10.5,\n",
            "         12. ,  13.5],\n",
            "       [-15. , -13.5, -12. , -10.5,  -9. ,  -7.5,  -6. ,  -4.5,  -3. ,\n",
            "         -1.5,   0. ,   1.5,   3. ,   4.5,   6. ,   7.5,   9. ,  10.5,\n",
            "         12. ,  13.5],\n",
            "       [-15. , -13.5, -12. , -10.5,  -9. ,  -7.5,  -6. ,  -4.5,  -3. ,\n",
            "         -1.5,   0. ,   1.5,   3. ,   4.5,   6. ,   7.5,   9. ,  10.5,\n",
            "         12. ,  13.5],\n",
            "       [-15. , -13.5, -12. , -10.5,  -9. ,  -7.5,  -6. ,  -4.5,  -3. ,\n",
            "         -1.5,   0. ,   1.5,   3. ,   4.5,   6. ,   7.5,   9. ,  10.5,\n",
            "         12. ,  13.5],\n",
            "       [-15. , -13.5, -12. , -10.5,  -9. ,  -7.5,  -6. ,  -4.5,  -3. ,\n",
            "         -1.5,   0. ,   1.5,   3. ,   4.5,   6. ,   7.5,   9. ,  10.5,\n",
            "         12. ,  13.5],\n",
            "       [-15. , -13.5, -12. , -10.5,  -9. ,  -7.5,  -6. ,  -4.5,  -3. ,\n",
            "         -1.5,   0. ,   1.5,   3. ,   4.5,   6. ,   7.5,   9. ,  10.5,\n",
            "         12. ,  13.5],\n",
            "       [-15. , -13.5, -12. , -10.5,  -9. ,  -7.5,  -6. ,  -4.5,  -3. ,\n",
            "         -1.5,   0. ,   1.5,   3. ,   4.5,   6. ,   7.5,   9. ,  10.5,\n",
            "         12. ,  13.5],\n",
            "       [-15. , -13.5, -12. , -10.5,  -9. ,  -7.5,  -6. ,  -4.5,  -3. ,\n",
            "         -1.5,   0. ,   1.5,   3. ,   4.5,   6. ,   7.5,   9. ,  10.5,\n",
            "         12. ,  13.5]]), array([[-15. , -15. , -15. , -15. , -15. , -15. , -15. , -15. , -15. ,\n",
            "        -15. , -15. , -15. , -15. , -15. , -15. , -15. , -15. , -15. ,\n",
            "        -15. , -15. ],\n",
            "       [-13.5, -13.5, -13.5, -13.5, -13.5, -13.5, -13.5, -13.5, -13.5,\n",
            "        -13.5, -13.5, -13.5, -13.5, -13.5, -13.5, -13.5, -13.5, -13.5,\n",
            "        -13.5, -13.5],\n",
            "       [-12. , -12. , -12. , -12. , -12. , -12. , -12. , -12. , -12. ,\n",
            "        -12. , -12. , -12. , -12. , -12. , -12. , -12. , -12. , -12. ,\n",
            "        -12. , -12. ],\n",
            "       [-10.5, -10.5, -10.5, -10.5, -10.5, -10.5, -10.5, -10.5, -10.5,\n",
            "        -10.5, -10.5, -10.5, -10.5, -10.5, -10.5, -10.5, -10.5, -10.5,\n",
            "        -10.5, -10.5],\n",
            "       [ -9. ,  -9. ,  -9. ,  -9. ,  -9. ,  -9. ,  -9. ,  -9. ,  -9. ,\n",
            "         -9. ,  -9. ,  -9. ,  -9. ,  -9. ,  -9. ,  -9. ,  -9. ,  -9. ,\n",
            "         -9. ,  -9. ],\n",
            "       [ -7.5,  -7.5,  -7.5,  -7.5,  -7.5,  -7.5,  -7.5,  -7.5,  -7.5,\n",
            "         -7.5,  -7.5,  -7.5,  -7.5,  -7.5,  -7.5,  -7.5,  -7.5,  -7.5,\n",
            "         -7.5,  -7.5],\n",
            "       [ -6. ,  -6. ,  -6. ,  -6. ,  -6. ,  -6. ,  -6. ,  -6. ,  -6. ,\n",
            "         -6. ,  -6. ,  -6. ,  -6. ,  -6. ,  -6. ,  -6. ,  -6. ,  -6. ,\n",
            "         -6. ,  -6. ],\n",
            "       [ -4.5,  -4.5,  -4.5,  -4.5,  -4.5,  -4.5,  -4.5,  -4.5,  -4.5,\n",
            "         -4.5,  -4.5,  -4.5,  -4.5,  -4.5,  -4.5,  -4.5,  -4.5,  -4.5,\n",
            "         -4.5,  -4.5],\n",
            "       [ -3. ,  -3. ,  -3. ,  -3. ,  -3. ,  -3. ,  -3. ,  -3. ,  -3. ,\n",
            "         -3. ,  -3. ,  -3. ,  -3. ,  -3. ,  -3. ,  -3. ,  -3. ,  -3. ,\n",
            "         -3. ,  -3. ],\n",
            "       [ -1.5,  -1.5,  -1.5,  -1.5,  -1.5,  -1.5,  -1.5,  -1.5,  -1.5,\n",
            "         -1.5,  -1.5,  -1.5,  -1.5,  -1.5,  -1.5,  -1.5,  -1.5,  -1.5,\n",
            "         -1.5,  -1.5],\n",
            "       [  0. ,   0. ,   0. ,   0. ,   0. ,   0. ,   0. ,   0. ,   0. ,\n",
            "          0. ,   0. ,   0. ,   0. ,   0. ,   0. ,   0. ,   0. ,   0. ,\n",
            "          0. ,   0. ],\n",
            "       [  1.5,   1.5,   1.5,   1.5,   1.5,   1.5,   1.5,   1.5,   1.5,\n",
            "          1.5,   1.5,   1.5,   1.5,   1.5,   1.5,   1.5,   1.5,   1.5,\n",
            "          1.5,   1.5],\n",
            "       [  3. ,   3. ,   3. ,   3. ,   3. ,   3. ,   3. ,   3. ,   3. ,\n",
            "          3. ,   3. ,   3. ,   3. ,   3. ,   3. ,   3. ,   3. ,   3. ,\n",
            "          3. ,   3. ],\n",
            "       [  4.5,   4.5,   4.5,   4.5,   4.5,   4.5,   4.5,   4.5,   4.5,\n",
            "          4.5,   4.5,   4.5,   4.5,   4.5,   4.5,   4.5,   4.5,   4.5,\n",
            "          4.5,   4.5],\n",
            "       [  6. ,   6. ,   6. ,   6. ,   6. ,   6. ,   6. ,   6. ,   6. ,\n",
            "          6. ,   6. ,   6. ,   6. ,   6. ,   6. ,   6. ,   6. ,   6. ,\n",
            "          6. ,   6. ],\n",
            "       [  7.5,   7.5,   7.5,   7.5,   7.5,   7.5,   7.5,   7.5,   7.5,\n",
            "          7.5,   7.5,   7.5,   7.5,   7.5,   7.5,   7.5,   7.5,   7.5,\n",
            "          7.5,   7.5],\n",
            "       [  9. ,   9. ,   9. ,   9. ,   9. ,   9. ,   9. ,   9. ,   9. ,\n",
            "          9. ,   9. ,   9. ,   9. ,   9. ,   9. ,   9. ,   9. ,   9. ,\n",
            "          9. ,   9. ],\n",
            "       [ 10.5,  10.5,  10.5,  10.5,  10.5,  10.5,  10.5,  10.5,  10.5,\n",
            "         10.5,  10.5,  10.5,  10.5,  10.5,  10.5,  10.5,  10.5,  10.5,\n",
            "         10.5,  10.5],\n",
            "       [ 12. ,  12. ,  12. ,  12. ,  12. ,  12. ,  12. ,  12. ,  12. ,\n",
            "         12. ,  12. ,  12. ,  12. ,  12. ,  12. ,  12. ,  12. ,  12. ,\n",
            "         12. ,  12. ],\n",
            "       [ 13.5,  13.5,  13.5,  13.5,  13.5,  13.5,  13.5,  13.5,  13.5,\n",
            "         13.5,  13.5,  13.5,  13.5,  13.5,  13.5,  13.5,  13.5,  13.5,\n",
            "         13.5,  13.5]])]\n"
          ]
        }
      ]
    },
    {
      "cell_type": "code",
      "source": [
        "vectA = np.array([2,0])\n",
        "vectB = np.array([1,-1])\n",
        "\n",
        "R = np.arange(-15,15,1.5)\n",
        "\n",
        "c1, c2 = np.meshgrid(R,R)\n",
        "\n",
        "vectR = vectA + vectB\n",
        "spanRx = c1*vectA[0] + c2*vectB[0]\n",
        "spanRy = c1*vectA[1] + c2*vectB[1]\n",
        "plt.scatter(R*vectA[0],R*vectA[1])\n",
        "plt.scatter(R*vectB[0],R*vectB[1])\n",
        "#plt.scatter(spanRx,spanRy, s=5, alpha=0.75)\n",
        "\n",
        "plt.axhline(y=0, color='k')\n",
        "plt.axvline(x=0, color='k')\n",
        "plt.grid()\n",
        "plt.show()"
      ],
      "metadata": {
        "colab": {
          "base_uri": "https://localhost:8080/",
          "height": 265
        },
        "id": "Id32w4dM3gAT",
        "outputId": "23a7781d-c65b-43ee-c6c6-22cb6b229b03"
      },
      "execution_count": null,
      "outputs": [
        {
          "output_type": "display_data",
          "data": {
            "text/plain": [
              "<Figure size 432x288 with 1 Axes>"
            ],
            "image/png": "[encoded data removed]"
          },
          "metadata": {
            "needs_background": "light"
          }
        }
      ]
    },
    {
      "cell_type": "code",
      "source": [
        "vectP = np.array([5,1])\n",
        "vectQ = np.array([7,2])\n",
        "\n",
        "R = np.arange(-15,15,1.5)\n",
        "\n",
        "c1, c2 = np.meshgrid(R,R)\n",
        "\n",
        "vectR = vectP + vectQ\n",
        "spanRx = c1*vectP[0] + c2*vectQ[0]\n",
        "spanRy = c1*vectP[1] + c2*vectQ[1]\n",
        "##plt.scatter(R*vectA[0],R*vectA[1])\n",
        "##plt.scatter(R*vectB[0],R*vectB[1])\n",
        "plt.scatter(spanRx,spanRy, s=5, alpha=0.75)\n",
        "\n",
        "plt.axhline(y=0, color='k')\n",
        "plt.axvline(x=0, color='k')\n",
        "plt.grid()\n",
        "plt.show()"
      ],
      "metadata": {
        "colab": {
          "base_uri": "https://localhost:8080/",
          "height": 265
        },
        "id": "0SsKzbezo6fl",
        "outputId": "e9615bcc-7937-497b-9d25-60f761aeafa1"
      },
      "execution_count": null,
      "outputs": [
        {
          "output_type": "display_data",
          "data": {
            "text/plain": [
              "<Figure size 432x288 with 1 Axes>"
            ],
            "image/png": "[encoded data removed]"
          },
          "metadata": {
            "needs_background": "light"
          }
        }
      ]
    },
    {
      "cell_type": "code",
      "source": [
        "vectP = np.array([2,3])\n",
        "vectQ = np.array([1,4])\n",
        "\n",
        "R = np.arange(-10,10,1)\n",
        "\n",
        "c1, c2 = np.meshgrid(R,R)\n",
        "\n",
        "vectR = vectP + vectQ\n",
        "spanRx = c1*vectP[0] + c2*vectQ[0]\n",
        "spanRy = c1*vectP[1] + c2*vectQ[1]\n",
        "##plt.scatter(R*vectA[0],R*vectA[1])\n",
        "##plt.scatter(R*vectB[0],R*vectB[1])\n",
        "plt.scatter(spanRx,spanRy, s=5, alpha=0.75)\n",
        "\n",
        "plt.axhline(y=0, color='k')\n",
        "plt.axvline(x=0, color='k')\n",
        "plt.grid()\n",
        "plt.show()"
      ],
      "metadata": {
        "colab": {
          "base_uri": "https://localhost:8080/",
          "height": 265
        },
        "id": "iy3ZHRZ51wqW",
        "outputId": "f14f3a49-e2fd-4208-b72c-90db683ca066"
      },
      "execution_count": null,
      "outputs": [
        {
          "output_type": "display_data",
          "data": {
            "text/plain": [
              "<Figure size 432x288 with 1 Axes>"
            ],
            "image/png": "[encoded data removed]"
          },
          "metadata": {
            "needs_background": "light"
          }
        }
      ]
    },
    {
      "cell_type": "code",
      "source": [
        "vectP = np.array([2,4])\n",
        "vectQ = np.array([1,2])\n",
        "\n",
        "R = np.arange(-10,10,1)\n",
        "\n",
        "c1, c2 = np.meshgrid(R,R)\n",
        "\n",
        "vectR = vectP + vectQ\n",
        "spanRx = c1*vectP[0] + c2*vectQ[0]\n",
        "spanRy = c1*vectP[1] + c2*vectQ[1]\n",
        "##plt.scatter(R*vectA[0],R*vectA[1])\n",
        "##plt.scatter(R*vectB[0],R*vectB[1])\n",
        "plt.scatter(spanRx,spanRy, s=5, alpha=0.75)\n",
        "\n",
        "plt.axhline(y=0, color='k')\n",
        "plt.axvline(x=0, color='k')\n",
        "plt.grid()\n",
        "plt.show()"
      ],
      "metadata": {
        "colab": {
          "base_uri": "https://localhost:8080/",
          "height": 265
        },
        "id": "tt85Wpnd41Xq",
        "outputId": "45897b0f-9e86-406d-d181-a64be9f069fa"
      },
      "execution_count": null,
      "outputs": [
        {
          "output_type": "display_data",
          "data": {
            "text/plain": [
              "<Figure size 432x288 with 1 Axes>"
            ],
            "image/png": "[encoded data removed]"
          },
          "metadata": {
            "needs_background": "light"
          }
        }
      ]
    },
    {
      "cell_type": "markdown",
      "source": [
        "Take note that if vectors are seen to be as a 2-dimensional span we can say it has a Rank of 2 or $\\mathbb{R}^2$. But if the span of the linear combination of vectors are seen to be like a line, they are said to be <b> linearly dependent </b> and they have a rank of 1 or $\\mathbb{R}^1$."
      ],
      "metadata": {
        "id": "1EeQtICto-N8"
      }
    },
    {
      "cell_type": "markdown",
      "source": [
        "#Activity"
      ],
      "metadata": {
        "id": "c4g2EVwA5jxO"
      }
    },
    {
      "cell_type": "markdown",
      "source": [
        "###Task 1\n",
        "Try different linear combinations using different scalar values. In your methodology discuss the different functions that you have used, the linear equation and vector form of the linear combination, and the flowchart for declaring and displaying linear combinations. Please make sure that your flowchart has only few words and not putting the entire code as it is bad practice. In your results, display and discuss the linear combination visualization you made. You should use the cells below for displaying the equation markdows using LaTeX and your code."
      ],
      "metadata": {
        "id": "_-Pe1AVE5gDl"
      }
    },
    {
      "cell_type": "markdown",
      "source": [
        "$$M = \\begin{Bmatrix}N\\cdot\\begin{bmatrix} 5\\\\3 \\\\\\end{bmatrix}, \n",
        "O\\cdot \\begin{bmatrix} 1\\\\4 \\\\\\end{bmatrix}\\end{Bmatrix} $$"
      ],
      "metadata": {
        "id": "GpIEdBuP5VjN"
      }
    },
    {
      "cell_type": "markdown",
      "source": [
        "$$ X = 5\\hat{x} + 3\\hat{y} \\\\\n",
        "Y = \\hat{x} + 4\\hat{y}\\\\ $$ "
      ],
      "metadata": {
        "id": "phlo0JZZ5WLT"
      }
    },
    {
      "cell_type": "code",
      "source": [
        "X = np.array([5,3])\n",
        "Y = np.array([1,4])\n",
        "#Y = np.array([-1,-3])\n",
        "\n",
        "L = np.arange(-20,20,1)\n",
        "\n",
        "P, Q = np.meshgrid(L,L)\n",
        "\n",
        "vectL = X + Y\n",
        "spanLx = P*X[0] + Q*Y[0]\n",
        "spanLy = P*X[1] + Q*Y[1]\n",
        "plt.scatter(L*X[0],L*Y[1])\n",
        "plt.scatter(L*Y[0],L*Y[1])\n",
        "plt.scatter(spanLx,spanLy, s=0.5, alpha=0.75)\n",
        "plt.axhline(y=0, color='k')\n",
        "plt.axvline(x=0, color='k')\n",
        "plt.grid()\n",
        "plt.show()"
      ],
      "metadata": {
        "colab": {
          "base_uri": "https://localhost:8080/",
          "height": 265
        },
        "id": "BLN4nnbP5aT7",
        "outputId": "22e5243f-f21b-484f-d6af-c6c3db88d73d"
      },
      "execution_count": null,
      "outputs": [
        {
          "output_type": "display_data",
          "data": {
            "text/plain": [
              "<Figure size 432x288 with 1 Axes>"
            ],
            "image/png": "[encoded data removed]"
          },
          "metadata": {
            "needs_background": "light"
          }
        }
      ]
    },
    {
      "cell_type": "markdown",
      "source": [
        "#Conclusion Guide\n",
        "\n",
        "For your conclusion synthesize the concept and application of the laboratory. Briefly discuss what you have learn and achieved in this activity. At the end of your conclusion try to answer the question : \"How can you apply the concept of linear combination in engineering or real-life situations?\"."
      ],
      "metadata": {
        "id": "wA0H0L7A5rF_"
      }
    }
  ]
}